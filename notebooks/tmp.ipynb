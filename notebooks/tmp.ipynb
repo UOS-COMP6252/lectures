{
 "cells": [
  {
   "cell_type": "code",
   "execution_count": 2,
   "metadata": {},
   "outputs": [],
   "source": [
    "import torch\n",
    "import torch.nn as nn"
   ]
  },
  {
   "cell_type": "code",
   "execution_count": 3,
   "metadata": {},
   "outputs": [
    {
     "name": "stdout",
     "output_type": "stream",
     "text": [
      "tensor([[[1., 2.],\n",
      "         [3., 4.]]])\n",
      "tensor([[[ 5.,  6.],\n",
      "         [ 7., 18.]]])\n",
      "torch.Size([2, 1, 2, 2])\n"
     ]
    }
   ],
   "source": [
    "x=torch.ones((2,2),dtype=torch.float32)\n",
    "y=torch.ones((2,2),dtype=torch.float32)*2\n",
    "\n",
    "x=torch.tensor([[1,2],[3,4]],dtype=torch.float32).unsqueeze(0)\n",
    "y=torch.tensor([[5,6],[7,18]],dtype=torch.float32).unsqueeze(0)\n",
    "\n",
    "a=torch.stack([x,y])\n",
    "print(x)\n",
    "print(y)\n",
    "print(a.size())"
   ]
  },
  {
   "cell_type": "code",
   "execution_count": 4,
   "metadata": {},
   "outputs": [
    {
     "name": "stdout",
     "output_type": "stream",
     "text": [
      "tensor([5.7500]) tensor([28.5000])\n"
     ]
    }
   ],
   "source": [
    "with torch.no_grad():\n",
    "    norm=nn.BatchNorm2d(num_features=1,momentum=1)  \n",
    "    b=norm(a)\n",
    "print(norm.running_mean,norm.running_var)"
   ]
  },
  {
   "cell_type": "code",
   "execution_count": 5,
   "metadata": {},
   "outputs": [],
   "source": [
    "var=a.var([0,2,3],unbiased=False)\n",
    "mean=a.mean([0,2,3])\n"
   ]
  },
  {
   "cell_type": "code",
   "execution_count": 6,
   "metadata": {},
   "outputs": [
    {
     "data": {
      "text/plain": [
       "tensor([[[[-0.9512, -0.7509],\n",
       "          [-0.5507, -0.3504]]],\n",
       "\n",
       "\n",
       "        [[[-0.1502,  0.0501],\n",
       "          [ 0.2503,  2.4531]]]])"
      ]
     },
     "execution_count": 6,
     "metadata": {},
     "output_type": "execute_result"
    }
   ],
   "source": [
    "(a-mean)/torch.sqrt(var)"
   ]
  },
  {
   "cell_type": "code",
   "execution_count": 7,
   "metadata": {},
   "outputs": [
    {
     "data": {
      "text/plain": [
       "tensor([[[[-0.9512, -0.7509],\n",
       "          [-0.5507, -0.3504]]],\n",
       "\n",
       "\n",
       "        [[[-0.1502,  0.0501],\n",
       "          [ 0.2503,  2.4531]]]])"
      ]
     },
     "execution_count": 7,
     "metadata": {},
     "output_type": "execute_result"
    }
   ],
   "source": [
    "b"
   ]
  },
  {
   "cell_type": "code",
   "execution_count": 9,
   "metadata": {},
   "outputs": [],
   "source": [
    "ps=norm.named_parameters()"
   ]
  },
  {
   "cell_type": "code",
   "execution_count": 10,
   "metadata": {},
   "outputs": [
    {
     "name": "stdout",
     "output_type": "stream",
     "text": [
      "('weight', Parameter containing:\n",
      "tensor([1.], requires_grad=True))\n",
      "('bias', Parameter containing:\n",
      "tensor([0.], requires_grad=True))\n"
     ]
    }
   ],
   "source": [
    "while True:\n",
    "    try:\n",
    "        p=next(ps)\n",
    "        print(p)\n",
    "    except StopIteration:\n",
    "        break"
   ]
  },
  {
   "cell_type": "code",
   "execution_count": 15,
   "metadata": {},
   "outputs": [
    {
     "data": {
      "text/plain": [
       "tensor([[1.1111, 2.2222],\n",
       "        [3.3333, 4.4444]])"
      ]
     },
     "execution_count": 15,
     "metadata": {},
     "output_type": "execute_result"
    }
   ],
   "source": [
    "a=torch.tensor([[1,2],[3,4]],dtype=torch.float32)\n",
    "drop=nn.Dropout(0.1)\n",
    "b=drop(a)\n",
    "b"
   ]
  },
  {
   "cell_type": "code",
   "execution_count": 17,
   "metadata": {},
   "outputs": [
    {
     "data": {
      "text/plain": [
       "tensor([[1.1111, 2.2222],\n",
       "        [3.3333, 4.4444]])"
      ]
     },
     "execution_count": 17,
     "metadata": {},
     "output_type": "execute_result"
    }
   ],
   "source": [
    "a/0.9"
   ]
  },
  {
   "cell_type": "code",
   "execution_count": null,
   "metadata": {},
   "outputs": [],
   "source": []
  }
 ],
 "metadata": {
  "kernelspec": {
   "display_name": "Python 3",
   "language": "python",
   "name": "python3"
  },
  "language_info": {
   "codemirror_mode": {
    "name": "ipython",
    "version": 3
   },
   "file_extension": ".py",
   "mimetype": "text/x-python",
   "name": "python",
   "nbconvert_exporter": "python",
   "pygments_lexer": "ipython3",
   "version": "3.10.6 (main, Nov 14 2022, 16:10:14) [GCC 11.3.0]"
  },
  "orig_nbformat": 4,
  "vscode": {
   "interpreter": {
    "hash": "916dbcbb3f70747c44a77c7bcd40155683ae19c65e1c03b4aa3499c5328201f1"
   }
  }
 },
 "nbformat": 4,
 "nbformat_minor": 2
}
