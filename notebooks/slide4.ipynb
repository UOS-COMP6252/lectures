{
  "cells": [
    {
      "cell_type": "code",
      "execution_count": 1,
      "metadata": {
        "id": "HTsa4o4TAkhT"
      },
      "outputs": [],
      "source": [
        "import torch\n",
        "import torch.nn as nn\n",
        "import torch.nn.functional as F\n",
        "import torchvision as vision\n",
        "import torchvision.transforms as transforms\n",
        "from torch.utils.data import DataLoader\n",
        "from torch.optim import SGD,Adam"
      ]
    },
    {
      "attachments": {},
      "cell_type": "markdown",
      "metadata": {
        "id": "kYPFD3B_AkhV"
      },
      "source": [
        "## Convolution and Max pooling examples in PyTorch"
      ]
    },
    {
      "cell_type": "markdown",
      "metadata": {
        "id": "Uz5Kfb0dAkhW"
      },
      "source": [
        "Note the following:\n",
        "\n",
        "1. The **depth** of every filter **must** be equal to the number of input channels\n",
        "1. A filter has different values for each input channel\n",
        "1. The convolution operation sums the contributions from all the channels\n",
        "1. Therefore the number of output channels is exactly equal to the number of filters"
      ]
    },
    {
      "cell_type": "code",
      "execution_count": 2,
      "metadata": {
        "id": "pC5PALnrAkhW",
        "outputId": "adc2a9d4-705c-4ffc-f256-44977b3916cf"
      },
      "outputs": [
        {
          "name": "stdout",
          "output_type": "stream",
          "text": [
            "X's size=[2, 2, 3, 3]\n",
            "a[0]=\n",
            "[[1. 1. 1.]\n",
            " [1. 1. 1.]\n",
            " [1. 1. 1.]]\n",
            "a[1]=\n",
            "[[3. 3. 3.]\n",
            " [3. 3. 3.]\n",
            " [3. 3. 3.]]\n"
          ]
        }
      ],
      "source": [
        "# a and b have 1 channel and dimension 4x4\n",
        "a=torch.ones([2,3,3])\n",
        "a[1,:,:]=3.\n",
        "b=torch.ones([2,3,3])\n",
        "# stack a and b together to create a sample of size 2\n",
        "x=torch.stack([a,b])\n",
        "\n",
        "print(\"X's size={}\".format(list(x.size())))\n",
        "print(\"a[0]=\\n{}\".format(a[0].numpy()))\n",
        "print(\"a[1]=\\n{}\".format(a[1].numpy()))"
      ]
    },
    {
      "cell_type": "markdown",
      "metadata": {
        "id": "_SIx-mZkAkhX"
      },
      "source": [
        "Recall dimensions used in the convolution operation.\n",
        "Let $s,i,j,f$ be the number of samples,output height index,output width index, and the filter index respectively. The convolution operation is defined as\n",
        "\\begin{align*}\n",
        "O_{s,f,i,j}=b_f+ \\sum_c\\sum_{m,n}X_{s,c,i+m,j+n}*K_{f,c,m,n}\n",
        "\\end{align*}"
      ]
    },
    {
      "cell_type": "markdown",
      "metadata": {
        "id": "xIuSQUVFAkhX"
      },
      "source": [
        "- The ```c``` dimensions is fixed by the number of channels in the input.\n",
        "- In the case of ```a```, ```b```, and by extension ```x```, the # of channels is 2\n",
        "- In this example we choose 3 filters, each with height and width of 2x2\n",
        "- In Pytorch a convolution layer is created as follows\n",
        "\n",
        "```nn.Conv2d(in_channels=2,out_channels=3,kernel_size=2,bias=False)```\n",
        "- Note that we chose to omit the bias for simplicity"
      ]
    },
    {
      "cell_type": "code",
      "execution_count": 3,
      "metadata": {
        "id": "ACJu2rRDAkhY",
        "outputId": "c3b1d6dc-2041-4769-e247-238dd37ef845"
      },
      "outputs": [
        {
          "name": "stdout",
          "output_type": "stream",
          "text": [
            "filter idx=3,channel=2,height=2,width=2\n"
          ]
        }
      ],
      "source": [
        "# the in_channels must be 2 to match # channels of a and b\n",
        "l=nn.Conv2d(in_channels=2,out_channels=3,kernel_size=2,bias=False)\n",
        "with torch.no_grad():\n",
        "    # all values set to 1 except the second channel to 3 (for all filters)\n",
        "    l.weight.fill_(1.)\n",
        "    l.weight[:,1,:,:].fill_(3.)\n",
        "p=l.parameters()\n",
        "w=next(p)\n",
        "s=w.size()\n",
        "print(\"filter idx={},channel={},height={},width={}\".format(s[0],s[1],s[2],s[3]))"
      ]
    },
    {
      "cell_type": "code",
      "execution_count": 4,
      "metadata": {
        "id": "zmpyXnp-AkhY",
        "outputId": "2e3242b6-167b-489f-b7e8-4d2b0bfe11b5"
      },
      "outputs": [
        {
          "name": "stdout",
          "output_type": "stream",
          "text": [
            "output samples=2,channels=3,height=2,width=2\n"
          ]
        }
      ],
      "source": [
        "d=l(x)\n",
        "s=d.size()\n",
        "print(\"output samples={},channels={},height={},width={}\".format(s[0],s[1],s[2],s[3]))"
      ]
    },
    {
      "cell_type": "markdown",
      "metadata": {
        "id": "xYaFeQ_KAkhY"
      },
      "source": [
        "Consider the output for the first sample (the convolution of ```a```). Since all the kernels are the same we inspect one output channel. Therefore, we are considering the values in ```d[0,0,:,:]```.\n",
        "\n",
        "```a``` has two input channels: the first has values all ones and the second all 3s.\n",
        "The filter has values ones for the first channel and 3s for the second. Since the receptive field is 2x2 then the convolution would result in:\n",
        "\\begin{align*}\n",
        "(1\\times 1+1\\times 1+1\\times 1+1\\times 1)+(3\\times 3+3\\times 3+3\\times 3+3\\times 3)\\\\\n",
        "=40\n",
        "\\end{align*}"
      ]
    },
    {
      "cell_type": "code",
      "execution_count": 5,
      "metadata": {
        "id": "fDC_6T6TAkhY",
        "outputId": "52b44fea-44af-4d29-8da6-bcc0ec999d88"
      },
      "outputs": [
        {
          "name": "stdout",
          "output_type": "stream",
          "text": [
            "[[40. 40.]\n",
            " [40. 40.]]\n"
          ]
        }
      ],
      "source": [
        "# convolution of a\n",
        "print(d[0,0,:,:].detach().numpy())"
      ]
    },
    {
      "cell_type": "markdown",
      "metadata": {
        "id": "Bnw-kMBkAkhZ"
      },
      "source": [
        "The output of the second sample (the convolution of ```b```) is similar\n",
        "\\begin{align*}\n",
        "(1\\times 1+1\\times 1+1\\times 1+1\\times 1)+(1\\times 3+1\\times 3+1\\times 3+1\\times 3)\\\\\n",
        "=16\n",
        "\\end{align*}"
      ]
    },
    {
      "cell_type": "code",
      "execution_count": 6,
      "metadata": {
        "id": "hn0UFROAAkhZ",
        "outputId": "df17a0b4-2f32-4dce-968e-3924705c886d"
      },
      "outputs": [
        {
          "name": "stdout",
          "output_type": "stream",
          "text": [
            "[[16. 16.]\n",
            " [16. 16.]]\n"
          ]
        }
      ],
      "source": [
        "# convolution of b\n",
        "print(d[1,0,:,:].detach().numpy())"
      ]
    },
    {
      "cell_type": "markdown",
      "metadata": {
        "id": "FvLWTu9-AkhZ"
      },
      "source": [
        "### Max pooling\n",
        "\n",
        "- Recall that max pooling with kernel size $h\\times w$ and stride $s$ computes the maximum value of the input in the window $h\\times w$.\n",
        "- It then \"slides\" that window by $s$.\n",
        "- Max pooling is performed in PyTorch using ```nn.MaxPool2d```\n",
        "- Example:\n",
        "- Input is a single channel with size 3x3\n",
        "- By default the kernel is square so specifying 2 means 2x2\n",
        "- By default the stride is the same as the kernel size\n"
      ]
    },
    {
      "cell_type": "code",
      "execution_count": 7,
      "metadata": {
        "id": "1k6horqAAkhZ",
        "outputId": "5ec80124-5ed4-4592-a7ad-2b470bcb2921"
      },
      "outputs": [
        {
          "name": "stdout",
          "output_type": "stream",
          "text": [
            "[[[ 5.]]\n",
            "\n",
            " [[14.]]]\n"
          ]
        }
      ],
      "source": [
        "a=torch.tensor([[1,2,3],[4,5,6],[7,8,9]],dtype=torch.float32)\n",
        "b=torch.tensor([[10,11,12],[13,14,15],[16,17,18]],dtype=torch.float32)\n",
        "# stack a and b together to create a sample of size 2\n",
        "x=torch.stack([a,b])\n",
        "\n",
        "# By default a square kernel so 2 is the same as 2x2\n",
        "# If the stride is not specified it defaults to kernel size\n",
        "maxpool=nn.MaxPool2d(2)\n",
        "y=maxpool(x)\n",
        "print(y.numpy())"
      ]
    },
    {
      "attachments": {},
      "cell_type": "markdown",
      "metadata": {
        "id": "0SrSs9S1AkhZ"
      },
      "source": [
        "- Notice how the above has a single value. \n",
        "- Because when a stride of 2 (the default) is applied, the kernel \"overshoots\" the input \n",
        "- Figure below represents the computation for \"sample\" ```a```\n",
        "- Therefore only a single computation is done"
      ]
    },
    {
      "attachments": {},
      "cell_type": "markdown",
      "metadata": {},
      "source": [
        "![fig.png](data:image/png;base64,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)"
      ]
    },
    {
      "attachments": {},
      "cell_type": "markdown",
      "metadata": {},
      "source": [
        "- What if we changed the stride to 1?\n",
        "- The obtained values are easy to interpret with the help of the image above"
      ]
    },
    {
      "cell_type": "code",
      "execution_count": 8,
      "metadata": {
        "id": "r9seTQk4AqM-"
      },
      "outputs": [
        {
          "name": "stdout",
          "output_type": "stream",
          "text": [
            "tensor([[[ 5.,  6.],\n",
            "         [ 8.,  9.]],\n",
            "\n",
            "        [[14., 15.],\n",
            "         [17., 18.]]])\n"
          ]
        }
      ],
      "source": [
        "maxpool=nn.MaxPool2d(kernel_size=2,stride=1)\n",
        "y=maxpool(x)\n",
        "print(y)"
      ]
    },
    {
      "attachments": {},
      "cell_type": "markdown",
      "metadata": {},
      "source": [
        "### Convolution Network for CIFAR10"
      ]
    },
    {
      "cell_type": "code",
      "execution_count": 9,
      "metadata": {},
      "outputs": [
        {
          "data": {
            "text/plain": [
              "<torch._C.Generator at 0x7f963c079ef0>"
            ]
          },
          "execution_count": 9,
          "metadata": {},
          "output_type": "execute_result"
        }
      ],
      "source": [
        "# to ensure some reproducibility \n",
        "torch.manual_seed(9)"
      ]
    },
    {
      "cell_type": "code",
      "execution_count": 10,
      "metadata": {},
      "outputs": [
        {
          "name": "stdout",
          "output_type": "stream",
          "text": [
            "Files already downloaded and verified\n",
            "Files already downloaded and verified\n"
          ]
        }
      ],
      "source": [
        "transform = transforms.ToTensor()\n",
        "dataset_train=vision.datasets.CIFAR10(\".\",download=True,train=True,transform=transform)\n",
        "dataset_test=vision.datasets.CIFAR10(\".\",download=True,train=False,transform=transform)\n",
        "loader_train=DataLoader(dataset_train,batch_size=64,shuffle=True,num_workers=2)\n",
        "loader_test=DataLoader(dataset_test,batch_size=512,shuffle=False)"
      ]
    },
    {
      "cell_type": "code",
      "execution_count": 11,
      "metadata": {},
      "outputs": [],
      "source": [
        "class Net(nn.Module):\n",
        "  def __init__(self):\n",
        "    super().__init__()\n",
        "    # input is (*,3,32,32)\n",
        "    self.conv1=nn.Conv2d(in_channels=3,out_channels=32,kernel_size=3)\n",
        "    self.relu=nn.ReLU()\n",
        "    # input is (*,32,30,30)\n",
        "    self.pool1=nn.MaxPool2d(kernel_size=(2,2))\n",
        "    # input is (*,32,15,15)\n",
        "    self.conv2=nn.Conv2d(in_channels=32,out_channels=64,kernel_size=3)\n",
        "    # input is (*,64,13,13)\n",
        "    self.pool2=nn.MaxPool2d(kernel_size=(2,2))\n",
        "    # input is (*,64,6,6)\n",
        "    self.conv3=nn.Conv2d(in_channels=64,out_channels=64,kernel_size=3)\n",
        "    # input is (*,64,4,4)\n",
        "    self.pool3=nn.MaxPool2d(kernel_size=(2,2))\n",
        "    # input is (*,64,2,2)\n",
        "    self.flatten=nn.Flatten()\n",
        "    # input is (*,64x2x2)\n",
        "    self.fc1=nn.Linear(in_features=2*2*64,out_features=64)\n",
        "    self.fc2=nn.Linear(in_features=64,out_features=10)\n",
        "\n",
        "  def forward(self,x):\n",
        "    x=self.conv1(x)\n",
        "    x=self.relu(x)\n",
        "    x=self.pool1(x)\n",
        "\n",
        "    x=self.conv2(x)\n",
        "    x=self.relu(x)\n",
        "    x=self.pool2(x)\n",
        "    \n",
        "    x=self.conv3(x)\n",
        "    x=self.relu(x)\n",
        "    x=self.pool3(x)\n",
        "    \n",
        "    x=self.flatten(x)\n",
        "    x=self.fc1(x)\n",
        "    x=self.relu(x)\n",
        "    x=self.fc2(x)\n",
        "    return x\n",
        "    "
      ]
    },
    {
      "cell_type": "code",
      "execution_count": 12,
      "metadata": {},
      "outputs": [],
      "source": [
        "class Net2(nn.Module):\n",
        "  def __init__(self):\n",
        "    super().__init__()\n",
        "    # input is (*,3,32,32)\n",
        "    self.conv1=nn.Conv2d(in_channels=3,out_channels=32,kernel_size=3)\n",
        "    self.relu=nn.ReLU()\n",
        "    # input is (*,32,30,30)\n",
        "    self.conv2=nn.Conv2d(in_channels=32,out_channels=32,kernel_size=3)\n",
        "    # input is (*,32,28,28)\n",
        "    self.pool1=nn.MaxPool2d(kernel_size=(2,2))\n",
        "    # input is (*,32,14,14)\n",
        "    self.conv3=nn.Conv2d(in_channels=32,out_channels=64,kernel_size=3)\n",
        "    # input is (*,64,12,12)\n",
        "    self.conv4=nn.Conv2d(in_channels=64,out_channels=64,kernel_size=3)\n",
        "    # input is (*,64,10,10)\n",
        "    self.pool2=nn.MaxPool2d(kernel_size=(2,2))\n",
        "    # input is (*,64,5,5)\n",
        "    self.flatten=nn.Flatten()\n",
        "    # input is (*,64x5x5)\n",
        "    self.fc1=nn.Linear(in_features=5*5*64,out_features=128)\n",
        "    self.fc2=nn.Linear(in_features=128,out_features=10)\n",
        "\n",
        "  def forward(self,x):\n",
        "    x=self.conv1(x)\n",
        "    x=self.relu(x)\n",
        "    x=self.conv2(x)\n",
        "    x=self.relu(x)\n",
        "    x=self.pool1(x)\n",
        "    \n",
        "    x=self.conv3(x)\n",
        "    x=self.relu(x)\n",
        "    x=self.conv4(x)\n",
        "    x=self.relu(x)\n",
        "    x=self.pool2(x)\n",
        "    \n",
        "    x=self.flatten(x)\n",
        "    x=self.fc1(x)\n",
        "    x=self.relu(x)\n",
        "    x=self.fc2(x)\n",
        "    return x\n",
        "    "
      ]
    },
    {
      "cell_type": "code",
      "execution_count": 13,
      "metadata": {},
      "outputs": [],
      "source": [
        "def get_accuracy(dataloader,model):\n",
        "  total=len(dataloader.dataset.data)\n",
        "  correct=0\n",
        "  for data in dataloader:\n",
        "    imgs,labels=data\n",
        "    imgs=imgs.cuda()\n",
        "    labels=labels.cuda()\n",
        "    outputs=model(imgs)\n",
        "  # the second return value is the index of the max i.e. argmax\n",
        "    _,predicted=torch.max(outputs.data,1)\n",
        "    correct+=(predicted==labels).sum()\n",
        "  \n",
        "\n",
        "  return (correct/total).item()"
      ]
    },
    {
      "cell_type": "code",
      "execution_count": 14,
      "metadata": {},
      "outputs": [],
      "source": [
        "model=Net2().cuda()\n",
        "optimizer=Adam(model.parameters())\n",
        "loss_fn=nn.CrossEntropyLoss()"
      ]
    },
    {
      "cell_type": "code",
      "execution_count": 15,
      "metadata": {},
      "outputs": [],
      "source": [
        "import datetime\n",
        "from torch.utils.tensorboard import SummaryWriter\n",
        "# To display tensorboard inside the notebook\n",
        "%load_ext tensorboard\n",
        "current_time = str(datetime.datetime.now().timestamp())\n",
        "log_dir = 'logs/tensorboard/' + current_time\n",
        "writer=SummaryWriter(log_dir)"
      ]
    },
    {
      "cell_type": "code",
      "execution_count": 16,
      "metadata": {},
      "outputs": [
        {
          "name": "stderr",
          "output_type": "stream",
          "text": [
            "Epoch [1/100]: 100%|██████████| 782/782 [00:03<00:00, 206.81it/s, loss=1.37]\n",
            "Epoch [2/100]: 100%|██████████| 782/782 [00:03<00:00, 235.80it/s, loss=1.11]\n",
            "Epoch [3/100]: 100%|██████████| 782/782 [00:03<00:00, 236.47it/s, loss=0.984]\n",
            "Epoch [4/100]: 100%|██████████| 782/782 [00:03<00:00, 239.00it/s, loss=0.863]\n",
            "Epoch [5/100]: 100%|██████████| 782/782 [00:03<00:00, 238.19it/s, loss=0.905]\n",
            "Epoch [6/100]: 100%|██████████| 782/782 [00:03<00:00, 238.52it/s, loss=0.83] \n",
            "Epoch [7/100]: 100%|██████████| 782/782 [00:03<00:00, 235.45it/s, loss=0.793]\n",
            "Epoch [8/100]: 100%|██████████| 782/782 [00:03<00:00, 218.48it/s, loss=0.732]\n",
            "Epoch [9/100]: 100%|██████████| 782/782 [00:03<00:00, 221.95it/s, loss=0.666]\n",
            "Epoch [10/100]: 100%|██████████| 782/782 [00:03<00:00, 219.40it/s, loss=0.632]\n",
            "Epoch [11/100]: 100%|██████████| 782/782 [00:03<00:00, 218.93it/s, loss=0.667]\n",
            "Epoch [12/100]: 100%|██████████| 782/782 [00:03<00:00, 222.43it/s, loss=0.577]\n",
            "Epoch [13/100]: 100%|██████████| 782/782 [00:03<00:00, 221.22it/s, loss=0.533]\n",
            "Epoch [14/100]: 100%|██████████| 782/782 [00:03<00:00, 220.38it/s, loss=0.459]\n",
            "Epoch [15/100]: 100%|██████████| 782/782 [00:03<00:00, 219.88it/s, loss=0.456]\n",
            "Epoch [16/100]: 100%|██████████| 782/782 [00:03<00:00, 219.96it/s, loss=0.449]\n",
            "Epoch [17/100]: 100%|██████████| 782/782 [00:03<00:00, 219.66it/s, loss=0.438]\n",
            "Epoch [18/100]: 100%|██████████| 782/782 [00:03<00:00, 220.00it/s, loss=0.421]\n",
            "Epoch [19/100]: 100%|██████████| 782/782 [00:03<00:00, 217.84it/s, loss=0.358]\n",
            "Epoch [20/100]: 100%|██████████| 782/782 [00:03<00:00, 218.42it/s, loss=0.333]\n",
            "Epoch [21/100]: 100%|██████████| 782/782 [00:03<00:00, 218.85it/s, loss=0.423]\n",
            "Epoch [22/100]: 100%|██████████| 782/782 [00:03<00:00, 216.91it/s, loss=0.314]\n",
            "Epoch [23/100]: 100%|██████████| 782/782 [00:03<00:00, 217.30it/s, loss=0.337]\n",
            "Epoch [24/100]: 100%|██████████| 782/782 [00:03<00:00, 218.89it/s, loss=0.287]\n",
            "Epoch [25/100]: 100%|██████████| 782/782 [00:03<00:00, 216.58it/s, loss=0.331]\n",
            "Epoch [26/100]: 100%|██████████| 782/782 [00:03<00:00, 216.32it/s, loss=0.319]\n",
            "Epoch [27/100]: 100%|██████████| 782/782 [00:03<00:00, 216.61it/s, loss=0.223]\n",
            "Epoch [28/100]: 100%|██████████| 782/782 [00:03<00:00, 216.58it/s, loss=0.258]\n",
            "Epoch [29/100]: 100%|██████████| 782/782 [00:03<00:00, 215.49it/s, loss=0.263]\n",
            "Epoch [30/100]: 100%|██████████| 782/782 [00:03<00:00, 215.46it/s, loss=0.262]\n",
            "Epoch [31/100]: 100%|██████████| 782/782 [00:03<00:00, 216.33it/s, loss=0.225]\n",
            "Epoch [32/100]: 100%|██████████| 782/782 [00:03<00:00, 215.66it/s, loss=0.19] \n",
            "Epoch [33/100]: 100%|██████████| 782/782 [00:03<00:00, 215.50it/s, loss=0.171]\n",
            "Epoch [34/100]: 100%|██████████| 782/782 [00:03<00:00, 212.62it/s, loss=0.161]\n",
            "Epoch [35/100]: 100%|██████████| 782/782 [00:03<00:00, 213.47it/s, loss=0.209]\n",
            "Epoch [36/100]: 100%|██████████| 782/782 [00:03<00:00, 214.95it/s, loss=0.202]\n",
            "Epoch [37/100]: 100%|██████████| 782/782 [00:03<00:00, 215.31it/s, loss=0.2]   \n",
            "Epoch [38/100]: 100%|██████████| 782/782 [00:03<00:00, 213.89it/s, loss=0.149] \n",
            "Epoch [39/100]: 100%|██████████| 782/782 [00:03<00:00, 213.54it/s, loss=0.228] \n",
            "Epoch [40/100]: 100%|██████████| 782/782 [00:03<00:00, 211.48it/s, loss=0.151] \n",
            "Epoch [41/100]: 100%|██████████| 782/782 [00:03<00:00, 212.64it/s, loss=0.173] \n",
            "Epoch [42/100]: 100%|██████████| 782/782 [00:03<00:00, 212.88it/s, loss=0.151] \n",
            "Epoch [43/100]: 100%|██████████| 782/782 [00:03<00:00, 212.05it/s, loss=0.135] \n",
            "Epoch [44/100]: 100%|██████████| 782/782 [00:03<00:00, 212.63it/s, loss=0.146] \n",
            "Epoch [45/100]: 100%|██████████| 782/782 [00:03<00:00, 212.55it/s, loss=0.143] \n",
            "Epoch [46/100]: 100%|██████████| 782/782 [00:03<00:00, 210.69it/s, loss=0.151] \n",
            "Epoch [47/100]: 100%|██████████| 782/782 [00:03<00:00, 210.90it/s, loss=0.194] \n",
            "Epoch [48/100]: 100%|██████████| 782/782 [00:03<00:00, 210.71it/s, loss=0.116] \n",
            "Epoch [49/100]: 100%|██████████| 782/782 [00:03<00:00, 211.23it/s, loss=0.18]  \n",
            "Epoch [50/100]: 100%|██████████| 782/782 [00:03<00:00, 210.77it/s, loss=0.163] \n",
            "Epoch [51/100]: 100%|██████████| 782/782 [00:03<00:00, 209.74it/s, loss=0.0839]\n",
            "Epoch [52/100]: 100%|██████████| 782/782 [00:03<00:00, 209.07it/s, loss=0.118] \n",
            "Epoch [53/100]: 100%|██████████| 782/782 [00:03<00:00, 208.28it/s, loss=0.113] \n",
            "Epoch [54/100]: 100%|██████████| 782/782 [00:03<00:00, 210.34it/s, loss=0.129] \n",
            "Epoch [55/100]: 100%|██████████| 782/782 [00:03<00:00, 207.70it/s, loss=0.144] \n",
            "Epoch [56/100]: 100%|██████████| 782/782 [00:03<00:00, 208.83it/s, loss=0.114] \n",
            "Epoch [57/100]: 100%|██████████| 782/782 [00:03<00:00, 207.64it/s, loss=0.117] \n",
            "Epoch [58/100]: 100%|██████████| 782/782 [00:03<00:00, 207.77it/s, loss=0.1]   \n",
            "Epoch [59/100]: 100%|██████████| 782/782 [00:03<00:00, 209.14it/s, loss=0.124] \n",
            "Epoch [60/100]: 100%|██████████| 782/782 [00:03<00:00, 209.09it/s, loss=0.152] \n",
            "Epoch [61/100]: 100%|██████████| 782/782 [00:03<00:00, 207.48it/s, loss=0.122] \n",
            "Epoch [62/100]: 100%|██████████| 782/782 [00:03<00:00, 207.12it/s, loss=0.122] \n",
            "Epoch [63/100]: 100%|██████████| 782/782 [00:03<00:00, 206.70it/s, loss=0.194] \n",
            "Epoch [64/100]: 100%|██████████| 782/782 [00:03<00:00, 206.38it/s, loss=0.123] \n",
            "Epoch [65/100]: 100%|██████████| 782/782 [00:03<00:00, 207.10it/s, loss=0.0926]\n",
            "Epoch [66/100]: 100%|██████████| 782/782 [00:03<00:00, 208.20it/s, loss=0.141] \n",
            "Epoch [67/100]: 100%|██████████| 782/782 [00:03<00:00, 205.77it/s, loss=0.0817]\n",
            "Epoch [68/100]: 100%|██████████| 782/782 [00:03<00:00, 209.71it/s, loss=0.109] \n",
            "Epoch [69/100]: 100%|██████████| 782/782 [00:03<00:00, 208.22it/s, loss=0.0961]\n",
            "Epoch [70/100]: 100%|██████████| 782/782 [00:03<00:00, 206.60it/s, loss=0.112] \n",
            "Epoch [71/100]: 100%|██████████| 782/782 [00:03<00:00, 208.80it/s, loss=0.0961]\n",
            "Epoch [72/100]: 100%|██████████| 782/782 [00:03<00:00, 204.37it/s, loss=0.0673]\n",
            "Epoch [73/100]: 100%|██████████| 782/782 [00:03<00:00, 207.20it/s, loss=0.124] \n",
            "Epoch [74/100]: 100%|██████████| 782/782 [00:03<00:00, 207.02it/s, loss=0.0944]\n",
            "Epoch [75/100]: 100%|██████████| 782/782 [00:03<00:00, 206.90it/s, loss=0.158] \n",
            "Epoch [76/100]: 100%|██████████| 782/782 [00:03<00:00, 206.47it/s, loss=0.115] \n",
            "Epoch [77/100]: 100%|██████████| 782/782 [00:03<00:00, 207.93it/s, loss=0.0995]\n",
            "Epoch [78/100]: 100%|██████████| 782/782 [00:03<00:00, 209.38it/s, loss=0.0834]\n",
            "Epoch [79/100]: 100%|██████████| 782/782 [00:03<00:00, 207.77it/s, loss=0.0597]\n",
            "Epoch [80/100]: 100%|██████████| 782/782 [00:03<00:00, 210.62it/s, loss=0.153] \n",
            "Epoch [81/100]: 100%|██████████| 782/782 [00:03<00:00, 208.90it/s, loss=0.152] \n",
            "Epoch [82/100]: 100%|██████████| 782/782 [00:03<00:00, 210.35it/s, loss=0.205] \n",
            "Epoch [83/100]: 100%|██████████| 782/782 [00:03<00:00, 214.27it/s, loss=0.0543]\n",
            "Epoch [84/100]: 100%|██████████| 782/782 [00:03<00:00, 211.30it/s, loss=0.0689]\n",
            "Epoch [85/100]: 100%|██████████| 782/782 [00:03<00:00, 213.58it/s, loss=0.169] \n",
            "Epoch [86/100]: 100%|██████████| 782/782 [00:03<00:00, 213.12it/s, loss=0.079] \n",
            "Epoch [87/100]: 100%|██████████| 782/782 [00:03<00:00, 213.69it/s, loss=0.0704]\n",
            "Epoch [88/100]: 100%|██████████| 782/782 [00:03<00:00, 212.56it/s, loss=0.124] \n",
            "Epoch [89/100]: 100%|██████████| 782/782 [00:03<00:00, 212.78it/s, loss=0.0739]\n",
            "Epoch [90/100]: 100%|██████████| 782/782 [00:03<00:00, 212.43it/s, loss=0.0654]\n",
            "Epoch [91/100]: 100%|██████████| 782/782 [00:03<00:00, 214.92it/s, loss=0.0745]\n",
            "Epoch [92/100]: 100%|██████████| 782/782 [00:03<00:00, 212.04it/s, loss=0.055] \n",
            "Epoch [93/100]: 100%|██████████| 782/782 [00:03<00:00, 213.39it/s, loss=0.0758]\n",
            "Epoch [94/100]: 100%|██████████| 782/782 [00:03<00:00, 214.28it/s, loss=0.0933]\n",
            "Epoch [95/100]: 100%|██████████| 782/782 [00:03<00:00, 213.98it/s, loss=0.0749]\n",
            "Epoch [96/100]: 100%|██████████| 782/782 [00:03<00:00, 212.54it/s, loss=0.128] \n",
            "Epoch [97/100]: 100%|██████████| 782/782 [00:03<00:00, 216.83it/s, loss=0.0928]\n",
            "Epoch [98/100]: 100%|██████████| 782/782 [00:03<00:00, 212.84it/s, loss=0.0685]\n",
            "Epoch [99/100]: 100%|██████████| 782/782 [00:03<00:00, 213.69it/s, loss=0.0865]\n",
            "Epoch [100/100]: 100%|██████████| 782/782 [00:03<00:00, 213.87it/s, loss=0.102] \n"
          ]
        }
      ],
      "source": [
        "epochs=100\n",
        "from tqdm import tqdm\n",
        "for epoch in range(epochs):\n",
        "  loop=tqdm(loader_train)\n",
        "  loop.set_description(f\"Epoch [{epoch+1}/{epochs}]\")\n",
        "  epoch_loss=0.\n",
        "  for (imgs,labels) in loop:\n",
        "    optimizer.zero_grad()\n",
        "    imgs=imgs.cuda()\n",
        "    labels=labels.cuda()\n",
        "    outputs=model(imgs)\n",
        "    loss=loss_fn(outputs,labels)\n",
        "    loss.backward()\n",
        "    optimizer.step()\n",
        "    epoch_loss=0.9*epoch_loss+0.1*loss.item()\n",
        "    loop.set_postfix(loss=epoch_loss)\n",
        "   \n",
        "  acc=get_accuracy(loader_test,model)\n",
        "  writer.add_scalar(\"loss\",epoch_loss,epoch)\n",
        "  writer.add_scalar(\"acc\",acc,epoch)\n",
        "writer.close()   "
      ]
    },
    {
      "cell_type": "code",
      "execution_count": 17,
      "metadata": {},
      "outputs": [
        {
          "data": {
            "text/html": [
              "\n",
              "      <iframe id=\"tensorboard-frame-152903c9276f96b7\" width=\"100%\" height=\"800\" frameborder=\"0\">\n",
              "      </iframe>\n",
              "      <script>\n",
              "        (function() {\n",
              "          const frame = document.getElementById(\"tensorboard-frame-152903c9276f96b7\");\n",
              "          const url = new URL(\"/\", window.location);\n",
              "          const port = 6006;\n",
              "          if (port) {\n",
              "            url.port = port;\n",
              "          }\n",
              "          frame.src = url;\n",
              "        })();\n",
              "      </script>\n",
              "    "
            ],
            "text/plain": [
              "<IPython.core.display.HTML object>"
            ]
          },
          "metadata": {},
          "output_type": "display_data"
        }
      ],
      "source": [
        "%tensorboard --logdir logs/tensorboard"
      ]
    },
    {
      "cell_type": "code",
      "execution_count": 18,
      "metadata": {},
      "outputs": [
        {
          "name": "stdout",
          "output_type": "stream",
          "text": [
            "Defaulting to user installation because normal site-packages is not writeable\n",
            "Requirement already satisfied: torchmetrics in /home/user/.local/lib/python3.10/site-packages (0.10.2)\n",
            "Requirement already satisfied: packaging in /home/user/.local/lib/python3.10/site-packages (from torchmetrics) (21.3)\n",
            "Requirement already satisfied: torch>=1.3.1 in /usr/local/lib/python3.10/dist-packages (from torchmetrics) (1.13.0)\n",
            "Requirement already satisfied: numpy>=1.17.2 in /usr/local/lib/python3.10/dist-packages (from torchmetrics) (1.23.4)\n",
            "Requirement already satisfied: nvidia-cublas-cu11==11.10.3.66 in /usr/local/lib/python3.10/dist-packages (from torch>=1.3.1->torchmetrics) (11.10.3.66)\n",
            "Requirement already satisfied: nvidia-cuda-runtime-cu11==11.7.99 in /usr/local/lib/python3.10/dist-packages (from torch>=1.3.1->torchmetrics) (11.7.99)\n",
            "Requirement already satisfied: typing-extensions in /usr/local/lib/python3.10/dist-packages (from torch>=1.3.1->torchmetrics) (4.4.0)\n",
            "Requirement already satisfied: nvidia-cuda-nvrtc-cu11==11.7.99 in /usr/local/lib/python3.10/dist-packages (from torch>=1.3.1->torchmetrics) (11.7.99)\n",
            "Requirement already satisfied: nvidia-cudnn-cu11==8.5.0.96 in /usr/local/lib/python3.10/dist-packages (from torch>=1.3.1->torchmetrics) (8.5.0.96)\n",
            "Requirement already satisfied: wheel in /usr/lib/python3/dist-packages (from nvidia-cublas-cu11==11.10.3.66->torch>=1.3.1->torchmetrics) (0.37.1)\n",
            "Requirement already satisfied: setuptools in /usr/lib/python3/dist-packages (from nvidia-cublas-cu11==11.10.3.66->torch>=1.3.1->torchmetrics) (59.6.0)\n",
            "Requirement already satisfied: pyparsing!=3.0.5,>=2.0.2 in /usr/lib/python3/dist-packages (from packaging->torchmetrics) (2.4.7)\n"
          ]
        }
      ],
      "source": [
        "!pip install torchmetrics\n",
        "from torchmetrics import ConfusionMatrix\n",
        "conmat=ConfusionMatrix(num_classes=10)\n",
        "conmat=conmat.cuda()"
      ]
    },
    {
      "cell_type": "code",
      "execution_count": 19,
      "metadata": {},
      "outputs": [],
      "source": [
        "total=0\n",
        "correct=0\n",
        "for data in loader_test:\n",
        "  imgs,labels=data\n",
        "  imgs=imgs.cuda()\n",
        "  labels=labels.cuda()\n",
        "  outputs=model(imgs)\n",
        "  # the second return value is the index of the max i.e. argmax\n",
        "  _,predicted=torch.max(outputs.data,1)\n",
        "  correct+=(predicted==labels).sum()\n",
        "  total+=labels.size()[0]\n",
        "  conmat.update(predicted,labels)\n"
      ]
    },
    {
      "cell_type": "code",
      "execution_count": 20,
      "metadata": {},
      "outputs": [
        {
          "data": {
            "text/plain": [
              "<AxesSubplot: >"
            ]
          },
          "execution_count": 20,
          "metadata": {},
          "output_type": "execute_result"
        },
        {
          "data": {
            "image/png": "[encoded data removed]",
            "text/plain": [
              "<Figure size 1000x700 with 2 Axes>"
            ]
          },
          "metadata": {},
          "output_type": "display_data"
        }
      ],
      "source": [
        "import matplotlib.pyplot as plt\n",
        "import seaborn as sb\n",
        "x=conmat.compute().cpu().numpy()\n",
        "plt.figure(figsize=(10,7))\n",
        "sb.heatmap(x,xticklabels=dataset_train.classes,yticklabels=dataset_train.classes,annot=True,fmt=\".0f\")"
      ]
    },
    {
      "attachments": {},
      "cell_type": "markdown",
      "metadata": {},
      "source": [
        "- The rows are the actual images and the columns are the prediction (How can you check?)\n",
        "- While the prediction accuracy is good albeit not impressive\n",
        "- From the confusion matrix we find justifications for the inaccuracies\n",
        "- For example\n",
        "    - most of the incorrect classifications of automobiles were classified as trucks\n",
        "    - most of the incorrect classifications of cats/dogs were classified as dogs/cats\n",
        "    "
      ]
    },
    {
      "cell_type": "code",
      "execution_count": null,
      "metadata": {},
      "outputs": [],
      "source": []
    }
  ],
  "metadata": {
    "celltoolbar": "Slideshow",
    "colab": {
      "provenance": []
    },
    "kernelspec": {
      "display_name": "Python 3",
      "language": "python",
      "name": "python3"
    },
    "language_info": {
      "codemirror_mode": {
        "name": "ipython",
        "version": 3
      },
      "file_extension": ".py",
      "mimetype": "text/x-python",
      "name": "python",
      "nbconvert_exporter": "python",
      "pygments_lexer": "ipython3",
      "version": "3.10.6 (main, Nov 14 2022, 16:10:14) [GCC 11.3.0]"
    },
    "vscode": {
      "interpreter": {
        "hash": "916dbcbb3f70747c44a77c7bcd40155683ae19c65e1c03b4aa3499c5328201f1"
      }
    }
  },
  "nbformat": 4,
  "nbformat_minor": 0
}
