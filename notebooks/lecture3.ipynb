{
 "cells": [
  {
   "cell_type": "code",
   "execution_count": null,
   "metadata": {},
   "outputs": [],
   "source": [
    "import torch\n",
    "import torchvision as tv\n",
    "from torch.utils.data import DataLoader\n",
    "from torchvision.transforms import ToTensor\n",
    "import torch.nn as nn"
   ]
  },
  {
   "attachments": {},
   "cell_type": "markdown",
   "metadata": {},
   "source": [
    "## Datasets\n",
    "PyTorch has a number of builtin datasets \n",
    "(all subclasses of [toch.utils.data.Dataset](https://pytorch.org/docs/stable/data.html#torch.utils.data.Dataset) ):\n",
    "[audio datasets](https://pytorch.org/audio/stable/datasets.html), [text datasets](https://pytorch.org/vision/stable/datasets.html)\n",
    ", and what concerns us in this notebook, [image datasets](https://pytorch.org/text/stable/datasets.html)\n",
    "\n"
   ]
  },
  {
   "attachments": {},
   "cell_type": "markdown",
   "metadata": {},
   "source": [
    "In this notebook we will be using the MNIST dataset. It has a set of images of handwritten digits (0-9) with their corresponding labels. Furthermore, the dataset is divided into a training part and test part. The difference between the two is just the ```train``` parameter."
   ]
  },
  {
   "cell_type": "code",
   "execution_count": null,
   "metadata": {},
   "outputs": [],
   "source": [
    "train_data=tv.datasets.MNIST(root=\".\",download=True,train=True)\n",
    "test_data=tv.datasets.MNIST(root=\".\",download=True,train=False)"
   ]
  },
  {
   "cell_type": "code",
   "execution_count": null,
   "metadata": {},
   "outputs": [],
   "source": [
    "print(\"number of training samples={} and test samples={}\".format(len(train_data),len(test_data)))"
   ]
  },
  {
   "attachments": {},
   "cell_type": "markdown",
   "metadata": {},
   "source": [
    "### Inspecting the data\n",
    "Datasets are **iterable** objects. An [**iterable**](https://docs.python.org/3/library/functions.html#iter) is an object that supports either the **iterable** or **sequence** protocols.\n",
    "An object supports the **sequence** protocol if it implements two methods\n",
    "1. ```__getitem__(idx)```\n",
    "1. ```__len()__```\n",
    "\n",
    "The iterable protocol it needs to implement\n",
    "\n",
    "1. ```__iter__```\n",
    "1. ```__next__```\n",
    "\n",
    "Note that if the ```__iter__``` method is implemented as a **generator** then there is no need for the ```__next__``` method."
   ]
  },
  {
   "attachments": {},
   "cell_type": "markdown",
   "metadata": {},
   "source": [
    "There are two ways to implement an iterable: define a ```__getitem__``` or ```__iter__``` methods with the second version being the preferred one.\n",
    "Example 1\n",
    "```python\n",
    "class A ():\n",
    "    def __getitem__(self,idx):\n",
    "        return idx\n",
    "    def __len__(self):\n",
    "        return 5\n",
    "```"
   ]
  },
  {
   "cell_type": "code",
   "execution_count": null,
   "metadata": {},
   "outputs": [],
   "source": [
    "r=range(2)\n",
    "print(hasattr(r,'__iter__'))"
   ]
  },
  {
   "cell_type": "code",
   "execution_count": null,
   "metadata": {},
   "outputs": [],
   "source": [
    "class A ():\n",
    "    pass\n",
    "    def __getitem__(self,idx):\n",
    "       return idx\n",
    "    def __len__(self):\n",
    "         return 5\n",
    "a=A()\n",
    "itr=iter(a)\n"
   ]
  },
  {
   "cell_type": "code",
   "execution_count": null,
   "metadata": {},
   "outputs": [],
   "source": [
    "\n",
    "class B():\n",
    "    def __iter__(self):\n",
    "        for i in range(12,14):\n",
    "            yield i\n",
    "class C():\n",
    "    def __init__(self):\n",
    "        self.max=5\n",
    "    def __iter__(self):\n",
    "        self.c=0\n",
    "        return self\n",
    "    def __next__(self):\n",
    "        if self.c>=self.max:\n",
    "            raise StopIteration\n",
    "        self.c+=1\n",
    "        return self.c\n",
    "c=C()\n",
    "for x in c:\n",
    "    print(x)\n",
    "b=B()\n",
    "print(hasattr(b,'__next__'))\n",
    "# print(hasattr(b,'__iter__'))\n",
    "#for x in a:\n",
    "#    print(x)\n",
    "#for y in b:\n",
    "#    print(y)\n",
    "# itr=iter(b)\n",
    "# while True:\n",
    "#     try:\n",
    "#         a=next(itr)\n",
    "#     except StopIteration:\n",
    "#         break\n",
    "#     print(a)\n"
   ]
  },
  {
   "attachments": {},
   "cell_type": "markdown",
   "metadata": {},
   "source": [
    "## Inspect the data\n",
    "It is good practice to inspect the data before using it, For example: their data types, dimensions and other properties. In this case the data is a set of (image,label) pairs. We use the ```iter``` method to retrieve one pair at a time."
   ]
  },
  {
   "cell_type": "code",
   "execution_count": null,
   "metadata": {},
   "outputs": [],
   "source": [
    "itr=iter(train_data)\n",
    "x,y=next(itr)\n",
    "print(type(x),type(y))"
   ]
  },
  {
   "attachments": {},
   "cell_type": "markdown",
   "metadata": {},
   "source": [
    "To use the images we need to convert them to PyTorch tensors. We can do this automatically when loading the datasets by providing a **transform** to the dataset object. There are many transforms provided by [```torchvision.transforms```](https://pytorch.org/vision/0.11/transforms.html) but in this notebook we only need ```ToTensor```."
   ]
  },
  {
   "cell_type": "code",
   "execution_count": null,
   "metadata": {},
   "outputs": [],
   "source": [
    "train_data=tv.datasets.MNIST(\".\",download=True,train=True,transform=ToTensor())\n",
    "test_data=tv.datasets.MNIST(\".\",download=True,train=False,transform=ToTensor())"
   ]
  },
  {
   "cell_type": "code",
   "execution_count": null,
   "metadata": {},
   "outputs": [],
   "source": [
    "itr=iter(train_data)\n",
    "x,y=next(itr)\n",
    "print(type(x),type(y))"
   ]
  },
  {
   "attachments": {},
   "cell_type": "markdown",
   "metadata": {},
   "source": [
    "As can be seen from the above the images were transformed into torch tensors."
   ]
  },
  {
   "attachments": {},
   "cell_type": "markdown",
   "metadata": {},
   "source": [
    "## Stochastic Gradient Descent\n",
    "When we used gradient descent previously, we used all the available data to compute the gradient. If the dataset is large, as it is in this case, this method consumes a lot of memory. An alternative would be to approximate the gradient by computing it over a single data item or over a **subset** (a batch) of the data. This has two advantages\n",
    "1. Uses a lot less memory\n",
    "1. Introduces some randomness that prevents our algorithm from being stuck in a local minimum"
   ]
  },
  {
   "attachments": {},
   "cell_type": "markdown",
   "metadata": {},
   "source": [
    "PyTorch offers a useful class, ```DataLoader```, to retrieve batches of data. To do so we need to pass it the dataset and specify the batch size as shown below. The other parameters are as follows\n",
    "1. ```num_workers``` specifies the number of threads to process the data in parallel\n",
    "1. ```shuffle``` specifies if the data set is shuffled after every pass"
   ]
  },
  {
   "cell_type": "code",
   "execution_count": null,
   "metadata": {},
   "outputs": [],
   "source": [
    "train_loader=DataLoader(train_data,batch_size=32,num_workers=2, shuffle=True)\n",
    "test_loader=DataLoader(test_data,batch_size=32,num_workers=2,shuffle=False)"
   ]
  },
  {
   "attachments": {},
   "cell_type": "markdown",
   "metadata": {},
   "source": [
    "As we did before we retrieve a single item using an iterator. In this case an item is a **batch**.\n",
    "Note that the MNIST images are grayscale (one channel) with size 28x28."
   ]
  },
  {
   "cell_type": "code",
   "execution_count": null,
   "metadata": {},
   "outputs": [],
   "source": [
    "itr=iter(train_loader)\n",
    "b,l=next(itr)\n",
    "print(\"b is of type={} and size={}\".format(type(b),b.size()))\n",
    "print(\"l is of type={} and size={}\".format(type(l),l.size()))\n"
   ]
  },
  {
   "attachments": {},
   "cell_type": "markdown",
   "metadata": {},
   "source": [
    "## Feedforward Neural Network\n",
    "\n",
    "A feedforward neural network is composed of a sequence of layers, each composed of multiple nodes. The inputs to a node in layer ```L``` are the outpus of **all** nodes in the preceding layer ```L-1```. The structure of a 3 layer network is shown below.\n",
    "\n",
    "![feedforward1.png](data:image/png;base64,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)"
   ]
  },
  {
   "attachments": {},
   "cell_type": "markdown",
   "metadata": {},
   "source": [
    "Let $A^k_i$, $i=0\\ldots m$ be the values at layer $k$ then for each node in layer $k+1$ is computed as follows\n",
    "\\begin{align*}\n",
    "Z^k_j&=b^k_j+\\sum_i w^k_{ji}\\times A^k_i \\\\\n",
    "A^k_j&=f(Z^k_j)\n",
    "\\end{align*}\n",
    "\n",
    "where\n",
    "\n",
    "1. $w^k_{ji}$ are the weights, to be optimized.\n",
    "1. $b^k_j$ are the biases, to be optimized.\n",
    "1. $f$ is some non-linear function\n",
    "1. $A^0_j$ are the inputs\n"
   ]
  },
  {
   "attachments": {},
   "cell_type": "markdown",
   "metadata": {},
   "source": [
    "### Why non-linear activation function?\n",
    "\n",
    "In the absence of  the non-linear activation function  the computation of each layer becomes a linear transformation.\n",
    "\n",
    "In that case, regardless of the number of layers, the computation would be equivalent to a single layer"
   ]
  },
  {
   "attachments": {},
   "cell_type": "markdown",
   "metadata": {},
   "source": [
    "### Feedforward in PyTorch\n",
    "\n",
    "We can create layers (minus the non-linear function) using PyTorch's ```torch.nn.Linear``` class.\n",
    "\n",
    "```python\n",
    "torch.nn.Linear(in_features,out_features)\n",
    "```\n",
    "\n",
    "With the parameters initialized from a normal distribution."
   ]
  },
  {
   "attachments": {},
   "cell_type": "markdown",
   "metadata": {},
   "source": [
    "### Example Computation\n",
    "\n",
    "Each MNIST image has dimensions (1,28,28). We need to **flatten** the image before we use it as input to the feedforward network. Let us start with an example with a single layer. \n",
    "For each input batch we need to flatten it, which is accomplished with the ```.view``` method. Since we are using batches of size 32 then\n",
    "\n",
    "```batch.view(32,-1)```\n",
    "\n",
    "Would flatten all the images in the batch. Therefore an input of (32,1,28,28) would be converted to (32,784)"
   ]
  },
  {
   "cell_type": "code",
   "execution_count": null,
   "metadata": {},
   "outputs": [],
   "source": [
    "# create an iterator\n",
    "itr=iter(train_loader)\n",
    "# retrieve the next (img,label) batch of pairs\n",
    "imgs,labels=next(itr)\n",
    "print(\"before flattening the size is {}\".format(imgs.size()))\n",
    "input=imgs.view(32,-1)\n",
    "print(\"After flattining the size is {}\".format(input.size()))"
   ]
  },
  {
   "attachments": {},
   "cell_type": "markdown",
   "metadata": {},
   "source": [
    "Now suppose we construct a layer that has 10 outputs (and 784 inputs to feed it the data)"
   ]
  },
  {
   "cell_type": "code",
   "execution_count": null,
   "metadata": {},
   "outputs": [],
   "source": [
    "l=torch.nn.Linear(784,10)\n",
    "itr=iter(l.parameters())\n",
    "w=next(itr)\n",
    "print(\"parameters of size {}\".format(w.size()))\n",
    "b=next(itr)\n",
    "print(\"bias is of size {}\".format(b.size()))\n",
    "# apply the layer to the input\n",
    "output=l(input)\n",
    "print(\"output size is {}\".format(output.size()))"
   ]
  },
  {
   "attachments": {},
   "cell_type": "markdown",
   "metadata": {},
   "source": [
    "## Activation function revisited\n",
    "\n",
    "There are many different activation functions in use. Here we list two of the most common.\n",
    "1. Sigmoid\n",
    "1. ReLU\n",
    "\n",
    "The sigmoid is usually used as the activation of the last layer since it has values in the range (0,1). \n",
    "Recall\n",
    "\\begin{align*}\n",
    "\\sigma(z)=\\frac{1}{1+e^{-z}}\n",
    "\\end{align*}"
   ]
  },
  {
   "cell_type": "code",
   "execution_count": 40,
   "metadata": {},
   "outputs": [
    {
     "data": {
      "text/plain": [
       "[<matplotlib.lines.Line2D at 0x20d7bb66130>]"
      ]
     },
     "execution_count": 40,
     "metadata": {},
     "output_type": "execute_result"
    },
    {
     "data": {
      "image/png": "[encoded data removed]",
      "text/plain": [
       "<Figure size 432x288 with 1 Axes>"
      ]
     },
     "metadata": {
      "needs_background": "light"
     },
     "output_type": "display_data"
    }
   ],
   "source": [
    "import math\n",
    "import matplotlib.pyplot as plt\n",
    "def sigmoid(z):\n",
    "    return 1./(1.+math.exp(-z))\n",
    "y=[sigmoid(x) for x in range(-10,10)]\n",
    "plt.ylim(-.1,1.1)\n",
    "plt.plot(range(-10,10),y)"
   ]
  },
  {
   "attachments": {},
   "cell_type": "markdown",
   "metadata": {},
   "source": [
    "As one can see, the sigmoid gets flat very quickly (in both direction).\n",
    "The regions where the sigmoid approaches 1 can cause problems in learning since its gradient vanishes. \n",
    "This is why it is not often used in the intermediate layers.\n",
    "\n",
    "A more popular non-linear activation for the intermediate layers is the ReLU which has a simple definition:\n",
    "1. ReLU(x)=x  for $x\\ge 0$\n",
    "1. ReLU(x)=0  otherwise"
   ]
  },
  {
   "attachments": {},
   "cell_type": "markdown",
   "metadata": {},
   "source": [
    "## PyTorch Module\n",
    "\n",
    "It is convenient to encapsulate all the network layers in a single class that inherit from ```nn.Module```\n",
    "\n",
    "1. The layers are created in the ```__init__``` method\n",
    "1. The application of the layers to the input is performed in the ```forward()``` method\n",
    "1. In the example below we use 4 layers (including input/output)\n",
    "1. There is no particular reason for the choice of the number/size of the layers. "
   ]
  },
  {
   "cell_type": "code",
   "execution_count": null,
   "metadata": {},
   "outputs": [],
   "source": [
    "input_size=28*28\n",
    "hidden_size1=128\n",
    "hidden_size2=64\n",
    "output_size=10\n",
    "\n",
    "class Net(nn.Module):\n",
    "  def __init__(self):\n",
    "    super(Net, self).__init__()\n",
    "    self.layer1=nn.Linear(input_size,hidden_size1)\n",
    "    self.layer2=nn.Linear(hidden_size1,hidden_size2)\n",
    "    self.layer3=nn.Linear(hidden_size2,output_size)\n",
    "    self.relu=nn.ReLU()\n",
    "  def forward(self,x):\n",
    "    x=x.view(x.size()[0],-1)\n",
    "    x=self.layer1(x)\n",
    "    x=self.relu(x)\n",
    "    x=self.layer2(x)\n",
    "    x=self.relu(x)\n",
    "    x=self.layer3(x)\n",
    "\n",
    "    return x\n"
   ]
  },
  {
   "cell_type": "code",
   "execution_count": null,
   "metadata": {},
   "outputs": [],
   "source": [
    "# Example output\n",
    "itr=iter(train_loader)\n",
    "imgs,labels=next(itr)\n",
    "model=Net()\n",
    "output=model(imgs)\n",
    "output.size()"
   ]
  },
  {
   "attachments": {},
   "cell_type": "markdown",
   "metadata": {},
   "source": [
    "## Softmax and Cross Entropy loss\n",
    "\n",
    "The classification problem with $C$ possible classes is a straightforward generalization of the binary classification that we have encountered before.\n",
    "For a given input $x$, let the output of our neural network be a $C$-dimension vector, $\\hat{y}$, with $C$, denoting the number of classes. The probability that the input $x$ belongs to class $i\\in C$ is given by the **softmax** function:\n",
    "\n",
    "\\begin{align*}\n",
    "P(i)=\\frac{e^{\\hat{y}_i}}{\\sum_{c=1}^C e^{\\hat{y}_c}}\n",
    "\\end{align*}\n",
    "\n",
    "If the **true** label is class $j$ then the **cross entropy** loss is given by\n",
    "\\begin{align*}\n",
    "\\mathcal{L}=-\\log{\\frac{e^{\\hat{y}_j}}{\\sum_{c=1}^C e^{\\hat{y}_c}}}\n",
    "\\end{align*}"
   ]
  },
  {
   "attachments": {},
   "cell_type": "markdown",
   "metadata": {},
   "source": [
    "### Intuition behind cross entropy loss\n",
    "\n",
    "Mathematics aside, one can understand the idea behind the cross entropy loss by considering a couple of edge cases. Suppose that, for input $x$, the network outputs a vector containing $C$ values $[y_0,\\ldots,y_{c-1}]$ and the \"true\" label corresponding to the input is $j$\n",
    "\n",
    "1. If network predicted a high probability for label $j$, i.e.  $e^{\\hat{y}_j}\\gg e^{\\hat{y}_k}$ for all $k\\ne j$ then  $\\sum_{c=1}^C e^{\\hat{y}_c}\\approx e^{\\hat{y}_j}$ and we can write the loss\n",
    "\\begin{align*}\n",
    "\\mathcal{L}=-\\log{\\frac{e^{\\hat{y}_j}}{\\sum_{c=1}^C e^{\\hat{y}_c}}}\\approx -\\log\\frac{e^{\\hat{y}_j}}{e^{\\hat{y}_j}}=0\n",
    "\\end{align*}\n",
    "2. If the network predicted a low probability for label $j$ then $\\sum_{c=1}^C e^{\\hat{y}_c}\\gg e^{\\hat{y}_j}$ so that $\\frac{e^{\\hat{y}_j}}{\\sum_{c=1}^C e^{\\hat{y}_c}}\\rightarrow 0$ and the loss function becomes\n",
    "\\begin{align*}\n",
    "\\mathcal{L}=-\\log{\\frac{e^{\\hat{y}_j}}{\\sum_{c=1}^C e^{\\hat{y}_c}}}\\approx -\\lim_{\\epsilon\\rightarrow 0}\\log\\epsilon\\rightarrow \\infty\n",
    "\\end{align*}\n"
   ]
  },
  {
   "attachments": {},
   "cell_type": "markdown",
   "metadata": {},
   "source": [
    "Below are a few examples of how the **cross entropy** loss is computed in PyTorch"
   ]
  },
  {
   "cell_type": "code",
   "execution_count": 38,
   "metadata": {},
   "outputs": [
    {
     "name": "stdout",
     "output_type": "stream",
     "text": [
      "loss when the correct label is predicted with high prob.=0.0005\n",
      "\"Manual\", PyTorch\n",
      "0.0005  0.0005\n",
      "loss when the correct label has low prob.=11.0191\n"
     ]
    }
   ],
   "source": [
    "# Example cross entropy 1\n",
    "loss_fn=nn.CrossEntropyLoss()\n",
    "y=torch.tensor([1.,12.,3.,4.])\n",
    "loss=loss_fn(y,torch.tensor(1))\n",
    "print(\"loss when the correct label is predicted with high prob.={:.4f}\".format(loss.item()))\n",
    "# Manually computing the cross entropy\n",
    "norm=0.\n",
    "for i in range(4):\n",
    "    norm+=torch.exp(y[i])\n",
    "print(\"\\\"Manual\\\", PyTorch\")\n",
    "print(\"{:.4f}  {:.4f}\".format(-torch.log(torch.exp(y[1])/norm).item(),loss.item()))\n",
    "# Network did not predict the correct label\n",
    "y=torch.tensor([5.,1.,8.,12.])\n",
    "loss=loss_fn(y,torch.tensor(1))\n",
    "print(\"loss when the correct label has low prob.={:.4f}\".format(loss.item()))"
   ]
  },
  {
   "attachments": {},
   "cell_type": "markdown",
   "metadata": {},
   "source": [
    "When using batches, by default PyTorch averages the loss over the batches"
   ]
  },
  {
   "cell_type": "code",
   "execution_count": 39,
   "metadata": {},
   "outputs": [
    {
     "name": "stdout",
     "output_type": "stream",
     "text": [
      "no average loss= tensor([2.4402, 0.4402])\n",
      "default loss= tensor(1.4402)\n"
     ]
    }
   ],
   "source": [
    "# Example cross entropy 2\n",
    "# no averaging \n",
    "loss_fn=nn.CrossEntropyLoss(reduction='none')\n",
    "y=torch.tensor([[1.,2.,3.,4.],[5,6,7,8]])\n",
    "print(\"no average loss=\",loss_fn(y,torch.tensor([1,3])))\n",
    "loss_fn=nn.CrossEntropyLoss()\n",
    "print(\"default loss=\",loss_fn(y,torch.tensor([1,3])))\n"
   ]
  },
  {
   "attachments": {},
   "cell_type": "markdown",
   "metadata": {},
   "source": [
    "### Why didn't we use softmax in our model?\n",
    "\n",
    "There are two places where the output of softmax is needed\n",
    "1. In the computation of the loss\n",
    "1. In the prediction of the correct label corresponding to the input\n",
    "\n",
    "In the first case, PyTorch ```CrossEntropyLoss``` implicitly uses softmax and therefore assumes that we are passing it raw \"logits\".\n",
    "\n",
    "In the second case, there is no need to compute softmax since our prediction selects the index of the output that has the highest probability. Because softmax is a monotonically increasing function the index that has the largest logit will have the largest probability.\n",
    "\n"
   ]
  },
  {
   "cell_type": "code",
   "execution_count": null,
   "metadata": {},
   "outputs": [],
   "source": [
    "model=Net()\n",
    "print(model)"
   ]
  },
  {
   "cell_type": "code",
   "execution_count": null,
   "metadata": {},
   "outputs": [],
   "source": [
    "   \n",
    "def accuracy(model,batch):\n",
    "    imgs,labels=batch\n",
    "    outputs=model(imgs)\n",
    "    _,pred=torch.max(outputs,dim=1)\n",
    "    acc=torch.sum(pred==labels).item()\n",
    "    return torch.tensor(acc/len(labels))\n",
    "  \n",
    "@torch.no_grad() \n",
    "def evaluate(model,loader):\n",
    "    model.eval()\n",
    "    acc=[accuracy(model,batch) for batch in loader]\n",
    "    acc=torch.stack(acc).mean()\n",
    "    return acc "
   ]
  },
  {
   "cell_type": "code",
   "execution_count": null,
   "metadata": {},
   "outputs": [],
   "source": [
    "if torch.cuda.is_available():\n",
    "    device=torch.device('cuda')\n",
    "else:\n",
    "    device=torch.device('cpu')\n",
    "\n",
    "def to_device(data,device):\n",
    "    if isinstance(data,(list,tuple)):\n",
    "        return [to_device(b,device) for b in data]\n",
    "    return data.to(device,non_blocking=True)\n",
    "    \n",
    "to_device(model,device)\n",
    "class DataLoaderOnDevice():\n",
    "    def __init__(self,loader,device):\n",
    "        self.device=device\n",
    "        self.loader=loader\n",
    "    def __iter__(self):\n",
    "        for batch in self.loader:\n",
    "            yield to_device(batch,self.device)\n",
    "\n",
    "    def __len__(self):\n",
    "        return len(self.loader)\n",
    "\n",
    "train_loader=DataLoaderOnDevice(train_loader,device)\n",
    "test_loader=DataLoaderOnDevice(test_loader,device)"
   ]
  },
  {
   "cell_type": "code",
   "execution_count": null,
   "metadata": {},
   "outputs": [],
   "source": [
    "import torch.optim as optim\n",
    "epochs=10\n",
    "optimizer=optim.SGD(model.parameters(),lr=0.01)\n",
    "loss_fn=nn.CrossEntropyLoss()\n",
    "running_loss=0.0\n",
    "for epoch in range(epochs):\n",
    "  model.train()\n",
    "  for i,data in enumerate(train_loader):\n",
    "    optimizer.zero_grad()\n",
    "    img,label=data\n",
    "    output=model(img)\n",
    "    loss=loss_fn(output,label)\n",
    "  \n",
    "    loss.backward()\n",
    "    optimizer.step()\n",
    "    running_loss=0.99*running_loss+0.01*loss.item()\n",
    "  print(\"loss {:.4f}\".format(running_loss))\n",
    "  val_acc=evaluate(model,test_loader)\n",
    "  train_acc=evaluate(model,train_loader)\n",
    "  print(\"train accuracy={:.3f}, valid accuracy={:.3f}\".format(train_acc,val_acc))"
   ]
  }
 ],
 "metadata": {
  "kernelspec": {
   "display_name": "Python 3",
   "language": "python",
   "name": "python3"
  },
  "language_info": {
   "codemirror_mode": {
    "name": "ipython",
    "version": 3
   },
   "file_extension": ".py",
   "mimetype": "text/x-python",
   "name": "python",
   "nbconvert_exporter": "python",
   "pygments_lexer": "ipython3",
   "version": "3.10.6 (main, Nov 14 2022, 16:10:14) [GCC 11.3.0]"
  },
  "orig_nbformat": 4,
  "vscode": {
   "interpreter": {
    "hash": "916dbcbb3f70747c44a77c7bcd40155683ae19c65e1c03b4aa3499c5328201f1"
   }
  }
 },
 "nbformat": 4,
 "nbformat_minor": 2
}
