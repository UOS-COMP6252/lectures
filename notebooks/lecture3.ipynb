{
 "cells": [
  {
   "cell_type": "code",
   "execution_count": 1,
   "metadata": {},
   "outputs": [],
   "source": [
    "import torch\n",
    "import torchvision as tv\n",
    "from torch.utils.data import DataLoader\n",
    "from torchvision.transforms import ToTensor\n",
    "import torch.nn as nn"
   ]
  },
  {
   "cell_type": "code",
   "execution_count": 2,
   "metadata": {},
   "outputs": [],
   "source": [
    "train_data=tv.datasets.MNIST(\".\",download=True,train=True,transform=ToTensor())\n",
    "test_data=tv.datasets.MNIST(\".\",download=True,train=False,transform=ToTensor())"
   ]
  },
  {
   "cell_type": "code",
   "execution_count": 3,
   "metadata": {},
   "outputs": [
    {
     "name": "stdout",
     "output_type": "stream",
     "text": [
      "60000 10000\n"
     ]
    }
   ],
   "source": [
    "print(len(train_data),len(test_data))"
   ]
  },
  {
   "cell_type": "code",
   "execution_count": 4,
   "metadata": {},
   "outputs": [],
   "source": [
    "train_loader=DataLoader(train_data,batch_size=32,shuffle=True)\n",
    "test_loader=DataLoader(test_data,batch_size=32,shuffle=False)"
   ]
  },
  {
   "cell_type": "code",
   "execution_count": 5,
   "metadata": {},
   "outputs": [
    {
     "name": "stdout",
     "output_type": "stream",
     "text": [
      "<class 'torch.Tensor'> torch.Size([32, 784])\n"
     ]
    }
   ],
   "source": [
    "itr=iter(train_loader)\n",
    "b,l=next(itr)\n",
    "print(type(b),b.view(32,-1).size())"
   ]
  },
  {
   "cell_type": "code",
   "execution_count": 10,
   "metadata": {},
   "outputs": [],
   "source": [
    "input_size=28*28\n",
    "output_size=10\n",
    "hidden_size1=128\n",
    "hidden_size2=64\n",
    "class Net(nn.Module):\n",
    "  def __init__(self):\n",
    "    super(Net, self).__init__()\n",
    "    self.layer1=nn.Linear(input_size,hidden_size1)\n",
    "    self.layer2=nn.Linear(hidden_size1,hidden_size2)\n",
    "    self.layer3=nn.Linear(hidden_size2,output_size)\n",
    "    self.relu=nn.ReLU()\n",
    "  def forward(self,x):\n",
    "    x=x.view(x.size()[0],-1)\n",
    "    x=self.layer1(x)\n",
    "    x=self.relu(x)\n",
    "    x=self.layer2(x)\n",
    "    x=self.relu(x)\n",
    "    x=self.layer3(x)\n",
    "\n",
    "    return x\n"
   ]
  },
  {
   "cell_type": "code",
   "execution_count": 11,
   "metadata": {},
   "outputs": [
    {
     "name": "stdout",
     "output_type": "stream",
     "text": [
      "Net(\n",
      "  (layer1): Linear(in_features=784, out_features=128, bias=True)\n",
      "  (layer2): Linear(in_features=128, out_features=64, bias=True)\n",
      "  (layer3): Linear(in_features=64, out_features=10, bias=True)\n",
      "  (relu): ReLU()\n",
      ")\n"
     ]
    }
   ],
   "source": [
    "model=Net()\n",
    "print(model)"
   ]
  },
  {
   "cell_type": "code",
   "execution_count": 12,
   "metadata": {},
   "outputs": [],
   "source": [
    "def accuracy(outputs,labels):\n",
    "    _,pred=torch.max(outputs,dim=1)\n",
    "    acc=torch.sum(pred==labels).item()\n",
    "    return torch.tensor(acc/len(labels))\n",
    "def validate(model,batch):\n",
    "    imgs,labels=batch\n",
    "    imgs=imgs.cuda()\n",
    "    labels=labels.cuda()\n",
    "    outputs=model(imgs)\n",
    "    acc=accuracy(outputs,labels)\n",
    "    return acc \n",
    "@torch.no_grad() \n",
    "def evaluate(model,loader):\n",
    "    model.eval()\n",
    "    acc=[validate(model,batch) for batch in loader]\n",
    "    acc=torch.stack(acc).mean()\n",
    "    return acc "
   ]
  },
  {
   "cell_type": "code",
   "execution_count": 13,
   "metadata": {},
   "outputs": [
    {
     "name": "stdout",
     "output_type": "stream",
     "text": [
      "loss 0.4979\n",
      "tensor(0.8717)\n",
      "loss 0.3716\n",
      "tensor(0.9007)\n",
      "loss 0.3006\n",
      "tensor(0.9206)\n",
      "loss 0.2587\n",
      "tensor(0.9283)\n",
      "loss 0.2439\n",
      "tensor(0.9366)\n",
      "loss 0.2100\n",
      "tensor(0.9381)\n",
      "loss 0.1973\n",
      "tensor(0.9433)\n",
      "loss 0.1715\n",
      "tensor(0.9500)\n",
      "loss 0.1557\n",
      "tensor(0.9540)\n",
      "loss 0.1488\n",
      "tensor(0.9537)\n"
     ]
    }
   ],
   "source": [
    "model=model.cuda()\n",
    "import torch.optim as optim\n",
    "epochs=10\n",
    "optimizer=optim.SGD(model.parameters(),lr=0.01)\n",
    "loss_fn=nn.CrossEntropyLoss()\n",
    "running_loss=0.0\n",
    "for epoch in range(epochs):\n",
    "  model.train()\n",
    "  for i,data in enumerate(train_loader):\n",
    "    optimizer.zero_grad()\n",
    "    img,label=data\n",
    "    img,label=img.cuda(),label.cuda()\n",
    "  \n",
    "    output=model(img)\n",
    "    loss=loss_fn(output,label)\n",
    "  \n",
    "    loss.backward()\n",
    "    optimizer.step()\n",
    "    running_loss=0.99*running_loss+0.01*loss.item()\n",
    "  print(\"loss {:.4f}\".format(running_loss))\n",
    "  acc=evaluate(model,test_loader)\n",
    "  print(acc)"
   ]
  },
  {
   "cell_type": "code",
   "execution_count": null,
   "metadata": {},
   "outputs": [],
   "source": []
  }
 ],
 "metadata": {
  "kernelspec": {
   "display_name": "Python 3",
   "language": "python",
   "name": "python3"
  },
  "language_info": {
   "codemirror_mode": {
    "name": "ipython",
    "version": 3
   },
   "file_extension": ".py",
   "mimetype": "text/x-python",
   "name": "python",
   "nbconvert_exporter": "python",
   "pygments_lexer": "ipython3",
   "version": "3.10.6"
  },
  "orig_nbformat": 4,
  "vscode": {
   "interpreter": {
    "hash": "916dbcbb3f70747c44a77c7bcd40155683ae19c65e1c03b4aa3499c5328201f1"
   }
  }
 },
 "nbformat": 4,
 "nbformat_minor": 2
}
