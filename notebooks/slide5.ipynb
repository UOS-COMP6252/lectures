{
 "cells": [
  {
   "cell_type": "code",
   "execution_count": 1,
   "metadata": {
    "id": "HTsa4o4TAkhT"
   },
   "outputs": [],
   "source": [
    "import torch\n",
    "import torch.nn as nn\n",
    "import torch.nn.functional as F\n",
    "import torchvision as vision\n",
    "import torchvision.transforms as transforms\n",
    "from torch.utils.data import DataLoader\n",
    "from torch.optim import SGD,Adam"
   ]
  },
  {
   "cell_type": "markdown",
   "metadata": {},
   "source": [
    "### Batch normalization     \n",
    "Given a mini-batch of tensors $x_{ci}$ of dimension (S,C,H,W) where $c$ is the channel index and $i$ collectively refers to all other dimensions. \n",
    "\n",
    "Let $N=S\\times H\\times W$. Batch normalization computes the mean and variance of the batch (per channel) according to\n",
    "  $$\n",
    "    \\begin{align*}\n",
    "    \\mu_c&=\\frac{1}{N}\\sum_{i=1}^N x_{ci}\\\\\n",
    "    \\sigma^2_c&=\\frac{1}{N}\\sum_{i=1}^N \\left(x_{ci}-\\mu_c\\right)^2\n",
    "    \\end{align*}\n",
    "$$\n",
    "\n",
    "The normalized inputs are computed as follows:\n",
    "$$\n",
    "\\begin{align*}\n",
    "\\hat{x}_{ci}=\\frac{x_{ic}-\\mu_c}{\\sqrt{\\sigma^2_c+\\epsilon}}\n",
    "\\end{align*}\n",
    "$$\n",
    "\n",
    "Therefore, for each channel, the $\\hat{x}_{ci}$ have zero mean and unit variance. The output of the batch normalization layer is given by\n",
    "$$\n",
    "\\begin{align*}\n",
    "y_{ic}=\\gamma \\hat{x}_{ic}+\\beta\n",
    "\\end{align*}\n",
    "$$\n",
    "Where $\\gamma$ and $\\beta$ are **learnable** parameters."
   ]
  },
  {
   "cell_type": "markdown",
   "metadata": {},
   "source": [
    "#### Example\n",
    "- For simplicity we consider a  tensor with a single channel\n",
    "- Recall that batch normalization is done for each channel independently\n",
    "- In the example below we create an arbitrary tensor ```a```  of size ```(2,1,22)```\n",
    "- It represents two samples, each with a single channel representing a 2x2 tensor.\n"
   ]
  },
  {
   "cell_type": "code",
   "execution_count": 2,
   "metadata": {},
   "outputs": [
    {
     "name": "stdout",
     "output_type": "stream",
     "text": [
      "[2, 1, 2, 2]\n",
      "[[[[ 1.  2.]\n",
      "   [ 3.  4.]]]\n",
      "\n",
      "\n",
      " [[[ 5.  6.]\n",
      "   [ 7. 18.]]]]\n"
     ]
    }
   ],
   "source": [
    "x=torch.tensor([[1,2],[3,4]],dtype=torch.float32).unsqueeze(0)\n",
    "y=torch.tensor([[5,6],[7,18]],dtype=torch.float32).unsqueeze(0)\n",
    "\n",
    "a=torch.stack([x,y])\n",
    "print(list(a.size()))\n",
    "print(a.numpy())"
   ]
  },
  {
   "cell_type": "markdown",
   "metadata": {},
   "source": [
    "##### Manual Computation vs Normalization Layer\n"
   ]
  },
  {
   "cell_type": "code",
   "execution_count": 3,
   "metadata": {},
   "outputs": [
    {
     "data": {
      "text/plain": [
       "tensor([[[[-0.9512, -0.7509],\n",
       "          [-0.5507, -0.3504]]],\n",
       "\n",
       "\n",
       "        [[[-0.1502,  0.0501],\n",
       "          [ 0.2503,  2.4531]]]])"
      ]
     },
     "execution_count": 3,
     "metadata": {},
     "output_type": "execute_result"
    }
   ],
   "source": [
    "# Manually \n",
    "var=a.var([0,2,3],unbiased=False)\n",
    "mean=a.mean([0,2,3])\n",
    "(a-mean)/torch.sqrt(var)"
   ]
  },
  {
   "cell_type": "code",
   "execution_count": 4,
   "metadata": {},
   "outputs": [
    {
     "data": {
      "text/plain": [
       "tensor([[[[-0.9512, -0.7509],\n",
       "          [-0.5507, -0.3504]]],\n",
       "\n",
       "\n",
       "        [[[-0.1502,  0.0501],\n",
       "          [ 0.2503,  2.4531]]]])"
      ]
     },
     "execution_count": 4,
     "metadata": {},
     "output_type": "execute_result"
    }
   ],
   "source": [
    "# using PyTorch BatchNorm2d\n",
    "with torch.no_grad():\n",
    "    norm=nn.BatchNorm2d(num_features=1)  \n",
    "    b=norm(a)\n",
    "b"
   ]
  },
  {
   "cell_type": "markdown",
   "metadata": {},
   "source": [
    "### Convolution Network for CIFAR10"
   ]
  },
  {
   "cell_type": "code",
   "execution_count": 5,
   "metadata": {},
   "outputs": [],
   "source": [
    "# to ensure reproducibility\n",
    "seed=9 \n",
    "torch.manual_seed(seed)\n",
    "if torch.cuda.is_available():\n",
    "    torch.cuda.manual_seed_all(seed)\n",
    "    torch.backends.cudnn.deterministic=True\n",
    "# use/not use batch normalization\n",
    "use_BN=False\n",
    "epochs=100"
   ]
  },
  {
   "cell_type": "code",
   "execution_count": 6,
   "metadata": {},
   "outputs": [
    {
     "name": "stdout",
     "output_type": "stream",
     "text": [
      "Files already downloaded and verified\n",
      "Files already downloaded and verified\n"
     ]
    }
   ],
   "source": [
    "transform = transforms.ToTensor()\n",
    "dataset_train=vision.datasets.CIFAR10(\".\",download=True,train=True,transform=transform)\n",
    "dataset_test=vision.datasets.CIFAR10(\".\",download=True,train=False,transform=transform)\n",
    "loader_train=DataLoader(dataset_train,batch_size=64,shuffle=True,num_workers=2)\n",
    "loader_test=DataLoader(dataset_test,batch_size=512,shuffle=False)"
   ]
  },
  {
   "cell_type": "code",
   "execution_count": 7,
   "metadata": {},
   "outputs": [],
   "source": [
    "class Net(nn.Module):\n",
    "  def __init__(self,norm_layers=True):\n",
    "    super().__init__()\n",
    "    self.norm_layers=norm_layers\n",
    "    # self.norm1=nn.BatchNorm2d(32)\n",
    "    # self.norm2=nn.BatchNorm2d(32)\n",
    "    # self.norm3=nn.BatchNorm2d(64)\n",
    "    # self.norm4=nn.BatchNorm2d(64)\n",
    "    self.norm1=nn.Dropout2d(0.5)\n",
    "    self.norm2=nn.Dropout2d(0.5)\n",
    "    self.norm3=nn.Dropout2d(0.5)\n",
    "    self.norm4=nn.Dropout2d(0.5)\n",
    "    self.relu=nn.ReLU()\n",
    "    # input is (*,3,32,32)\n",
    "    self.conv1=nn.Conv2d(in_channels=3,out_channels=32,kernel_size=3)\n",
    "    # input is (*,32,30,30)\n",
    "    self.conv2=nn.Conv2d(in_channels=32,out_channels=32,kernel_size=3)\n",
    "    self.conv2a=nn.Conv2d(in_channels=32,out_channels=32,kernel_size=3)\n",
    "    # input is (*,32,28,28)\n",
    "    self.pool1=nn.MaxPool2d(kernel_size=(2,2))\n",
    "    # input is (*,32,14,14)\n",
    "    self.conv3=nn.Conv2d(in_channels=32,out_channels=64,kernel_size=3)\n",
    "    # input is (*,64,12,12)\n",
    "    self.conv4=nn.Conv2d(in_channels=64,out_channels=64,kernel_size=3)\n",
    "    self.conv4a=nn.Conv2d(in_channels=64,out_channels=64,kernel_size=3)\n",
    "    # input is (*,64,10,10)\n",
    "    self.pool2=nn.MaxPool2d(kernel_size=(2,2))\n",
    "    # input is (*,64,5,5)\n",
    "    self.flatten=nn.Flatten()\n",
    "    # input is (*,64x5x5)\n",
    "    self.fc1=nn.Linear(in_features=5*5*64,out_features=128)\n",
    "    self.fc2=nn.Linear(in_features=128,out_features=10)\n",
    "\n",
    "  def forward(self,x):\n",
    "    x=self.conv1(x)\n",
    "    if self.norm_layers:\n",
    "      x=self.norm1(x)\n",
    "    x=self.relu(x)\n",
    "    x=self.conv2(x)\n",
    "    if self.norm_layers:\n",
    "      x=self.norm2(x)\n",
    "    x=self.relu(x)\n",
    "    x=self.pool1(x)\n",
    "    \n",
    "    x=self.conv3(x)\n",
    "    if self.norm_layers:\n",
    "      x=self.norm3(x)\n",
    "    x=self.relu(x)\n",
    "    x=self.conv4(x)\n",
    "    if self.norm_layers:\n",
    "      x=self.norm4(x)\n",
    "    x=self.relu(x)\n",
    "    x=self.pool2(x)\n",
    "    \n",
    "    x=self.flatten(x)\n",
    "    x=self.fc1(x)\n",
    "    x=self.relu(x)\n",
    "    x=self.fc2(x)\n",
    "    return x\n",
    "    "
   ]
  },
  {
   "cell_type": "code",
   "execution_count": 8,
   "metadata": {},
   "outputs": [],
   "source": [
    "def accuracy(model,batch,loss_fn):\n",
    "    imgs,labels=batch\n",
    "    imgs=imgs.cuda()\n",
    "    labels=labels.cuda()\n",
    "    outputs=model(imgs)\n",
    "    _,pred=torch.max(outputs,dim=1)\n",
    "    acc=torch.sum(pred==labels).item()\n",
    "    loss=loss_fn(outputs,labels)\n",
    "    return loss,torch.tensor(acc/len(labels))\n",
    "\n",
    "@torch.no_grad() \n",
    "def evaluate(model,loader,loss_fn):\n",
    "    model.eval()\n",
    "    # crit is a list of pairs of tensors\n",
    "    crit=[accuracy(model,batch,loss_fn) for batch in loader]\n",
    "    crit=torch.tensor(crit)\n",
    "    m=crit.mean(dim=0)\n",
    "    loss=m[0]\n",
    "    acc=m[1]\n",
    "    return loss,acc"
   ]
  },
  {
   "cell_type": "code",
   "execution_count": 9,
   "metadata": {},
   "outputs": [],
   "source": [
    "model=Net(norm_layers=use_BN).cuda()\n",
    "optimizer=Adam(model.parameters())\n",
    "#optimizer=SGD(model.parameters(),lr=0.5)\n",
    "loss_fn=nn.CrossEntropyLoss()"
   ]
  },
  {
   "cell_type": "code",
   "execution_count": 10,
   "metadata": {},
   "outputs": [],
   "source": [
    "\n",
    "from torch.utils.tensorboard import SummaryWriter\n",
    "import datetime\n",
    "# To display tensorboard inside the notebook\n",
    "%load_ext tensorboard\n",
    "current=datetime.datetime.now()\n",
    "log_dir = 'logs/tensorboard/' + ('with BN-' if use_BN else 'withou BN-')+current.strftime(\"%c\")\n",
    "writer=SummaryWriter(log_dir)"
   ]
  },
  {
   "cell_type": "code",
   "execution_count": 11,
   "metadata": {},
   "outputs": [],
   "source": [
    "class EarlyStopping():\n",
    "    def __init__(self,patience=4,tolerance=0):\n",
    "        self.patience=patience\n",
    "        self.tolerance=tolerance\n",
    "        self.min_loss=float('inf')\n",
    "        self.count=0\n",
    "    def __call__(self,loss):\n",
    "        if loss<self.min_loss:\n",
    "            self.count=0\n",
    "            self.min_loss=loss\n",
    "            return False\n",
    "        elif loss>self.min_loss+self.tolerance:\n",
    "            self.count+=1\n",
    "            if self.count>self.patience:\n",
    "                return True\n",
    "        return False\n"
   ]
  },
  {
   "cell_type": "code",
   "execution_count": 12,
   "metadata": {},
   "outputs": [
    {
     "name": "stderr",
     "output_type": "stream",
     "text": [
      "Epoch [1/100]: 100%|██████████| 782/782 [00:05<00:00, 153.62it/s, loss=1.38]\n",
      "Epoch [2/100]: 100%|██████████| 782/782 [00:04<00:00, 188.32it/s, loss=1.21]\n",
      "Epoch [3/100]: 100%|██████████| 782/782 [00:04<00:00, 191.91it/s, loss=1.02]\n",
      "Epoch [4/100]: 100%|██████████| 782/782 [00:04<00:00, 190.14it/s, loss=1.03] \n",
      "Epoch [5/100]: 100%|██████████| 782/782 [00:04<00:00, 190.05it/s, loss=0.887]\n",
      "Epoch [6/100]: 100%|██████████| 782/782 [00:04<00:00, 190.28it/s, loss=0.817]\n",
      "Epoch [7/100]: 100%|██████████| 782/782 [00:04<00:00, 187.07it/s, loss=0.801]\n",
      "Epoch [8/100]: 100%|██████████| 782/782 [00:04<00:00, 190.27it/s, loss=0.753]\n",
      "Epoch [9/100]: 100%|██████████| 782/782 [00:04<00:00, 186.32it/s, loss=0.732]\n",
      "Epoch [10/100]: 100%|██████████| 782/782 [00:04<00:00, 189.04it/s, loss=0.608]\n",
      "Epoch [11/100]: 100%|██████████| 782/782 [00:04<00:00, 174.06it/s, loss=0.57] \n",
      "Epoch [12/100]: 100%|██████████| 782/782 [00:04<00:00, 167.36it/s, loss=0.6]  \n",
      "Epoch [13/100]: 100%|██████████| 782/782 [00:04<00:00, 179.34it/s, loss=0.547]\n",
      "Epoch [14/100]: 100%|██████████| 782/782 [00:04<00:00, 177.05it/s, loss=0.478]\n",
      "Epoch [15/100]: 100%|██████████| 782/782 [00:04<00:00, 183.07it/s, loss=0.517]\n",
      "Epoch [16/100]: 100%|██████████| 782/782 [00:04<00:00, 181.70it/s, loss=0.511]\n"
     ]
    },
    {
     "name": "stdout",
     "output_type": "stream",
     "text": [
      "At epoch=15 we should stop. Validation accuracy=0.7035156488418579\n"
     ]
    },
    {
     "name": "stderr",
     "output_type": "stream",
     "text": [
      "Epoch [17/100]: 100%|██████████| 782/782 [00:04<00:00, 188.29it/s, loss=0.445]\n",
      "Epoch [18/100]: 100%|██████████| 782/782 [00:04<00:00, 183.39it/s, loss=0.396]\n",
      "Epoch [19/100]: 100%|██████████| 782/782 [00:04<00:00, 181.00it/s, loss=0.367]\n",
      "Epoch [20/100]: 100%|██████████| 782/782 [00:04<00:00, 187.75it/s, loss=0.306]\n",
      "Epoch [21/100]: 100%|██████████| 782/782 [00:04<00:00, 186.03it/s, loss=0.372]\n",
      "Epoch [22/100]: 100%|██████████| 782/782 [00:04<00:00, 185.74it/s, loss=0.3]  \n",
      "Epoch [23/100]: 100%|██████████| 782/782 [00:04<00:00, 185.98it/s, loss=0.29] \n",
      "Epoch [24/100]: 100%|██████████| 782/782 [00:04<00:00, 184.66it/s, loss=0.279]\n",
      "Epoch [25/100]: 100%|██████████| 782/782 [00:04<00:00, 185.78it/s, loss=0.24] \n",
      "Epoch [26/100]: 100%|██████████| 782/782 [00:04<00:00, 187.96it/s, loss=0.297]\n",
      "Epoch [27/100]: 100%|██████████| 782/782 [00:04<00:00, 186.64it/s, loss=0.225]\n",
      "Epoch [28/100]: 100%|██████████| 782/782 [00:04<00:00, 185.94it/s, loss=0.272]\n",
      "Epoch [29/100]: 100%|██████████| 782/782 [00:04<00:00, 186.70it/s, loss=0.259]\n",
      "Epoch [30/100]: 100%|██████████| 782/782 [00:04<00:00, 186.07it/s, loss=0.247]\n",
      "Epoch [31/100]: 100%|██████████| 782/782 [00:04<00:00, 186.61it/s, loss=0.203]\n",
      "Epoch [32/100]: 100%|██████████| 782/782 [00:04<00:00, 186.73it/s, loss=0.184]\n",
      "Epoch [33/100]: 100%|██████████| 782/782 [00:04<00:00, 189.82it/s, loss=0.189]\n",
      "Epoch [34/100]: 100%|██████████| 782/782 [00:04<00:00, 188.46it/s, loss=0.177] \n",
      "Epoch [35/100]: 100%|██████████| 782/782 [00:04<00:00, 190.49it/s, loss=0.2]   \n",
      "Epoch [36/100]: 100%|██████████| 782/782 [00:04<00:00, 189.33it/s, loss=0.182] \n",
      "Epoch [37/100]: 100%|██████████| 782/782 [00:04<00:00, 190.47it/s, loss=0.171] \n",
      "Epoch [38/100]: 100%|██████████| 782/782 [00:04<00:00, 192.24it/s, loss=0.204] \n",
      "Epoch [39/100]: 100%|██████████| 782/782 [00:04<00:00, 190.64it/s, loss=0.146] \n",
      "Epoch [40/100]: 100%|██████████| 782/782 [00:04<00:00, 191.91it/s, loss=0.196] \n",
      "Epoch [41/100]: 100%|██████████| 782/782 [00:04<00:00, 191.96it/s, loss=0.147] \n",
      "Epoch [42/100]: 100%|██████████| 782/782 [00:04<00:00, 190.78it/s, loss=0.107] \n",
      "Epoch [43/100]: 100%|██████████| 782/782 [00:04<00:00, 190.90it/s, loss=0.126] \n",
      "Epoch [44/100]: 100%|██████████| 782/782 [00:04<00:00, 188.16it/s, loss=0.147] \n",
      "Epoch [45/100]: 100%|██████████| 782/782 [00:04<00:00, 185.62it/s, loss=0.16]  \n",
      "Epoch [46/100]: 100%|██████████| 782/782 [00:04<00:00, 180.96it/s, loss=0.0886]\n",
      "Epoch [47/100]: 100%|██████████| 782/782 [00:04<00:00, 183.19it/s, loss=0.109] \n",
      "Epoch [48/100]: 100%|██████████| 782/782 [00:04<00:00, 182.00it/s, loss=0.146] \n",
      "Epoch [49/100]: 100%|██████████| 782/782 [00:04<00:00, 180.70it/s, loss=0.128] \n",
      "Epoch [50/100]: 100%|██████████| 782/782 [00:04<00:00, 181.85it/s, loss=0.11]  \n",
      "Epoch [51/100]: 100%|██████████| 782/782 [00:04<00:00, 180.51it/s, loss=0.124] \n",
      "Epoch [52/100]: 100%|██████████| 782/782 [00:04<00:00, 172.53it/s, loss=0.138] \n",
      "Epoch [53/100]: 100%|██████████| 782/782 [00:04<00:00, 171.85it/s, loss=0.085] \n",
      "Epoch [54/100]: 100%|██████████| 782/782 [00:04<00:00, 179.20it/s, loss=0.173] \n",
      "Epoch [55/100]: 100%|██████████| 782/782 [00:04<00:00, 172.24it/s, loss=0.129] \n",
      "Epoch [56/100]: 100%|██████████| 782/782 [00:04<00:00, 177.71it/s, loss=0.121] \n",
      "Epoch [57/100]: 100%|██████████| 782/782 [00:04<00:00, 170.84it/s, loss=0.102] \n",
      "Epoch [58/100]: 100%|██████████| 782/782 [00:04<00:00, 178.85it/s, loss=0.162] \n",
      "Epoch [59/100]: 100%|██████████| 782/782 [00:04<00:00, 178.87it/s, loss=0.151] \n",
      "Epoch [60/100]: 100%|██████████| 782/782 [00:04<00:00, 179.77it/s, loss=0.15]  \n",
      "Epoch [61/100]: 100%|██████████| 782/782 [00:04<00:00, 176.65it/s, loss=0.145] \n",
      "Epoch [62/100]: 100%|██████████| 782/782 [00:04<00:00, 179.20it/s, loss=0.107] \n",
      "Epoch [63/100]: 100%|██████████| 782/782 [00:04<00:00, 180.46it/s, loss=0.0935]\n",
      "Epoch [64/100]: 100%|██████████| 782/782 [00:04<00:00, 177.04it/s, loss=0.0791]\n",
      "Epoch [65/100]: 100%|██████████| 782/782 [00:04<00:00, 176.50it/s, loss=0.0925]\n",
      "Epoch [66/100]: 100%|██████████| 782/782 [00:04<00:00, 178.85it/s, loss=0.149] \n",
      "Epoch [67/100]: 100%|██████████| 782/782 [00:04<00:00, 178.31it/s, loss=0.0818]\n",
      "Epoch [68/100]: 100%|██████████| 782/782 [00:04<00:00, 178.72it/s, loss=0.0846]\n",
      "Epoch [69/100]: 100%|██████████| 782/782 [00:04<00:00, 172.42it/s, loss=0.0928]\n",
      "Epoch [70/100]: 100%|██████████| 782/782 [00:04<00:00, 178.88it/s, loss=0.101] \n",
      "Epoch [71/100]: 100%|██████████| 782/782 [00:04<00:00, 178.65it/s, loss=0.112] \n",
      "Epoch [72/100]: 100%|██████████| 782/782 [00:04<00:00, 179.35it/s, loss=0.137] \n",
      "Epoch [73/100]: 100%|██████████| 782/782 [00:04<00:00, 176.46it/s, loss=0.0601]\n",
      "Epoch [74/100]: 100%|██████████| 782/782 [00:04<00:00, 179.65it/s, loss=0.125] \n",
      "Epoch [75/100]: 100%|██████████| 782/782 [00:04<00:00, 175.15it/s, loss=0.104] \n",
      "Epoch [76/100]: 100%|██████████| 782/782 [00:04<00:00, 168.51it/s, loss=0.0866]\n",
      "Epoch [77/100]: 100%|██████████| 782/782 [00:04<00:00, 178.26it/s, loss=0.0988]\n",
      "Epoch [78/100]: 100%|██████████| 782/782 [00:04<00:00, 176.31it/s, loss=0.174] \n",
      "Epoch [79/100]: 100%|██████████| 782/782 [00:04<00:00, 179.05it/s, loss=0.0833]\n",
      "Epoch [80/100]: 100%|██████████| 782/782 [00:04<00:00, 173.45it/s, loss=0.077] \n",
      "Epoch [81/100]: 100%|██████████| 782/782 [00:04<00:00, 166.75it/s, loss=0.0545]\n",
      "Epoch [82/100]: 100%|██████████| 782/782 [00:04<00:00, 174.12it/s, loss=0.0862]\n",
      "Epoch [83/100]: 100%|██████████| 782/782 [00:04<00:00, 171.19it/s, loss=0.111] \n",
      "Epoch [84/100]: 100%|██████████| 782/782 [00:04<00:00, 168.84it/s, loss=0.12]  \n",
      "Epoch [85/100]: 100%|██████████| 782/782 [00:04<00:00, 169.43it/s, loss=0.0612]\n",
      "Epoch [86/100]: 100%|██████████| 782/782 [00:04<00:00, 176.80it/s, loss=0.077] \n",
      "Epoch [87/100]: 100%|██████████| 782/782 [00:04<00:00, 175.52it/s, loss=0.0879]\n",
      "Epoch [88/100]: 100%|██████████| 782/782 [00:04<00:00, 171.81it/s, loss=0.066] \n",
      "Epoch [89/100]: 100%|██████████| 782/782 [00:04<00:00, 170.70it/s, loss=0.111] \n",
      "Epoch [90/100]: 100%|██████████| 782/782 [00:04<00:00, 174.68it/s, loss=0.115] \n",
      "Epoch [91/100]: 100%|██████████| 782/782 [00:04<00:00, 177.88it/s, loss=0.158] \n",
      "Epoch [92/100]: 100%|██████████| 782/782 [00:04<00:00, 176.56it/s, loss=0.0616]\n",
      "Epoch [93/100]: 100%|██████████| 782/782 [00:04<00:00, 176.74it/s, loss=0.0601]\n",
      "Epoch [94/100]: 100%|██████████| 782/782 [00:04<00:00, 176.95it/s, loss=0.0781]\n",
      "Epoch [95/100]: 100%|██████████| 782/782 [00:04<00:00, 177.52it/s, loss=0.0482]\n",
      "Epoch [96/100]: 100%|██████████| 782/782 [00:04<00:00, 178.28it/s, loss=0.0564]\n",
      "Epoch [97/100]: 100%|██████████| 782/782 [00:04<00:00, 177.92it/s, loss=0.0872]\n",
      "Epoch [98/100]: 100%|██████████| 782/782 [00:04<00:00, 179.12it/s, loss=0.119] \n",
      "Epoch [99/100]: 100%|██████████| 782/782 [00:04<00:00, 181.22it/s, loss=0.0527]\n",
      "Epoch [100/100]: 100%|██████████| 782/782 [00:04<00:00, 181.24it/s, loss=0.0474]\n"
     ]
    }
   ],
   "source": [
    "trigger=True\n",
    "es=EarlyStopping()\n",
    "from tqdm import tqdm\n",
    "for epoch in range(epochs):\n",
    "  loop=tqdm(loader_train)\n",
    "  loop.set_description(f\"Epoch [{epoch+1}/{epochs}]\")\n",
    "  epoch_loss=0.\n",
    "  model.train()\n",
    "  for (imgs,labels) in loop:\n",
    "    optimizer.zero_grad()\n",
    "    imgs=imgs.cuda()\n",
    "    labels=labels.cuda()\n",
    "    outputs=model(imgs)\n",
    "    loss=loss_fn(outputs,labels)\n",
    "    loss.backward()\n",
    "    optimizer.step()\n",
    "    epoch_loss=0.9*epoch_loss+0.1*loss.item()\n",
    "    loop.set_postfix(loss=epoch_loss)\n",
    "   \n",
    "  t_loss,t_acc=evaluate(model,loader_train,loss_fn)\n",
    "  v_loss,v_acc=evaluate(model,loader_test,loss_fn)\n",
    "  writer.add_scalar(\"Epoch loss\",epoch_loss,epoch)\n",
    "  writer.add_scalars(\"loss\",{'train':t_loss,'valid':v_loss},epoch)\n",
    "  writer.add_scalars(\"acc\",{'train':t_acc,'valid':v_acc},epoch)\n",
    "  if es(v_loss) and trigger:\n",
    "  #   break\n",
    "     print(\"At epoch={} we should stop. Validation accuracy={}\".format(epoch,v_acc))\n",
    "     trigger=False\n",
    "writer.close()   "
   ]
  },
  {
   "cell_type": "code",
   "execution_count": 13,
   "metadata": {},
   "outputs": [
    {
     "data": {
      "text/plain": [
       "Reusing TensorBoard on port 6006 (pid 323178), started 6 days, 21:24:22 ago. (Use '!kill 323178' to kill it.)"
      ]
     },
     "metadata": {},
     "output_type": "display_data"
    },
    {
     "data": {
      "text/html": [
       "\n",
       "      <iframe id=\"tensorboard-frame-585fb0c2ebe5fe26\" width=\"100%\" height=\"800\" frameborder=\"0\">\n",
       "      </iframe>\n",
       "      <script>\n",
       "        (function() {\n",
       "          const frame = document.getElementById(\"tensorboard-frame-585fb0c2ebe5fe26\");\n",
       "          const url = new URL(\"http://localhost\");\n",
       "          const port = 6006;\n",
       "          if (port) {\n",
       "            url.port = port;\n",
       "          }\n",
       "          frame.src = url;\n",
       "        })();\n",
       "      </script>\n",
       "    "
      ],
      "text/plain": [
       "<IPython.core.display.HTML object>"
      ]
     },
     "metadata": {},
     "output_type": "display_data"
    }
   ],
   "source": [
    "%tensorboard --logdir logs/tensorboard"
   ]
  },
  {
   "cell_type": "code",
   "execution_count": 14,
   "metadata": {},
   "outputs": [
    {
     "name": "stdout",
     "output_type": "stream",
     "text": [
      "Defaulting to user installation because normal site-packages is not writeable\n",
      "Requirement already satisfied: torchmetrics in /home/user/.local/lib/python3.10/site-packages (0.10.2)\n",
      "Requirement already satisfied: numpy>=1.17.2 in /usr/local/lib/python3.10/dist-packages (from torchmetrics) (1.23.4)\n",
      "Requirement already satisfied: packaging in /home/user/.local/lib/python3.10/site-packages (from torchmetrics) (21.3)\n",
      "Requirement already satisfied: torch>=1.3.1 in /usr/local/lib/python3.10/dist-packages (from torchmetrics) (1.13.0)\n",
      "Requirement already satisfied: typing-extensions in /usr/local/lib/python3.10/dist-packages (from torch>=1.3.1->torchmetrics) (4.4.0)\n",
      "Requirement already satisfied: nvidia-cublas-cu11==11.10.3.66 in /usr/local/lib/python3.10/dist-packages (from torch>=1.3.1->torchmetrics) (11.10.3.66)\n",
      "Requirement already satisfied: nvidia-cuda-nvrtc-cu11==11.7.99 in /usr/local/lib/python3.10/dist-packages (from torch>=1.3.1->torchmetrics) (11.7.99)\n",
      "Requirement already satisfied: nvidia-cuda-runtime-cu11==11.7.99 in /usr/local/lib/python3.10/dist-packages (from torch>=1.3.1->torchmetrics) (11.7.99)\n",
      "Requirement already satisfied: nvidia-cudnn-cu11==8.5.0.96 in /usr/local/lib/python3.10/dist-packages (from torch>=1.3.1->torchmetrics) (8.5.0.96)\n",
      "Requirement already satisfied: wheel in /usr/lib/python3/dist-packages (from nvidia-cublas-cu11==11.10.3.66->torch>=1.3.1->torchmetrics) (0.37.1)\n",
      "Requirement already satisfied: setuptools in /usr/lib/python3/dist-packages (from nvidia-cublas-cu11==11.10.3.66->torch>=1.3.1->torchmetrics) (59.6.0)\n",
      "Requirement already satisfied: pyparsing!=3.0.5,>=2.0.2 in /usr/lib/python3/dist-packages (from packaging->torchmetrics) (2.4.7)\n"
     ]
    }
   ],
   "source": [
    "!pip install torchmetrics\n",
    "from torchmetrics import ConfusionMatrix\n",
    "conmat=ConfusionMatrix(num_classes=10)\n",
    "conmat=conmat.cuda()"
   ]
  },
  {
   "cell_type": "code",
   "execution_count": 15,
   "metadata": {},
   "outputs": [],
   "source": [
    "total=0\n",
    "correct=0\n",
    "for data in loader_test:\n",
    "  imgs,labels=data\n",
    "  imgs=imgs.cuda()\n",
    "  labels=labels.cuda()\n",
    "  outputs=model(imgs)\n",
    "  # the second return value is the index of the max i.e. argmax\n",
    "  _,predicted=torch.max(outputs.data,1)\n",
    "  correct+=(predicted==labels).sum()\n",
    "  total+=labels.size()[0]\n",
    "  conmat.update(predicted,labels)\n"
   ]
  },
  {
   "cell_type": "code",
   "execution_count": 16,
   "metadata": {},
   "outputs": [
    {
     "data": {
      "text/plain": [
       "<AxesSubplot: >"
      ]
     },
     "execution_count": 16,
     "metadata": {},
     "output_type": "execute_result"
    },
    {
     "data": {
      "image/png": "[encoded data removed]",
      "text/plain": [
       "<Figure size 1000x700 with 2 Axes>"
      ]
     },
     "metadata": {},
     "output_type": "display_data"
    }
   ],
   "source": [
    "import matplotlib.pyplot as plt\n",
    "import seaborn as sb\n",
    "x=conmat.compute().cpu().numpy()\n",
    "plt.figure(figsize=(10,7))\n",
    "sb.heatmap(x,xticklabels=dataset_train.classes,yticklabels=dataset_train.classes,annot=True,fmt=\".0f\")"
   ]
  },
  {
   "cell_type": "markdown",
   "metadata": {},
   "source": [
    "- The rows are the actual images and the columns are the prediction (How can you check?)\n",
    "- While the prediction accuracy is good albeit not impressive\n",
    "- From the confusion matrix we find justifications for the inaccuracies\n",
    "- For example\n",
    "    - most of the incorrect classifications of automobiles were classified as trucks\n",
    "    - most of the incorrect classifications of cats/dogs were classified as dogs/cats\n",
    "    "
   ]
  }
 ],
 "metadata": {
  "celltoolbar": "Slideshow",
  "colab": {
   "provenance": []
  },
  "kernelspec": {
   "display_name": "Python 3 (ipykernel)",
   "language": "python",
   "name": "python3"
  },
  "language_info": {
   "codemirror_mode": {
    "name": "ipython",
    "version": 3
   },
   "file_extension": ".py",
   "mimetype": "text/x-python",
   "name": "python",
   "nbconvert_exporter": "python",
   "pygments_lexer": "ipython3",
   "version": "3.10.6"
  },
  "vscode": {
   "interpreter": {
    "hash": "916dbcbb3f70747c44a77c7bcd40155683ae19c65e1c03b4aa3499c5328201f1"
   }
  }
 },
 "nbformat": 4,
 "nbformat_minor": 1
}
