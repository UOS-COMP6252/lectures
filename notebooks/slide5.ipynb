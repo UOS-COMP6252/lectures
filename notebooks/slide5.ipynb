{
  "cells": [
    {
      "cell_type": "code",
      "execution_count": 1,
      "metadata": {
        "id": "HTsa4o4TAkhT"
      },
      "outputs": [],
      "source": [
        "import torch\n",
        "import torch.nn as nn\n",
        "import torch.nn.functional as F\n",
        "import torchvision as vision\n",
        "import torchvision.transforms as transforms\n",
        "from torch.utils.data import DataLoader\n",
        "from torch.optim import SGD,Adam"
      ]
    },
    {
      "attachments": {},
      "cell_type": "markdown",
      "metadata": {},
      "source": [
        "### Batch normalization     \n",
        "Given a mini-batch of tensors $x_{ci}$ of dimension (S,C,H,W) where $c$ is the channel index and $i$ collectively refers to all other dimensions. \n",
        "\n",
        "Let $N=S\\times H\\times W$. Batch normalization computes the mean and variance of the batch (per channel) according to\n",
        "  $$\n",
        "    \\begin{align*}\n",
        "    \\mu_c&=\\frac{1}{N}\\sum_{i=1}^N x_{ci}\\\\\n",
        "    \\sigma^2_c&=\\frac{1}{N}\\sum_{i=1}^N \\left(x_{ci}-\\mu_c\\right)^2\n",
        "    \\end{align*}\n",
        "$$\n",
        "\n",
        "The normalized inputs are computed as follows:\n",
        "$$\n",
        "\\begin{align*}\n",
        "\\hat{x}_{ci}=\\frac{x_{ic}-\\mu_c}{\\sqrt{\\sigma^2_c+\\epsilon}}\n",
        "\\end{align*}\n",
        "$$\n",
        "\n",
        "Therefore, for each channel, the $\\hat{x}_{ci}$ have zero mean and unit variance. The output of the batch normalization layer is given by\n",
        "$$\n",
        "\\begin{align*}\n",
        "y_{ic}=\\gamma \\hat{x}_{ic}+\\beta\n",
        "\\end{align*}\n",
        "$$\n",
        "Where $\\gamma$ and $\\beta$ are **learnable** parameters."
      ]
    },
    {
      "attachments": {},
      "cell_type": "markdown",
      "metadata": {},
      "source": [
        "#### Example\n",
        "- For simplicity we consider a  tensor with a single channel\n",
        "- Recall that batch normalization is done for each channel independently\n",
        "- In the example below we create an arbitrary tensor ```a```  of size ```(2,1,22)```\n",
        "- It represents two samples, each with a single channel representing a 2x2 tensor.\n"
      ]
    },
    {
      "cell_type": "code",
      "execution_count": 2,
      "metadata": {},
      "outputs": [
        {
          "name": "stdout",
          "output_type": "stream",
          "text": [
            "[2, 1, 2, 2]\n",
            "[[[[ 1.  2.]\n",
            "   [ 3.  4.]]]\n",
            "\n",
            "\n",
            " [[[ 5.  6.]\n",
            "   [ 7. 18.]]]]\n"
          ]
        }
      ],
      "source": [
        "x=torch.tensor([[1,2],[3,4]],dtype=torch.float32).unsqueeze(0)\n",
        "y=torch.tensor([[5,6],[7,18]],dtype=torch.float32).unsqueeze(0)\n",
        "\n",
        "a=torch.stack([x,y])\n",
        "print(list(a.size()))\n",
        "print(a.numpy())"
      ]
    },
    {
      "attachments": {},
      "cell_type": "markdown",
      "metadata": {},
      "source": [
        "##### Manual Computation vs Normalization Layer\n"
      ]
    },
    {
      "cell_type": "code",
      "execution_count": 3,
      "metadata": {},
      "outputs": [
        {
          "data": {
            "text/plain": [
              "tensor([[[[-0.9512, -0.7509],\n",
              "          [-0.5507, -0.3504]]],\n",
              "\n",
              "\n",
              "        [[[-0.1502,  0.0501],\n",
              "          [ 0.2503,  2.4531]]]])"
            ]
          },
          "execution_count": 3,
          "metadata": {},
          "output_type": "execute_result"
        }
      ],
      "source": [
        "# Manually \n",
        "var=a.var([0,2,3],unbiased=False)\n",
        "mean=a.mean([0,2,3])\n",
        "(a-mean)/torch.sqrt(var)"
      ]
    },
    {
      "cell_type": "code",
      "execution_count": 4,
      "metadata": {},
      "outputs": [
        {
          "data": {
            "text/plain": [
              "tensor([[[[-0.9512, -0.7509],\n",
              "          [-0.5507, -0.3504]]],\n",
              "\n",
              "\n",
              "        [[[-0.1502,  0.0501],\n",
              "          [ 0.2503,  2.4531]]]])"
            ]
          },
          "execution_count": 4,
          "metadata": {},
          "output_type": "execute_result"
        }
      ],
      "source": [
        "# using PyTorch BatchNorm2d\n",
        "with torch.no_grad():\n",
        "    norm=nn.BatchNorm2d(num_features=1)  \n",
        "    b=norm(a)\n",
        "b"
      ]
    },
    {
      "attachments": {},
      "cell_type": "markdown",
      "metadata": {},
      "source": [
        "### Convolution Network for CIFAR10"
      ]
    },
    {
      "cell_type": "code",
      "execution_count": 5,
      "metadata": {},
      "outputs": [],
      "source": [
        "# to ensure reproducibility\n",
        "seed=9 \n",
        "torch.manual_seed(seed)\n",
        "if torch.cuda.is_available():\n",
        "    torch.cuda.manual_seed_all(seed)\n",
        "    torch.backends.cudnn.deterministic=True\n",
        "# use/not use batch normalization\n",
        "use_BN=False\n",
        "epochs=50"
      ]
    },
    {
      "cell_type": "code",
      "execution_count": 6,
      "metadata": {},
      "outputs": [
        {
          "name": "stdout",
          "output_type": "stream",
          "text": [
            "Files already downloaded and verified\n",
            "Files already downloaded and verified\n"
          ]
        }
      ],
      "source": [
        "transform = transforms.ToTensor()\n",
        "dataset_train=vision.datasets.CIFAR10(\".\",download=True,train=True,transform=transform)\n",
        "dataset_test=vision.datasets.CIFAR10(\".\",download=True,train=False,transform=transform)\n",
        "loader_train=DataLoader(dataset_train,batch_size=64,shuffle=True,num_workers=2)\n",
        "loader_test=DataLoader(dataset_test,batch_size=512,shuffle=False)"
      ]
    },
    {
      "cell_type": "code",
      "execution_count": 7,
      "metadata": {},
      "outputs": [],
      "source": [
        "class Net(nn.Module):\n",
        "  def __init__(self,norm_layers=True):\n",
        "    super().__init__()\n",
        "    self.norm_layers=norm_layers\n",
        "    self.norm1=nn.BatchNorm2d(32)\n",
        "    self.norm2=nn.BatchNorm2d(32)\n",
        "    self.norm3=nn.BatchNorm2d(64)\n",
        "    self.norm4=nn.BatchNorm2d(64)\n",
        "    self.relu=nn.ReLU()\n",
        "    # input is (*,3,32,32)\n",
        "    self.conv1=nn.Conv2d(in_channels=3,out_channels=32,kernel_size=3)\n",
        "    # input is (*,32,30,30)\n",
        "    self.conv2=nn.Conv2d(in_channels=32,out_channels=32,kernel_size=3)\n",
        "    # input is (*,32,28,28)\n",
        "    self.pool1=nn.MaxPool2d(kernel_size=(2,2))\n",
        "    # input is (*,32,14,14)\n",
        "    self.conv3=nn.Conv2d(in_channels=32,out_channels=64,kernel_size=3)\n",
        "    # input is (*,64,12,12)\n",
        "    self.conv4=nn.Conv2d(in_channels=64,out_channels=64,kernel_size=3)\n",
        "    # input is (*,64,10,10)\n",
        "    self.pool2=nn.MaxPool2d(kernel_size=(2,2))\n",
        "    # input is (*,64,5,5)\n",
        "    self.flatten=nn.Flatten()\n",
        "    # input is (*,64x5x5)\n",
        "    self.fc1=nn.Linear(in_features=5*5*64,out_features=128)\n",
        "    self.fc2=nn.Linear(in_features=128,out_features=10)\n",
        "\n",
        "  def forward(self,x):\n",
        "    x=self.conv1(x)\n",
        "    if self.norm_layers:\n",
        "      x=self.norm1(x)\n",
        "    x=self.relu(x)\n",
        "    x=self.conv2(x)\n",
        "    if self.norm_layers:\n",
        "      x=self.norm2(x)\n",
        "    x=self.relu(x)\n",
        "    x=self.pool1(x)\n",
        "    \n",
        "    x=self.conv3(x)\n",
        "    if self.norm_layers:\n",
        "      x=self.norm3(x)\n",
        "    x=self.relu(x)\n",
        "    x=self.conv4(x)\n",
        "    if self.norm_layers:\n",
        "      x=self.norm4(x)\n",
        "    x=self.relu(x)\n",
        "    x=self.pool2(x)\n",
        "    \n",
        "    x=self.flatten(x)\n",
        "    x=self.fc1(x)\n",
        "    x=self.relu(x)\n",
        "    x=self.fc2(x)\n",
        "    return x\n",
        "    "
      ]
    },
    {
      "cell_type": "code",
      "execution_count": 8,
      "metadata": {},
      "outputs": [],
      "source": [
        "def accuracy(model,batch,loss_fn):\n",
        "    imgs,labels=batch\n",
        "    imgs=imgs.cuda()\n",
        "    labels=labels.cuda()\n",
        "    outputs=model(imgs)\n",
        "    _,pred=torch.max(outputs,dim=1)\n",
        "    acc=torch.sum(pred==labels).item()\n",
        "    loss=loss_fn(outputs,labels)\n",
        "    return loss,torch.tensor(acc/len(labels))\n",
        "\n",
        "@torch.no_grad() \n",
        "def evaluate(model,loader,loss_fn):\n",
        "    model.eval()\n",
        "    # crit is a list of pairs of tensors\n",
        "    crit=[accuracy(model,batch,loss_fn) for batch in loader]\n",
        "    crit=torch.tensor(crit)\n",
        "    m=crit.mean(dim=0)\n",
        "    loss=m[0]\n",
        "    acc=m[1]\n",
        "    return loss,acc"
      ]
    },
    {
      "cell_type": "code",
      "execution_count": 9,
      "metadata": {},
      "outputs": [],
      "source": [
        "model=Net(norm_layers=use_BN).cuda()\n",
        "optimizer=Adam(model.parameters())\n",
        "#optimizer=SGD(model.parameters(),lr=0.5)\n",
        "loss_fn=nn.CrossEntropyLoss()"
      ]
    },
    {
      "cell_type": "code",
      "execution_count": 10,
      "metadata": {},
      "outputs": [],
      "source": [
        "\n",
        "from torch.utils.tensorboard import SummaryWriter\n",
        "import datetime\n",
        "# To display tensorboard inside the notebook\n",
        "%load_ext tensorboard\n",
        "current=datetime.datetime.now()\n",
        "log_dir = 'logs/tensorboard/' + ('with BN-' if use_BN else 'withou BN-')+current.strftime(\"%c\")\n",
        "writer=SummaryWriter(log_dir)"
      ]
    },
    {
      "cell_type": "code",
      "execution_count": 11,
      "metadata": {},
      "outputs": [],
      "source": [
        "class EarlyStopping():\n",
        "    def __init__(self,patience=4,tolerance=0):\n",
        "        self.patience=patience\n",
        "        self.tolerance=tolerance\n",
        "        self.min_loss=float('inf')\n",
        "        self.count=0\n",
        "    def __call__(self,loss):\n",
        "        if loss<self.min_loss:\n",
        "            self.count=0\n",
        "            self.min_loss=loss\n",
        "            return False\n",
        "        elif loss>self.min_loss+self.tolerance:\n",
        "            self.count+=1\n",
        "            if self.count>self.patience:\n",
        "                return True\n",
        "        return False\n"
      ]
    },
    {
      "cell_type": "code",
      "execution_count": 12,
      "metadata": {},
      "outputs": [
        {
          "name": "stderr",
          "output_type": "stream",
          "text": [
            "Epoch [1/50]: 100%|██████████| 782/782 [00:04<00:00, 163.90it/s, loss=1.4] \n",
            "Epoch [2/50]: 100%|██████████| 782/782 [00:03<00:00, 202.97it/s, loss=1.14]\n",
            "Epoch [3/50]: 100%|██████████| 782/782 [00:03<00:00, 206.22it/s, loss=1.08] \n",
            "Epoch [4/50]: 100%|██████████| 782/782 [00:03<00:00, 206.92it/s, loss=1.01] \n",
            "Epoch [5/50]: 100%|██████████| 782/782 [00:03<00:00, 205.63it/s, loss=0.876]\n",
            "Epoch [6/50]: 100%|██████████| 782/782 [00:03<00:00, 204.05it/s, loss=0.844]\n",
            "Epoch [7/50]: 100%|██████████| 782/782 [00:03<00:00, 204.74it/s, loss=0.798]\n",
            "Epoch [8/50]: 100%|██████████| 782/782 [00:03<00:00, 206.90it/s, loss=0.819]\n",
            "Epoch [9/50]: 100%|██████████| 782/782 [00:03<00:00, 205.42it/s, loss=0.718]\n",
            "Epoch [10/50]: 100%|██████████| 782/782 [00:03<00:00, 204.86it/s, loss=0.639]\n",
            "Epoch [11/50]: 100%|██████████| 782/782 [00:03<00:00, 205.90it/s, loss=0.604]\n",
            "Epoch [12/50]: 100%|██████████| 782/782 [00:03<00:00, 206.26it/s, loss=0.585]\n",
            "Epoch [13/50]: 100%|██████████| 782/782 [00:03<00:00, 205.81it/s, loss=0.615]\n",
            "Epoch [14/50]: 100%|██████████| 782/782 [00:03<00:00, 205.08it/s, loss=0.546]\n",
            "Epoch [15/50]: 100%|██████████| 782/782 [00:03<00:00, 204.85it/s, loss=0.479]\n",
            "Epoch [16/50]: 100%|██████████| 782/782 [00:03<00:00, 205.21it/s, loss=0.566]\n",
            "Epoch [17/50]: 100%|██████████| 782/782 [00:03<00:00, 203.81it/s, loss=0.54] \n",
            "Epoch [18/50]: 100%|██████████| 782/782 [00:04<00:00, 193.94it/s, loss=0.465]\n",
            "Epoch [19/50]: 100%|██████████| 782/782 [00:04<00:00, 186.77it/s, loss=0.471]\n",
            "Epoch [20/50]: 100%|██████████| 782/782 [00:04<00:00, 180.68it/s, loss=0.387]\n",
            "Epoch [21/50]: 100%|██████████| 782/782 [00:04<00:00, 180.97it/s, loss=0.459]\n",
            "Epoch [22/50]: 100%|██████████| 782/782 [00:03<00:00, 196.55it/s, loss=0.381]\n",
            "Epoch [23/50]: 100%|██████████| 782/782 [00:03<00:00, 203.87it/s, loss=0.379]\n",
            "Epoch [24/50]: 100%|██████████| 782/782 [00:03<00:00, 200.83it/s, loss=0.421]\n",
            "Epoch [25/50]: 100%|██████████| 782/782 [00:03<00:00, 203.48it/s, loss=0.316]\n",
            "Epoch [26/50]: 100%|██████████| 782/782 [00:03<00:00, 200.88it/s, loss=0.323]\n",
            "Epoch [27/50]: 100%|██████████| 782/782 [00:03<00:00, 197.37it/s, loss=0.337]\n",
            "Epoch [28/50]: 100%|██████████| 782/782 [00:03<00:00, 196.50it/s, loss=0.279]\n",
            "Epoch [29/50]: 100%|██████████| 782/782 [00:03<00:00, 198.32it/s, loss=0.349]\n",
            "Epoch [30/50]: 100%|██████████| 782/782 [00:03<00:00, 204.93it/s, loss=0.244]\n",
            "Epoch [31/50]: 100%|██████████| 782/782 [00:04<00:00, 184.90it/s, loss=0.224]\n",
            "Epoch [32/50]: 100%|██████████| 782/782 [00:03<00:00, 204.49it/s, loss=0.282]\n",
            "Epoch [33/50]: 100%|██████████| 782/782 [00:03<00:00, 199.04it/s, loss=0.218]\n",
            "Epoch [34/50]: 100%|██████████| 782/782 [00:04<00:00, 188.23it/s, loss=0.18] \n",
            "Epoch [35/50]: 100%|██████████| 782/782 [00:03<00:00, 199.54it/s, loss=0.171]\n",
            "Epoch [36/50]: 100%|██████████| 782/782 [00:03<00:00, 205.10it/s, loss=0.191]\n",
            "Epoch [37/50]: 100%|██████████| 782/782 [00:03<00:00, 204.18it/s, loss=0.158]\n",
            "Epoch [38/50]: 100%|██████████| 782/782 [00:03<00:00, 201.36it/s, loss=0.192] \n",
            "Epoch [39/50]: 100%|██████████| 782/782 [00:03<00:00, 203.16it/s, loss=0.159]\n",
            "Epoch [40/50]: 100%|██████████| 782/782 [00:03<00:00, 205.45it/s, loss=0.181] \n",
            "Epoch [41/50]: 100%|██████████| 782/782 [00:03<00:00, 205.28it/s, loss=0.206] \n",
            "Epoch [42/50]: 100%|██████████| 782/782 [00:03<00:00, 198.49it/s, loss=0.166] \n",
            "Epoch [43/50]: 100%|██████████| 782/782 [00:03<00:00, 205.43it/s, loss=0.154] \n",
            "Epoch [44/50]: 100%|██████████| 782/782 [00:04<00:00, 190.05it/s, loss=0.188] \n",
            "Epoch [45/50]: 100%|██████████| 782/782 [00:03<00:00, 200.79it/s, loss=0.182] \n",
            "Epoch [46/50]: 100%|██████████| 782/782 [00:03<00:00, 200.10it/s, loss=0.149] \n",
            "Epoch [47/50]: 100%|██████████| 782/782 [00:03<00:00, 205.56it/s, loss=0.168] \n",
            "Epoch [48/50]: 100%|██████████| 782/782 [00:03<00:00, 205.22it/s, loss=0.197] \n",
            "Epoch [49/50]: 100%|██████████| 782/782 [00:03<00:00, 207.08it/s, loss=0.17]  \n",
            "Epoch [50/50]: 100%|██████████| 782/782 [00:03<00:00, 205.02it/s, loss=0.127] \n"
          ]
        }
      ],
      "source": [
        "trigger=True\n",
        "es=EarlyStopping()\n",
        "from tqdm import tqdm\n",
        "for epoch in range(epochs):\n",
        "  loop=tqdm(loader_train)\n",
        "  loop.set_description(f\"Epoch [{epoch+1}/{epochs}]\")\n",
        "  epoch_loss=0.\n",
        "  model.train()\n",
        "  for (imgs,labels) in loop:\n",
        "    optimizer.zero_grad()\n",
        "    imgs=imgs.cuda()\n",
        "    labels=labels.cuda()\n",
        "    outputs=model(imgs)\n",
        "    loss=loss_fn(outputs,labels)\n",
        "    loss.backward()\n",
        "    optimizer.step()\n",
        "    epoch_loss=0.9*epoch_loss+0.1*loss.item()\n",
        "    loop.set_postfix(loss=epoch_loss)\n",
        "   \n",
        "  t_loss,t_acc=evaluate(model,loader_train,loss_fn)\n",
        "  v_loss,v_acc=evaluate(model,loader_test,loss_fn)\n",
        "  writer.add_scalar(\"Epoch loss\",epoch_loss,epoch)\n",
        "  writer.add_scalars(\"loss\",{'train':t_loss,'valid':v_loss},epoch)\n",
        "  writer.add_scalars(\"acc\",{'train':t_acc,'valid':v_acc},epoch)\n",
        "  # if es(v_loss) and trigger:\n",
        "  #   break\n",
        "  #   print(\"At epoch={} we should stop. Validation accuracy={}\".format(epoch,v_acc))\n",
        "  #   trigger=False\n",
        "writer.close()   "
      ]
    },
    {
      "cell_type": "code",
      "execution_count": 13,
      "metadata": {},
      "outputs": [
        {
          "data": {
            "text/plain": [
              "Reusing TensorBoard on port 6006 (pid 323178), started 2 days, 20:05:25 ago. (Use '!kill 323178' to kill it.)"
            ]
          },
          "metadata": {},
          "output_type": "display_data"
        },
        {
          "data": {
            "text/html": [
              "\n",
              "      <iframe id=\"tensorboard-frame-d0c8d3787ed4f3c5\" width=\"100%\" height=\"800\" frameborder=\"0\">\n",
              "      </iframe>\n",
              "      <script>\n",
              "        (function() {\n",
              "          const frame = document.getElementById(\"tensorboard-frame-d0c8d3787ed4f3c5\");\n",
              "          const url = new URL(\"http://localhost\");\n",
              "          const port = 6006;\n",
              "          if (port) {\n",
              "            url.port = port;\n",
              "          }\n",
              "          frame.src = url;\n",
              "        })();\n",
              "      </script>\n",
              "    "
            ],
            "text/plain": [
              "<IPython.core.display.HTML object>"
            ]
          },
          "metadata": {},
          "output_type": "display_data"
        }
      ],
      "source": [
        "%tensorboard --logdir logs/tensorboard"
      ]
    },
    {
      "cell_type": "code",
      "execution_count": 14,
      "metadata": {},
      "outputs": [
        {
          "name": "stdout",
          "output_type": "stream",
          "text": [
            "Defaulting to user installation because normal site-packages is not writeable\n",
            "Requirement already satisfied: torchmetrics in /home/user/.local/lib/python3.10/site-packages (0.10.2)\n",
            "Requirement already satisfied: torch>=1.3.1 in /usr/local/lib/python3.10/dist-packages (from torchmetrics) (1.13.0)\n",
            "Requirement already satisfied: packaging in /home/user/.local/lib/python3.10/site-packages (from torchmetrics) (21.3)\n",
            "Requirement already satisfied: numpy>=1.17.2 in /usr/local/lib/python3.10/dist-packages (from torchmetrics) (1.23.4)\n",
            "Requirement already satisfied: typing-extensions in /usr/local/lib/python3.10/dist-packages (from torch>=1.3.1->torchmetrics) (4.4.0)\n",
            "Requirement already satisfied: nvidia-cuda-runtime-cu11==11.7.99 in /usr/local/lib/python3.10/dist-packages (from torch>=1.3.1->torchmetrics) (11.7.99)\n",
            "Requirement already satisfied: nvidia-cudnn-cu11==8.5.0.96 in /usr/local/lib/python3.10/dist-packages (from torch>=1.3.1->torchmetrics) (8.5.0.96)\n",
            "Requirement already satisfied: nvidia-cublas-cu11==11.10.3.66 in /usr/local/lib/python3.10/dist-packages (from torch>=1.3.1->torchmetrics) (11.10.3.66)\n",
            "Requirement already satisfied: nvidia-cuda-nvrtc-cu11==11.7.99 in /usr/local/lib/python3.10/dist-packages (from torch>=1.3.1->torchmetrics) (11.7.99)\n",
            "Requirement already satisfied: wheel in /usr/lib/python3/dist-packages (from nvidia-cublas-cu11==11.10.3.66->torch>=1.3.1->torchmetrics) (0.37.1)\n",
            "Requirement already satisfied: setuptools in /usr/lib/python3/dist-packages (from nvidia-cublas-cu11==11.10.3.66->torch>=1.3.1->torchmetrics) (59.6.0)\n",
            "Requirement already satisfied: pyparsing!=3.0.5,>=2.0.2 in /usr/lib/python3/dist-packages (from packaging->torchmetrics) (2.4.7)\n"
          ]
        }
      ],
      "source": [
        "!pip install torchmetrics\n",
        "from torchmetrics import ConfusionMatrix\n",
        "conmat=ConfusionMatrix(num_classes=10)\n",
        "conmat=conmat.cuda()"
      ]
    },
    {
      "cell_type": "code",
      "execution_count": 15,
      "metadata": {},
      "outputs": [],
      "source": [
        "total=0\n",
        "correct=0\n",
        "for data in loader_test:\n",
        "  imgs,labels=data\n",
        "  imgs=imgs.cuda()\n",
        "  labels=labels.cuda()\n",
        "  outputs=model(imgs)\n",
        "  # the second return value is the index of the max i.e. argmax\n",
        "  _,predicted=torch.max(outputs.data,1)\n",
        "  correct+=(predicted==labels).sum()\n",
        "  total+=labels.size()[0]\n",
        "  conmat.update(predicted,labels)\n"
      ]
    },
    {
      "cell_type": "code",
      "execution_count": 16,
      "metadata": {},
      "outputs": [
        {
          "data": {
            "text/plain": [
              "<AxesSubplot: >"
            ]
          },
          "execution_count": 16,
          "metadata": {},
          "output_type": "execute_result"
        },
        {
          "data": {
            "image/png": "[encoded data removed]",
            "text/plain": [
              "<Figure size 1000x700 with 2 Axes>"
            ]
          },
          "metadata": {},
          "output_type": "display_data"
        }
      ],
      "source": [
        "import matplotlib.pyplot as plt\n",
        "import seaborn as sb\n",
        "x=conmat.compute().cpu().numpy()\n",
        "plt.figure(figsize=(10,7))\n",
        "sb.heatmap(x,xticklabels=dataset_train.classes,yticklabels=dataset_train.classes,annot=True,fmt=\".0f\")"
      ]
    },
    {
      "attachments": {},
      "cell_type": "markdown",
      "metadata": {},
      "source": [
        "- The rows are the actual images and the columns are the prediction (How can you check?)\n",
        "- While the prediction accuracy is good albeit not impressive\n",
        "- From the confusion matrix we find justifications for the inaccuracies\n",
        "- For example\n",
        "    - most of the incorrect classifications of automobiles were classified as trucks\n",
        "    - most of the incorrect classifications of cats/dogs were classified as dogs/cats\n",
        "    "
      ]
    }
  ],
  "metadata": {
    "celltoolbar": "Slideshow",
    "colab": {
      "provenance": []
    },
    "kernelspec": {
      "display_name": "Python 3",
      "language": "python",
      "name": "python3"
    },
    "language_info": {
      "codemirror_mode": {
        "name": "ipython",
        "version": 3
      },
      "file_extension": ".py",
      "mimetype": "text/x-python",
      "name": "python",
      "nbconvert_exporter": "python",
      "pygments_lexer": "ipython3",
      "version": "3.9.6 (tags/v3.9.6:db3ff76, Jun 28 2021, 15:26:21) [MSC v.1929 64 bit (AMD64)]"
    },
    "vscode": {
      "interpreter": {
        "hash": "81794d4967e6c3204c66dcd87b604927b115b27c00565d3d43f05ba2f3a2cb0d"
      }
    }
  },
  "nbformat": 4,
  "nbformat_minor": 0
}
