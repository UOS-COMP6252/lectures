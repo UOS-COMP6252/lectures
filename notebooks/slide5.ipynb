{
  "cells": [
    {
      "cell_type": "code",
      "execution_count": 1,
      "metadata": {
        "id": "HTsa4o4TAkhT"
      },
      "outputs": [],
      "source": [
        "import torch\n",
        "import torch.nn as nn\n",
        "import torch.nn.functional as F\n",
        "import torchvision as vision\n",
        "import torchvision.transforms as transforms\n",
        "from torch.utils.data import DataLoader\n",
        "from torch.optim import SGD,Adam"
      ]
    },
    {
      "attachments": {},
      "cell_type": "markdown",
      "metadata": {},
      "source": [
        "### Convolution Network for CIFAR10"
      ]
    },
    {
      "cell_type": "code",
      "execution_count": 2,
      "metadata": {},
      "outputs": [],
      "source": [
        "# to ensure some reproducibility \n",
        "torch.manual_seed(9)\n",
        "# use/not use batch normalization\n",
        "use_BN=True\n",
        "epochs=100"
      ]
    },
    {
      "cell_type": "code",
      "execution_count": 3,
      "metadata": {},
      "outputs": [
        {
          "name": "stdout",
          "output_type": "stream",
          "text": [
            "Files already downloaded and verified\n",
            "Files already downloaded and verified\n"
          ]
        }
      ],
      "source": [
        "transform = transforms.ToTensor()\n",
        "#transform = transforms.Compose([transforms.ToTensor(),transforms.Normalize((0.,0.,0.),(1.,1.,1.))])\n",
        "dataset_train=vision.datasets.CIFAR10(\".\",download=True,train=True,transform=transform)\n",
        "dataset_test=vision.datasets.CIFAR10(\".\",download=True,train=False,transform=transform)\n",
        "loader_train=DataLoader(dataset_train,batch_size=64,shuffle=True,num_workers=2)\n",
        "loader_test=DataLoader(dataset_test,batch_size=512,shuffle=False)"
      ]
    },
    {
      "cell_type": "code",
      "execution_count": 4,
      "metadata": {},
      "outputs": [],
      "source": [
        "class TwoBlockConvBnReLU(nn.Module):\n",
        "    def __init__(self,in_channels,out_channels,kernel_size):\n",
        "        super().__init__()\n",
        "        self.in_channels=in_channels\n",
        "        self.out_channels=out_channels\n",
        "        self.kernel_size=kernel_size\n",
        "        self.conv1=nn.Conv2d(self.in_channels,self.out_channels,self.kernel_size)\n",
        "        self.conv2=nn.Conv2d(self.out_channels,self.out_channels,self.kernel_size)\n",
        "\n",
        "        self.relu=nn.ReLU()\n",
        "        self.norm1=nn.BatchNorm2d(self.out_channels)\n",
        "        self.norm2=nn.BatchNorm2d(self.out_channels)\n",
        "        self.pool=nn.MaxPool2d(kernel_size=2)\n",
        "    def forward(self,x):\n",
        "        x=self.conv1(x)\n",
        "        x=self.norm1(x)\n",
        "        x=self.relu(x)\n",
        "\n",
        "        x=self.conv2(x)\n",
        "        x=self.norm2(x)\n",
        "        x=self.relu(x)\n",
        "        x=self.pool(x)\n",
        "\n",
        "        return x\n",
        "        "
      ]
    },
    {
      "cell_type": "code",
      "execution_count": 5,
      "metadata": {},
      "outputs": [],
      "source": [
        "class TwoBlockConvReLUBn(nn.Module):\n",
        "    def __init__(self,in_channels,out_channels,kernel_size):\n",
        "        super().__init__()\n",
        "        self.in_channels=in_channels\n",
        "        self.out_channels=out_channels\n",
        "        self.kernel_size=kernel_size\n",
        "        self.conv1=nn.Conv2d(self.in_channels,self.out_channels,self.kernel_size)\n",
        "        self.conv2=nn.Conv2d(self.out_channels,self.out_channels,self.kernel_size)\n",
        "\n",
        "        self.relu=nn.ReLU()\n",
        "        self.norm1=nn.BatchNorm2d(self.out_channels)\n",
        "        self.norm2=nn.BatchNorm2d(self.out_channels)\n",
        "        self.pool=nn.MaxPool2d(kernel_size=2)\n",
        "    def forward(self,x):\n",
        "        x=self.conv1(x)\n",
        "        x=self.relu(x)\n",
        "        x=self.norm1(x)\n",
        "        \n",
        "        x=self.conv2(x)\n",
        "        x=self.relu(x)\n",
        "        x=self.norm2(x)\n",
        "        x=self.pool(x)\n",
        "\n",
        "        return x"
      ]
    },
    {
      "cell_type": "code",
      "execution_count": 6,
      "metadata": {},
      "outputs": [],
      "source": [
        "class Net2(nn.Module):\n",
        "    def __init__(self):\n",
        "        super().__init__()\n",
        "        self.block1=TwoBlockConvBnReLU(3,32,3)\n",
        "        self.block2=TwoBlockConvBnReLU(32,64,3)\n",
        "        #self.block1=TwoBlockConvReLUBn(3,32,3)\n",
        "        #self.block2=TwoBlockConvReLUBn(32,64,3)\n",
        "        self.flatten=nn.Flatten()\n",
        "        self.relu=nn.ReLU()    \n",
        "        self.fc1=nn.Linear(in_features=5*5*64,out_features=128)\n",
        "        self.fc2=nn.Linear(in_features=128,out_features=10)\n",
        "    def forward(self,x):\n",
        "        x=self.block1(x)\n",
        "        x=self.block2(x)\n",
        "        \n",
        "        x=self.flatten(x)\n",
        "        x=self.fc1(x)\n",
        "        x=self.relu(x)\n",
        "        x=self.fc2(x)\n",
        "        return x"
      ]
    },
    {
      "cell_type": "code",
      "execution_count": 7,
      "metadata": {},
      "outputs": [],
      "source": [
        "class Net(nn.Module):\n",
        "  def __init__(self,norm_layers=True):\n",
        "    super().__init__()\n",
        "    #self.norm1=nn.BatchNorm2d(32,track_running_stats=False)\n",
        "    #self.norm2=nn.BatchNorm2d(64,track_running_stats=False)\n",
        "    self.norm_layers=norm_layers\n",
        "    self.norm1=nn.BatchNorm2d(32)\n",
        "    self.norm2=nn.BatchNorm2d(32)\n",
        "    self.norm3=nn.BatchNorm2d(64)\n",
        "    self.norm4=nn.BatchNorm2d(64)\n",
        "    self.relu=nn.ReLU()\n",
        "    # input is (*,3,32,32)\n",
        "    self.conv1=nn.Conv2d(in_channels=3,out_channels=32,kernel_size=3)\n",
        "    # input is (*,32,30,30)\n",
        "    self.conv2=nn.Conv2d(in_channels=32,out_channels=32,kernel_size=3)\n",
        "    # input is (*,32,28,28)\n",
        "    self.pool1=nn.MaxPool2d(kernel_size=(2,2))\n",
        "    # input is (*,32,14,14)\n",
        "    self.conv3=nn.Conv2d(in_channels=32,out_channels=64,kernel_size=3)\n",
        "    # input is (*,64,12,12)\n",
        "    self.conv4=nn.Conv2d(in_channels=64,out_channels=64,kernel_size=3)\n",
        "    # input is (*,64,10,10)\n",
        "    self.pool2=nn.MaxPool2d(kernel_size=(2,2))\n",
        "    # input is (*,64,5,5)\n",
        "    self.flatten=nn.Flatten()\n",
        "    # input is (*,64x5x5)\n",
        "    self.fc1=nn.Linear(in_features=5*5*64,out_features=128)\n",
        "    self.fc2=nn.Linear(in_features=128,out_features=10)\n",
        "\n",
        "  def forward(self,x):\n",
        "    x=self.conv1(x)\n",
        "    if self.norm_layers:\n",
        "      x=self.norm1(x)\n",
        "    x=self.relu(x)\n",
        "    x=self.conv2(x)\n",
        "    if self.norm_layers:\n",
        "      x=self.norm2(x)\n",
        "    x=self.relu(x)\n",
        "    x=self.pool1(x)\n",
        "    \n",
        "    x=self.conv3(x)\n",
        "    if self.norm_layers:\n",
        "      x=self.norm3(x)\n",
        "    x=self.relu(x)\n",
        "    x=self.conv4(x)\n",
        "    if self.norm_layers:\n",
        "      x=self.norm4(x)\n",
        "    x=self.relu(x)\n",
        "    x=self.pool2(x)\n",
        "    \n",
        "    x=self.flatten(x)\n",
        "    x=self.fc1(x)\n",
        "    x=self.relu(x)\n",
        "    x=self.fc2(x)\n",
        "    return x\n",
        "    "
      ]
    },
    {
      "cell_type": "code",
      "execution_count": 8,
      "metadata": {},
      "outputs": [],
      "source": [
        "def get_accuracy(dataloader,model):\n",
        "  total=len(dataloader.dataset.data)\n",
        "  correct=0\n",
        "  for data in dataloader:\n",
        "    imgs,labels=data\n",
        "    imgs=imgs.cuda()\n",
        "    labels=labels.cuda()\n",
        "    outputs=model(imgs)\n",
        "  # the second return value is the index of the max i.e. argmax\n",
        "    _,predicted=torch.max(outputs.data,1)\n",
        "    correct+=(predicted==labels).sum()\n",
        "  \n",
        "\n",
        "  return (correct/total).item()\n",
        "def accuracy(model,batch):\n",
        "    imgs,labels=batch\n",
        "    imgs=imgs.cuda()\n",
        "    labels=labels.cuda()\n",
        "    outputs=model(imgs)\n",
        "    _,pred=torch.max(outputs,dim=1)\n",
        "    acc=torch.sum(pred==labels).item()\n",
        "    return torch.tensor(acc/len(labels))\n",
        "  \n",
        "@torch.no_grad() \n",
        "def evaluate(model,loader):\n",
        "    model.eval()\n",
        "    acc=[accuracy(model,batch) for batch in loader]\n",
        "    acc=torch.stack(acc).mean()\n",
        "    return acc "
      ]
    },
    {
      "cell_type": "code",
      "execution_count": 9,
      "metadata": {},
      "outputs": [],
      "source": [
        "#model=Net(norm_layers=use_BN).cuda()\n",
        "model=Net2().cuda()\n",
        "optimizer=Adam(model.parameters())\n",
        "loss_fn=nn.CrossEntropyLoss()"
      ]
    },
    {
      "cell_type": "code",
      "execution_count": 10,
      "metadata": {},
      "outputs": [],
      "source": [
        "import datetime\n",
        "from torch.utils.tensorboard import SummaryWriter\n",
        "# To display tensorboard inside the notebook\n",
        "%load_ext tensorboard\n",
        "current_time = str(datetime.datetime.now().timestamp())\n",
        "log_dir = 'logs/tensorboard/' + ('with BN-' if use_BN else 'withou BN-')+'-Bn-after-ReLU'+current_time\n",
        "writer=SummaryWriter(log_dir)"
      ]
    },
    {
      "cell_type": "code",
      "execution_count": 11,
      "metadata": {},
      "outputs": [
        {
          "name": "stderr",
          "output_type": "stream",
          "text": [
            "Epoch [1/100]: 100%|██████████| 782/782 [00:04<00:00, 167.10it/s, loss=0.9]  \n",
            "Epoch [2/100]: 100%|██████████| 782/782 [00:04<00:00, 186.11it/s, loss=0.74] \n",
            "Epoch [3/100]: 100%|██████████| 782/782 [00:04<00:00, 185.48it/s, loss=0.668]\n",
            "Epoch [4/100]: 100%|██████████| 782/782 [00:04<00:00, 186.17it/s, loss=0.581]\n",
            "Epoch [5/100]: 100%|██████████| 782/782 [00:04<00:00, 186.33it/s, loss=0.545]\n",
            "Epoch [6/100]: 100%|██████████| 782/782 [00:04<00:00, 185.27it/s, loss=0.516]\n",
            "Epoch [7/100]: 100%|██████████| 782/782 [00:04<00:00, 186.29it/s, loss=0.506]\n",
            "Epoch [8/100]: 100%|██████████| 782/782 [00:04<00:00, 184.83it/s, loss=0.444]\n",
            "Epoch [9/100]: 100%|██████████| 782/782 [00:04<00:00, 185.78it/s, loss=0.364]\n",
            "Epoch [10/100]: 100%|██████████| 782/782 [00:04<00:00, 183.19it/s, loss=0.295]\n",
            "Epoch [11/100]: 100%|██████████| 782/782 [00:04<00:00, 184.14it/s, loss=0.348]\n",
            "Epoch [12/100]: 100%|██████████| 782/782 [00:04<00:00, 183.28it/s, loss=0.26] \n",
            "Epoch [13/100]: 100%|██████████| 782/782 [00:04<00:00, 184.17it/s, loss=0.229]\n",
            "Epoch [14/100]: 100%|██████████| 782/782 [00:04<00:00, 184.62it/s, loss=0.19] \n",
            "Epoch [15/100]: 100%|██████████| 782/782 [00:04<00:00, 184.80it/s, loss=0.189]\n",
            "Epoch [16/100]: 100%|██████████| 782/782 [00:04<00:00, 183.08it/s, loss=0.192] \n",
            "Epoch [17/100]: 100%|██████████| 782/782 [00:04<00:00, 184.67it/s, loss=0.165] \n",
            "Epoch [18/100]: 100%|██████████| 782/782 [00:04<00:00, 181.98it/s, loss=0.164] \n",
            "Epoch [19/100]: 100%|██████████| 782/782 [00:04<00:00, 183.35it/s, loss=0.144] \n",
            "Epoch [20/100]: 100%|██████████| 782/782 [00:04<00:00, 183.98it/s, loss=0.116] \n",
            "Epoch [21/100]: 100%|██████████| 782/782 [00:04<00:00, 181.35it/s, loss=0.155] \n",
            "Epoch [22/100]: 100%|██████████| 782/782 [00:04<00:00, 182.62it/s, loss=0.132] \n",
            "Epoch [23/100]: 100%|██████████| 782/782 [00:04<00:00, 181.28it/s, loss=0.139] \n",
            "Epoch [24/100]: 100%|██████████| 782/782 [00:04<00:00, 180.63it/s, loss=0.127] \n",
            "Epoch [25/100]: 100%|██████████| 782/782 [00:04<00:00, 182.08it/s, loss=0.118] \n",
            "Epoch [26/100]: 100%|██████████| 782/782 [00:04<00:00, 181.42it/s, loss=0.0773]\n",
            "Epoch [27/100]: 100%|██████████| 782/782 [00:04<00:00, 180.83it/s, loss=0.105] \n",
            "Epoch [28/100]: 100%|██████████| 782/782 [00:04<00:00, 181.03it/s, loss=0.0708]\n",
            "Epoch [29/100]: 100%|██████████| 782/782 [00:04<00:00, 180.33it/s, loss=0.0864]\n",
            "Epoch [30/100]: 100%|██████████| 782/782 [00:04<00:00, 180.25it/s, loss=0.142] \n",
            "Epoch [31/100]: 100%|██████████| 782/782 [00:04<00:00, 180.64it/s, loss=0.0636]\n",
            "Epoch [32/100]: 100%|██████████| 782/782 [00:04<00:00, 180.22it/s, loss=0.122] \n",
            "Epoch [33/100]: 100%|██████████| 782/782 [00:04<00:00, 181.47it/s, loss=0.0508]\n",
            "Epoch [34/100]: 100%|██████████| 782/782 [00:04<00:00, 180.27it/s, loss=0.0687]\n",
            "Epoch [35/100]: 100%|██████████| 782/782 [00:04<00:00, 179.79it/s, loss=0.0778]\n",
            "Epoch [36/100]: 100%|██████████| 782/782 [00:04<00:00, 179.64it/s, loss=0.064] \n",
            "Epoch [37/100]: 100%|██████████| 782/782 [00:04<00:00, 180.28it/s, loss=0.0748]\n",
            "Epoch [38/100]: 100%|██████████| 782/782 [00:04<00:00, 179.28it/s, loss=0.059] \n",
            "Epoch [39/100]: 100%|██████████| 782/782 [00:04<00:00, 178.71it/s, loss=0.111] \n",
            "Epoch [40/100]: 100%|██████████| 782/782 [00:04<00:00, 179.38it/s, loss=0.0306]\n",
            "Epoch [41/100]: 100%|██████████| 782/782 [00:04<00:00, 180.19it/s, loss=0.0847]\n",
            "Epoch [42/100]: 100%|██████████| 782/782 [00:04<00:00, 179.66it/s, loss=0.0603]\n",
            "Epoch [43/100]: 100%|██████████| 782/782 [00:04<00:00, 177.99it/s, loss=0.0667]\n",
            "Epoch [44/100]: 100%|██████████| 782/782 [00:04<00:00, 180.27it/s, loss=0.0552]\n",
            "Epoch [45/100]: 100%|██████████| 782/782 [00:04<00:00, 179.50it/s, loss=0.0354]\n",
            "Epoch [46/100]: 100%|██████████| 782/782 [00:04<00:00, 177.71it/s, loss=0.036] \n",
            "Epoch [47/100]: 100%|██████████| 782/782 [00:04<00:00, 178.81it/s, loss=0.0462]\n",
            "Epoch [48/100]: 100%|██████████| 782/782 [00:04<00:00, 177.66it/s, loss=0.0636]\n",
            "Epoch [49/100]: 100%|██████████| 782/782 [00:04<00:00, 177.90it/s, loss=0.0317]\n",
            "Epoch [50/100]: 100%|██████████| 782/782 [00:04<00:00, 178.36it/s, loss=0.0474]\n",
            "Epoch [51/100]: 100%|██████████| 782/782 [00:04<00:00, 177.06it/s, loss=0.0755]\n",
            "Epoch [52/100]: 100%|██████████| 782/782 [00:04<00:00, 178.33it/s, loss=0.0657]\n",
            "Epoch [53/100]: 100%|██████████| 782/782 [00:04<00:00, 178.31it/s, loss=0.0349]\n",
            "Epoch [54/100]: 100%|██████████| 782/782 [00:04<00:00, 178.08it/s, loss=0.0783]\n",
            "Epoch [55/100]: 100%|██████████| 782/782 [00:04<00:00, 176.81it/s, loss=0.0485]\n",
            "Epoch [56/100]: 100%|██████████| 782/782 [00:04<00:00, 177.46it/s, loss=0.029] \n",
            "Epoch [57/100]: 100%|██████████| 782/782 [00:04<00:00, 176.68it/s, loss=0.058] \n",
            "Epoch [58/100]: 100%|██████████| 782/782 [00:04<00:00, 176.62it/s, loss=0.042] \n",
            "Epoch [59/100]: 100%|██████████| 782/782 [00:04<00:00, 174.64it/s, loss=0.0153]\n",
            "Epoch [60/100]: 100%|██████████| 782/782 [00:04<00:00, 176.62it/s, loss=0.0556]\n",
            "Epoch [61/100]: 100%|██████████| 782/782 [00:04<00:00, 176.07it/s, loss=0.0709]\n",
            "Epoch [62/100]: 100%|██████████| 782/782 [00:04<00:00, 176.87it/s, loss=0.0322]\n",
            "Epoch [63/100]: 100%|██████████| 782/782 [00:04<00:00, 174.99it/s, loss=0.0305]\n",
            "Epoch [64/100]: 100%|██████████| 782/782 [00:04<00:00, 176.96it/s, loss=0.0352]\n",
            "Epoch [65/100]: 100%|██████████| 782/782 [00:04<00:00, 175.72it/s, loss=0.0291] \n",
            "Epoch [66/100]: 100%|██████████| 782/782 [00:04<00:00, 176.00it/s, loss=0.0395]\n",
            "Epoch [67/100]: 100%|██████████| 782/782 [00:04<00:00, 176.49it/s, loss=0.0256]\n",
            "Epoch [68/100]: 100%|██████████| 782/782 [00:04<00:00, 175.89it/s, loss=0.0408]\n",
            "Epoch [69/100]: 100%|██████████| 782/782 [00:04<00:00, 175.62it/s, loss=0.0356]\n",
            "Epoch [70/100]: 100%|██████████| 782/782 [00:04<00:00, 176.37it/s, loss=0.0266]\n",
            "Epoch [71/100]: 100%|██████████| 782/782 [00:04<00:00, 176.21it/s, loss=0.0565] \n",
            "Epoch [72/100]: 100%|██████████| 782/782 [00:04<00:00, 175.46it/s, loss=0.0236]\n",
            "Epoch [73/100]: 100%|██████████| 782/782 [00:04<00:00, 173.77it/s, loss=0.0523] \n",
            "Epoch [74/100]: 100%|██████████| 782/782 [00:04<00:00, 174.63it/s, loss=0.0406] \n",
            "Epoch [75/100]: 100%|██████████| 782/782 [00:04<00:00, 173.97it/s, loss=0.0368] \n",
            "Epoch [76/100]: 100%|██████████| 782/782 [00:04<00:00, 173.87it/s, loss=0.0293]\n",
            "Epoch [77/100]: 100%|██████████| 782/782 [00:04<00:00, 174.69it/s, loss=0.0257]\n",
            "Epoch [78/100]: 100%|██████████| 782/782 [00:04<00:00, 173.79it/s, loss=0.0118] \n",
            "Epoch [79/100]: 100%|██████████| 782/782 [00:04<00:00, 174.86it/s, loss=0.0229]\n",
            "Epoch [80/100]: 100%|██████████| 782/782 [00:04<00:00, 174.75it/s, loss=0.0514]\n",
            "Epoch [81/100]: 100%|██████████| 782/782 [00:04<00:00, 173.80it/s, loss=0.028] \n",
            "Epoch [82/100]: 100%|██████████| 782/782 [00:04<00:00, 174.22it/s, loss=0.0294] \n",
            "Epoch [83/100]: 100%|██████████| 782/782 [00:04<00:00, 174.58it/s, loss=0.0707] \n",
            "Epoch [84/100]: 100%|██████████| 782/782 [00:04<00:00, 173.12it/s, loss=0.0356]\n",
            "Epoch [85/100]: 100%|██████████| 782/782 [00:04<00:00, 171.36it/s, loss=0.0265]\n",
            "Epoch [86/100]: 100%|██████████| 782/782 [00:04<00:00, 172.30it/s, loss=0.082]  \n",
            "Epoch [87/100]: 100%|██████████| 782/782 [00:04<00:00, 173.41it/s, loss=0.0298] \n",
            "Epoch [88/100]: 100%|██████████| 782/782 [00:04<00:00, 171.65it/s, loss=0.0223] \n",
            "Epoch [89/100]: 100%|██████████| 782/782 [00:04<00:00, 171.71it/s, loss=0.0372] \n",
            "Epoch [90/100]: 100%|██████████| 782/782 [00:04<00:00, 170.81it/s, loss=0.0308]\n",
            "Epoch [91/100]: 100%|██████████| 782/782 [00:04<00:00, 173.51it/s, loss=0.0122] \n",
            "Epoch [92/100]: 100%|██████████| 782/782 [00:04<00:00, 177.68it/s, loss=0.0206] \n",
            "Epoch [93/100]: 100%|██████████| 782/782 [00:04<00:00, 172.81it/s, loss=0.0159] \n",
            "Epoch [94/100]: 100%|██████████| 782/782 [00:04<00:00, 171.18it/s, loss=0.0712] \n",
            "Epoch [95/100]: 100%|██████████| 782/782 [00:04<00:00, 175.41it/s, loss=0.0224] \n",
            "Epoch [96/100]: 100%|██████████| 782/782 [00:04<00:00, 175.54it/s, loss=0.0169] \n",
            "Epoch [97/100]: 100%|██████████| 782/782 [00:04<00:00, 174.46it/s, loss=0.0307] \n",
            "Epoch [98/100]: 100%|██████████| 782/782 [00:04<00:00, 175.18it/s, loss=0.0625] \n",
            "Epoch [99/100]: 100%|██████████| 782/782 [00:04<00:00, 176.55it/s, loss=0.0184] \n",
            "Epoch [100/100]: 100%|██████████| 782/782 [00:04<00:00, 180.92it/s, loss=0.0787] \n"
          ]
        }
      ],
      "source": [
        "\n",
        "from tqdm import tqdm\n",
        "for epoch in range(epochs):\n",
        "  loop=tqdm(loader_train)\n",
        "  loop.set_description(f\"Epoch [{epoch+1}/{epochs}]\")\n",
        "  epoch_loss=0.\n",
        "  model.train()\n",
        "  for (imgs,labels) in loop:\n",
        "    optimizer.zero_grad()\n",
        "    imgs=imgs.cuda()\n",
        "    labels=labels.cuda()\n",
        "    outputs=model(imgs)\n",
        "    loss=loss_fn(outputs,labels)\n",
        "    loss.backward()\n",
        "    optimizer.step()\n",
        "    epoch_loss=0.9*epoch_loss+0.1*loss.item()\n",
        "    loop.set_postfix(loss=epoch_loss)\n",
        "   \n",
        "  #acc=get_accuracy(loader_test,model)\n",
        "  acc=evaluate(model,loader_test)\n",
        "  writer.add_scalar(\"loss\",epoch_loss,epoch)\n",
        "  writer.add_scalar(\"acc\",acc,epoch)\n",
        "writer.close()   "
      ]
    },
    {
      "cell_type": "code",
      "execution_count": 12,
      "metadata": {},
      "outputs": [
        {
          "data": {
            "text/plain": [
              "Reusing TensorBoard on port 6006 (pid 323178), started 22:09:18 ago. (Use '!kill 323178' to kill it.)"
            ]
          },
          "metadata": {},
          "output_type": "display_data"
        },
        {
          "data": {
            "text/html": [
              "\n",
              "      <iframe id=\"tensorboard-frame-6d61c8b2ed674aee\" width=\"100%\" height=\"800\" frameborder=\"0\">\n",
              "      </iframe>\n",
              "      <script>\n",
              "        (function() {\n",
              "          const frame = document.getElementById(\"tensorboard-frame-6d61c8b2ed674aee\");\n",
              "          const url = new URL(\"http://localhost\");\n",
              "          const port = 6006;\n",
              "          if (port) {\n",
              "            url.port = port;\n",
              "          }\n",
              "          frame.src = url;\n",
              "        })();\n",
              "      </script>\n",
              "    "
            ],
            "text/plain": [
              "<IPython.core.display.HTML object>"
            ]
          },
          "metadata": {},
          "output_type": "display_data"
        }
      ],
      "source": [
        "%tensorboard --logdir logs/tensorboard"
      ]
    },
    {
      "cell_type": "code",
      "execution_count": 13,
      "metadata": {},
      "outputs": [
        {
          "name": "stdout",
          "output_type": "stream",
          "text": [
            "Defaulting to user installation because normal site-packages is not writeable\n",
            "Requirement already satisfied: torchmetrics in /home/user/.local/lib/python3.10/site-packages (0.10.2)\n",
            "Requirement already satisfied: packaging in /home/user/.local/lib/python3.10/site-packages (from torchmetrics) (21.3)\n",
            "Requirement already satisfied: numpy>=1.17.2 in /usr/local/lib/python3.10/dist-packages (from torchmetrics) (1.23.4)\n",
            "Requirement already satisfied: torch>=1.3.1 in /usr/local/lib/python3.10/dist-packages (from torchmetrics) (1.13.0)\n",
            "Requirement already satisfied: nvidia-cuda-nvrtc-cu11==11.7.99 in /usr/local/lib/python3.10/dist-packages (from torch>=1.3.1->torchmetrics) (11.7.99)\n",
            "Requirement already satisfied: nvidia-cuda-runtime-cu11==11.7.99 in /usr/local/lib/python3.10/dist-packages (from torch>=1.3.1->torchmetrics) (11.7.99)\n",
            "Requirement already satisfied: nvidia-cudnn-cu11==8.5.0.96 in /usr/local/lib/python3.10/dist-packages (from torch>=1.3.1->torchmetrics) (8.5.0.96)\n",
            "Requirement already satisfied: typing-extensions in /usr/local/lib/python3.10/dist-packages (from torch>=1.3.1->torchmetrics) (4.4.0)\n",
            "Requirement already satisfied: nvidia-cublas-cu11==11.10.3.66 in /usr/local/lib/python3.10/dist-packages (from torch>=1.3.1->torchmetrics) (11.10.3.66)\n",
            "Requirement already satisfied: wheel in /usr/lib/python3/dist-packages (from nvidia-cublas-cu11==11.10.3.66->torch>=1.3.1->torchmetrics) (0.37.1)\n",
            "Requirement already satisfied: setuptools in /usr/lib/python3/dist-packages (from nvidia-cublas-cu11==11.10.3.66->torch>=1.3.1->torchmetrics) (59.6.0)\n",
            "Requirement already satisfied: pyparsing!=3.0.5,>=2.0.2 in /usr/lib/python3/dist-packages (from packaging->torchmetrics) (2.4.7)\n"
          ]
        }
      ],
      "source": [
        "!pip install torchmetrics\n",
        "from torchmetrics import ConfusionMatrix\n",
        "conmat=ConfusionMatrix(num_classes=10)\n",
        "conmat=conmat.cuda()"
      ]
    },
    {
      "cell_type": "code",
      "execution_count": 14,
      "metadata": {},
      "outputs": [],
      "source": [
        "total=0\n",
        "correct=0\n",
        "for data in loader_test:\n",
        "  imgs,labels=data\n",
        "  imgs=imgs.cuda()\n",
        "  labels=labels.cuda()\n",
        "  outputs=model(imgs)\n",
        "  # the second return value is the index of the max i.e. argmax\n",
        "  _,predicted=torch.max(outputs.data,1)\n",
        "  correct+=(predicted==labels).sum()\n",
        "  total+=labels.size()[0]\n",
        "  conmat.update(predicted,labels)\n"
      ]
    },
    {
      "cell_type": "code",
      "execution_count": 15,
      "metadata": {},
      "outputs": [
        {
          "data": {
            "text/plain": [
              "<AxesSubplot: >"
            ]
          },
          "execution_count": 15,
          "metadata": {},
          "output_type": "execute_result"
        },
        {
          "data": {
            "image/png": "[encoded data removed]",
            "text/plain": [
              "<Figure size 1000x700 with 2 Axes>"
            ]
          },
          "metadata": {},
          "output_type": "display_data"
        }
      ],
      "source": [
        "import matplotlib.pyplot as plt\n",
        "import seaborn as sb\n",
        "x=conmat.compute().cpu().numpy()\n",
        "plt.figure(figsize=(10,7))\n",
        "sb.heatmap(x,xticklabels=dataset_train.classes,yticklabels=dataset_train.classes,annot=True,fmt=\".0f\")"
      ]
    },
    {
      "attachments": {},
      "cell_type": "markdown",
      "metadata": {},
      "source": [
        "- The rows are the actual images and the columns are the prediction (How can you check?)\n",
        "- While the prediction accuracy is good albeit not impressive\n",
        "- From the confusion matrix we find justifications for the inaccuracies\n",
        "- For example\n",
        "    - most of the incorrect classifications of automobiles were classified as trucks\n",
        "    - most of the incorrect classifications of cats/dogs were classified as dogs/cats\n",
        "    "
      ]
    },
    {
      "cell_type": "code",
      "execution_count": null,
      "metadata": {},
      "outputs": [],
      "source": []
    }
  ],
  "metadata": {
    "celltoolbar": "Slideshow",
    "colab": {
      "provenance": []
    },
    "kernelspec": {
      "display_name": "Python 3",
      "language": "python",
      "name": "python3"
    },
    "language_info": {
      "codemirror_mode": {
        "name": "ipython",
        "version": 3
      },
      "file_extension": ".py",
      "mimetype": "text/x-python",
      "name": "python",
      "nbconvert_exporter": "python",
      "pygments_lexer": "ipython3",
      "version": "3.10.6"
    },
    "vscode": {
      "interpreter": {
        "hash": "916dbcbb3f70747c44a77c7bcd40155683ae19c65e1c03b4aa3499c5328201f1"
      }
    }
  },
  "nbformat": 4,
  "nbformat_minor": 0
}
