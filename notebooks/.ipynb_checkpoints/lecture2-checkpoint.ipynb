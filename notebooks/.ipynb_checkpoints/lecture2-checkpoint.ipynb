{
 "cells": [
  {
   "cell_type": "markdown",
   "metadata": {},
   "source": [
    "# Lecture2\n",
    "Learning outcomes:\n",
    "1. Be able to use the chain rule to compute the gradient for composite functions\n",
    "1. Be able to construct the computational graph for any sequence of computation\n",
    "1. Understand \n"
   ]
  },
  {
   "cell_type": "markdown",
   "metadata": {},
   "source": [
    "## Backpropagation\n",
    " We mentioned in lecture 1 that PyTorch can compute the gradient to any function. To accomplish this, PyTorch uses three concepts:\n",
    "\n",
    " \n",
    " 1. Computational graph\n",
    " 1. \"Database\" of derivatives to **primitive** functions\n",
    " 1. Chain rule\n",
    " We explain the three concepts  with an example. Consider the following computations:\n",
    "\n",
    " $a=2$\n",
    " \n",
    " $b=4$\n",
    " \n",
    " $c=a+b$\n",
    " \n",
    " $d=\\log(a)*\\log(b)$\n",
    "\n",
    " $e=c*d$\n",
    "\n",
    " Where $\\log(x)$ is the log base two. \n",
    " \n",
    " When a gradient is needed, in this case $\\frac{\\partial e}{\\partial a}$ and $\\frac{\\partial e}{\\partial b}$, PyTorch builds a **computational graph** to perform the operations as shown in the figure below\n"
   ]
  },
  {
   "attachments": {
    "comp-graph1.png": {
     "image/png": "[encoded data removed]"
    }
   },
   "cell_type": "markdown",
   "metadata": {},
   "source": [
    "![comp-graph1.png](attachment:comp-graph1.png)"
   ]
  },
  {
   "cell_type": "markdown",
   "metadata": {},
   "source": [
    "![Comp-graph-1](comp-graph1.png)"
   ]
  },
  {
   "cell_type": "markdown",
   "metadata": {},
   "source": [
    "For every **primitive** operation, PyTorch \"knows\" its derivative. For example, PyTorch has the following rules stored and can look them up when needed.\n",
    "\n",
    "1. $\\frac{\\partial\\log(x)}{\\partial x}=\\frac{1}{x*\\ln(2)}$\n",
    "1. $\\frac{\\partial (x*y)}{\\partial x}=y$\n",
    "1. $\\frac{\\partial (x*y)}{\\partial y}=x$\n",
    "1. $\\frac{\\partial (x+y)}{\\partial x}=1$\n",
    "1. $\\frac{\\partial (x+y)}{\\partial y}=1$\n",
    "\n",
    "\n",
    "Using that information, PyTorch adds, at each step, auxillary nodes to be able to compute the gradient as shown in the figure below.\n",
    "\n",
    "**NOTE**: Actually the node $d$ involves multiple primitive operations than what is shown (see later) but for now we keep it as it is for simplicity."
   ]
  },
  {
   "cell_type": "markdown",
   "metadata": {},
   "source": [
    "![Comp-graph-2](comp-graph2.png)"
   ]
  },
  {
   "cell_type": "markdown",
   "metadata": {},
   "source": [
    "\n",
    "\n",
    "Suppose that we need to compute the gradient of $e$ with respect to $a$ and $b$. Having the above computational graph, PyTorch uses the chain rule:\n",
    "\n",
    " $$\\frac{\\partial e}{\\partial a}=\\frac{\\partial e}{\\partial c}\\frac{\\partial c}{\\partial a}+\\frac{\\partial e}{\\partial d}\\frac{\\partial d}{\\partial a}$$\n",
    " $$\\frac{\\partial e}{\\partial b}=\\frac{\\partial e}{\\partial c}\\frac{\\partial c}{\\partial b}+\\frac{\\partial e}{\\partial d}\\frac{\\partial d}{\\partial b}$$"
   ]
  },
  {
   "cell_type": "markdown",
   "metadata": {},
   "source": [
    "To \"Walk backward\" in the computational graph to compute the gradients. This means that the value at every node is the product of its parent value with the auxillary node (the contributions of multiple parents are added), as shown in the figure below."
   ]
  },
  {
   "cell_type": "markdown",
   "metadata": {},
   "source": [
    "![backprop](backprop.png)"
   ]
  },
  {
   "cell_type": "markdown",
   "metadata": {},
   "source": [
    "So far, in order to keep the graph simple, we glossed over the fact that $d=\\log(a)*\\log(b)$ involves **multiple primitive operations**. Below is the breakdown of how PyTorch actually computes the gradient of $d$"
   ]
  },
  {
   "cell_type": "markdown",
   "metadata": {},
   "source": [
    "![backprop](comp-graph3.png)"
   ]
  },
  {
   "cell_type": "markdown",
   "metadata": {},
   "source": [
    "The PyTorch code corresponding to the example is shown below. Note \n",
    "1. For each **leaf** tensor ```X```, the gradient is stored in ```X.grad```\n",
    "1. The values for **non-leaf** node ```Y``` is **not** saved, unless ```Y.retain_grad()``` is called"
   ]
  },
  {
   "cell_type": "code",
   "execution_count": 14,
   "metadata": {},
   "outputs": [
    {
     "name": "stdout",
     "output_type": "stream",
     "text": [
      "None None\n"
     ]
    }
   ],
   "source": [
    "import torch\n",
    "a=torch.tensor(2.,requires_grad=True)\n",
    "b=torch.tensor(4.,requires_grad=True)\n",
    "c=a+b\n",
    "d=torch.log2(a)*torch.log2(b)\n",
    "d.retain_grad()\n",
    "e=c*d\n",
    "#e.backward()\n",
    "print(a.grad,b.grad)"
   ]
  },
  {
   "cell_type": "code",
   "execution_count": 107,
   "metadata": {},
   "outputs": [],
   "source": [
    "import torchviz"
   ]
  },
  {
   "cell_type": "code",
   "execution_count": 108,
   "metadata": {},
   "outputs": [
    {
     "data": {
      "image/svg+xml": [
       "<?xml version=\"1.0\" encoding=\"UTF-8\" standalone=\"no\"?>\r\n",
       "<!DOCTYPE svg PUBLIC \"-//W3C//DTD SVG 1.1//EN\"\r\n",
       " \"http://www.w3.org/Graphics/SVG/1.1/DTD/svg11.dtd\">\r\n",
       "<!-- Generated by graphviz version 7.0.4 (20221203.1631)\r\n",
       " -->\r\n",
       "<!-- Pages: 1 -->\r\n",
       "<svg width=\"407pt\" height=\"412pt\"\r\n",
       " viewBox=\"0.00 0.00 407.00 412.00\" xmlns=\"http://www.w3.org/2000/svg\" xmlns:xlink=\"http://www.w3.org/1999/xlink\">\r\n",
       "<g id=\"graph0\" class=\"graph\" transform=\"scale(1 1) rotate(0) translate(4 408)\">\r\n",
       "<polygon fill=\"white\" stroke=\"none\" points=\"-4,4 -4,-408 403,-408 403,4 -4,4\"/>\r\n",
       "<!-- 1223865232256 -->\r\n",
       "<g id=\"node1\" class=\"node\">\r\n",
       "<title>1223865232256</title>\r\n",
       "<polygon fill=\"#caff70\" stroke=\"black\" points=\"176.5,-30 122.5,-30 122.5,0 176.5,0 176.5,-30\"/>\r\n",
       "<text text-anchor=\"middle\" x=\"149.5\" y=\"-18\" font-family=\"monospace\" font-size=\"10.00\">e</text>\r\n",
       "<text text-anchor=\"middle\" x=\"149.5\" y=\"-7\" font-family=\"monospace\" font-size=\"10.00\"> ()</text>\r\n",
       "</g>\r\n",
       "<!-- 1223865414464 -->\r\n",
       "<g id=\"node2\" class=\"node\">\r\n",
       "<title>1223865414464</title>\r\n",
       "<polygon fill=\"lightgrey\" stroke=\"black\" points=\"221,-118 78,-118 78,-66 221,-66 221,-118\"/>\r\n",
       "<text text-anchor=\"middle\" x=\"149.5\" y=\"-106\" font-family=\"monospace\" font-size=\"10.00\">MulBackward0</text>\r\n",
       "<text text-anchor=\"middle\" x=\"149.5\" y=\"-95\" font-family=\"monospace\" font-size=\"10.00\">&#45;&#45;&#45;&#45;&#45;&#45;&#45;&#45;&#45;&#45;&#45;&#45;&#45;&#45;&#45;&#45;&#45;&#45;&#45;&#45;&#45;</text>\r\n",
       "<text text-anchor=\"middle\" x=\"149.5\" y=\"-84\" font-family=\"monospace\" font-size=\"10.00\">other: [saved tensor]</text>\r\n",
       "<text text-anchor=\"middle\" x=\"149.5\" y=\"-73\" font-family=\"monospace\" font-size=\"10.00\">self : [saved tensor]</text>\r\n",
       "</g>\r\n",
       "<!-- 1223865414464&#45;&gt;1223865232256 -->\r\n",
       "<g id=\"edge11\" class=\"edge\">\r\n",
       "<title>1223865414464&#45;&gt;1223865232256</title>\r\n",
       "<path fill=\"none\" stroke=\"black\" d=\"M149.5,-65.61C149.5,-57.91 149.5,-49.45 149.5,-41.73\"/>\r\n",
       "<polygon fill=\"black\" stroke=\"black\" points=\"153,-41.94 149.5,-31.94 146,-41.94 153,-41.94\"/>\r\n",
       "</g>\r\n",
       "<!-- 1223865417152 -->\r\n",
       "<g id=\"node3\" class=\"node\">\r\n",
       "<title>1223865417152</title>\r\n",
       "<polygon fill=\"lightgrey\" stroke=\"black\" points=\"244,-283 155,-283 155,-242 244,-242 244,-283\"/>\r\n",
       "<text text-anchor=\"middle\" x=\"199.5\" y=\"-271\" font-family=\"monospace\" font-size=\"10.00\">AddBackward0</text>\r\n",
       "<text text-anchor=\"middle\" x=\"199.5\" y=\"-260\" font-family=\"monospace\" font-size=\"10.00\">&#45;&#45;&#45;&#45;&#45;&#45;&#45;&#45;&#45;&#45;&#45;&#45;</text>\r\n",
       "<text text-anchor=\"middle\" x=\"199.5\" y=\"-249\" font-family=\"monospace\" font-size=\"10.00\">alpha: 1</text>\r\n",
       "</g>\r\n",
       "<!-- 1223865417152&#45;&gt;1223865414464 -->\r\n",
       "<g id=\"edge1\" class=\"edge\">\r\n",
       "<title>1223865417152&#45;&gt;1223865414464</title>\r\n",
       "<path fill=\"none\" stroke=\"black\" d=\"M197.46,-241.68C194.82,-219.79 189.37,-183.73 179.5,-154 176.71,-145.59 172.97,-136.86 169.09,-128.73\"/>\r\n",
       "<polygon fill=\"black\" stroke=\"black\" points=\"172.23,-127.2 164.64,-119.82 165.97,-130.33 172.23,-127.2\"/>\r\n",
       "</g>\r\n",
       "<!-- 1223864360192 -->\r\n",
       "<g id=\"node4\" class=\"node\">\r\n",
       "<title>1223864360192</title>\r\n",
       "<polygon fill=\"lightgrey\" stroke=\"black\" points=\"187,-338 86,-338 86,-319 187,-319 187,-338\"/>\r\n",
       "<text text-anchor=\"middle\" x=\"136.5\" y=\"-326\" font-family=\"monospace\" font-size=\"10.00\">AccumulateGrad</text>\r\n",
       "</g>\r\n",
       "<!-- 1223864360192&#45;&gt;1223865417152 -->\r\n",
       "<g id=\"edge2\" class=\"edge\">\r\n",
       "<title>1223864360192&#45;&gt;1223865417152</title>\r\n",
       "<path fill=\"none\" stroke=\"black\" d=\"M145.26,-318.6C152.23,-311.52 162.39,-301.2 172.03,-291.4\"/>\r\n",
       "<polygon fill=\"black\" stroke=\"black\" points=\"174.35,-294.04 178.87,-284.46 169.36,-289.13 174.35,-294.04\"/>\r\n",
       "</g>\r\n",
       "<!-- 1223864358224 -->\r\n",
       "<g id=\"node9\" class=\"node\">\r\n",
       "<title>1223864358224</title>\r\n",
       "<polygon fill=\"lightgrey\" stroke=\"black\" points=\"137,-283 0,-283 0,-242 137,-242 137,-283\"/>\r\n",
       "<text text-anchor=\"middle\" x=\"68.5\" y=\"-271\" font-family=\"monospace\" font-size=\"10.00\">Log2Backward0</text>\r\n",
       "<text text-anchor=\"middle\" x=\"68.5\" y=\"-260\" font-family=\"monospace\" font-size=\"10.00\">&#45;&#45;&#45;&#45;&#45;&#45;&#45;&#45;&#45;&#45;&#45;&#45;&#45;&#45;&#45;&#45;&#45;&#45;&#45;&#45;</text>\r\n",
       "<text text-anchor=\"middle\" x=\"68.5\" y=\"-249\" font-family=\"monospace\" font-size=\"10.00\">self: [saved tensor]</text>\r\n",
       "</g>\r\n",
       "<!-- 1223864360192&#45;&gt;1223864358224 -->\r\n",
       "<g id=\"edge8\" class=\"edge\">\r\n",
       "<title>1223864360192&#45;&gt;1223864358224</title>\r\n",
       "<path fill=\"none\" stroke=\"black\" d=\"M127.04,-318.6C119.44,-311.45 108.34,-300.99 97.83,-291.11\"/>\r\n",
       "<polygon fill=\"black\" stroke=\"black\" points=\"100.4,-288.72 90.72,-284.41 95.61,-293.82 100.4,-288.72\"/>\r\n",
       "</g>\r\n",
       "<!-- 1223865232896 -->\r\n",
       "<g id=\"node5\" class=\"node\">\r\n",
       "<title>1223865232896</title>\r\n",
       "<polygon fill=\"lightblue\" stroke=\"black\" points=\"163.5,-404 109.5,-404 109.5,-374 163.5,-374 163.5,-404\"/>\r\n",
       "<text text-anchor=\"middle\" x=\"136.5\" y=\"-392\" font-family=\"monospace\" font-size=\"10.00\">a</text>\r\n",
       "<text text-anchor=\"middle\" x=\"136.5\" y=\"-381\" font-family=\"monospace\" font-size=\"10.00\"> ()</text>\r\n",
       "</g>\r\n",
       "<!-- 1223865232896&#45;&gt;1223864360192 -->\r\n",
       "<g id=\"edge3\" class=\"edge\">\r\n",
       "<title>1223865232896&#45;&gt;1223864360192</title>\r\n",
       "<path fill=\"none\" stroke=\"black\" d=\"M136.5,-373.54C136.5,-366.34 136.5,-357.53 136.5,-349.68\"/>\r\n",
       "<polygon fill=\"black\" stroke=\"black\" points=\"140,-349.69 136.5,-339.69 133,-349.69 140,-349.69\"/>\r\n",
       "</g>\r\n",
       "<!-- 1223864358080 -->\r\n",
       "<g id=\"node6\" class=\"node\">\r\n",
       "<title>1223864358080</title>\r\n",
       "<polygon fill=\"lightgrey\" stroke=\"black\" points=\"312,-338 211,-338 211,-319 312,-319 312,-338\"/>\r\n",
       "<text text-anchor=\"middle\" x=\"261.5\" y=\"-326\" font-family=\"monospace\" font-size=\"10.00\">AccumulateGrad</text>\r\n",
       "</g>\r\n",
       "<!-- 1223864358080&#45;&gt;1223865417152 -->\r\n",
       "<g id=\"edge4\" class=\"edge\">\r\n",
       "<title>1223864358080&#45;&gt;1223865417152</title>\r\n",
       "<path fill=\"none\" stroke=\"black\" d=\"M252.88,-318.6C246.02,-311.52 236.02,-301.2 226.53,-291.4\"/>\r\n",
       "<polygon fill=\"black\" stroke=\"black\" points=\"229.28,-289.21 219.81,-284.46 224.25,-294.08 229.28,-289.21\"/>\r\n",
       "</g>\r\n",
       "<!-- 1223864359952 -->\r\n",
       "<g id=\"node10\" class=\"node\">\r\n",
       "<title>1223864359952</title>\r\n",
       "<polygon fill=\"lightgrey\" stroke=\"black\" points=\"399,-283 262,-283 262,-242 399,-242 399,-283\"/>\r\n",
       "<text text-anchor=\"middle\" x=\"330.5\" y=\"-271\" font-family=\"monospace\" font-size=\"10.00\">Log2Backward0</text>\r\n",
       "<text text-anchor=\"middle\" x=\"330.5\" y=\"-260\" font-family=\"monospace\" font-size=\"10.00\">&#45;&#45;&#45;&#45;&#45;&#45;&#45;&#45;&#45;&#45;&#45;&#45;&#45;&#45;&#45;&#45;&#45;&#45;&#45;&#45;</text>\r\n",
       "<text text-anchor=\"middle\" x=\"330.5\" y=\"-249\" font-family=\"monospace\" font-size=\"10.00\">self: [saved tensor]</text>\r\n",
       "</g>\r\n",
       "<!-- 1223864358080&#45;&gt;1223864359952 -->\r\n",
       "<g id=\"edge10\" class=\"edge\">\r\n",
       "<title>1223864358080&#45;&gt;1223864359952</title>\r\n",
       "<path fill=\"none\" stroke=\"black\" d=\"M271.09,-318.6C278.81,-311.45 290.08,-300.99 300.73,-291.11\"/>\r\n",
       "<polygon fill=\"black\" stroke=\"black\" points=\"303.01,-293.77 307.96,-284.41 298.25,-288.64 303.01,-293.77\"/>\r\n",
       "</g>\r\n",
       "<!-- 1223865375696 -->\r\n",
       "<g id=\"node7\" class=\"node\">\r\n",
       "<title>1223865375696</title>\r\n",
       "<polygon fill=\"lightblue\" stroke=\"black\" points=\"288.5,-404 234.5,-404 234.5,-374 288.5,-374 288.5,-404\"/>\r\n",
       "<text text-anchor=\"middle\" x=\"261.5\" y=\"-392\" font-family=\"monospace\" font-size=\"10.00\">b</text>\r\n",
       "<text text-anchor=\"middle\" x=\"261.5\" y=\"-381\" font-family=\"monospace\" font-size=\"10.00\"> ()</text>\r\n",
       "</g>\r\n",
       "<!-- 1223865375696&#45;&gt;1223864358080 -->\r\n",
       "<g id=\"edge5\" class=\"edge\">\r\n",
       "<title>1223865375696&#45;&gt;1223864358080</title>\r\n",
       "<path fill=\"none\" stroke=\"black\" d=\"M261.5,-373.54C261.5,-366.34 261.5,-357.53 261.5,-349.68\"/>\r\n",
       "<polygon fill=\"black\" stroke=\"black\" points=\"265,-349.69 261.5,-339.69 258,-349.69 265,-349.69\"/>\r\n",
       "</g>\r\n",
       "<!-- 1223865416816 -->\r\n",
       "<g id=\"node8\" class=\"node\">\r\n",
       "<title>1223865416816</title>\r\n",
       "<polygon fill=\"lightgrey\" stroke=\"black\" points=\"171,-206 28,-206 28,-154 171,-154 171,-206\"/>\r\n",
       "<text text-anchor=\"middle\" x=\"99.5\" y=\"-194\" font-family=\"monospace\" font-size=\"10.00\">MulBackward0</text>\r\n",
       "<text text-anchor=\"middle\" x=\"99.5\" y=\"-183\" font-family=\"monospace\" font-size=\"10.00\">&#45;&#45;&#45;&#45;&#45;&#45;&#45;&#45;&#45;&#45;&#45;&#45;&#45;&#45;&#45;&#45;&#45;&#45;&#45;&#45;&#45;</text>\r\n",
       "<text text-anchor=\"middle\" x=\"99.5\" y=\"-172\" font-family=\"monospace\" font-size=\"10.00\">other: [saved tensor]</text>\r\n",
       "<text text-anchor=\"middle\" x=\"99.5\" y=\"-161\" font-family=\"monospace\" font-size=\"10.00\">self : [saved tensor]</text>\r\n",
       "</g>\r\n",
       "<!-- 1223865416816&#45;&gt;1223865414464 -->\r\n",
       "<g id=\"edge6\" class=\"edge\">\r\n",
       "<title>1223865416816&#45;&gt;1223865414464</title>\r\n",
       "<path fill=\"none\" stroke=\"black\" d=\"M114.23,-153.66C118.87,-145.69 124.08,-136.73 129.04,-128.19\"/>\r\n",
       "<polygon fill=\"black\" stroke=\"black\" points=\"131.94,-130.17 133.94,-119.76 125.89,-126.65 131.94,-130.17\"/>\r\n",
       "</g>\r\n",
       "<!-- 1223864358224&#45;&gt;1223865416816 -->\r\n",
       "<g id=\"edge7\" class=\"edge\">\r\n",
       "<title>1223864358224&#45;&gt;1223865416816</title>\r\n",
       "<path fill=\"none\" stroke=\"black\" d=\"M76.16,-241.6C79.04,-234.14 82.4,-225.41 85.66,-216.93\"/>\r\n",
       "<polygon fill=\"black\" stroke=\"black\" points=\"88.83,-218.46 89.15,-207.87 82.29,-215.94 88.83,-218.46\"/>\r\n",
       "</g>\r\n",
       "<!-- 1223864359952&#45;&gt;1223865416816 -->\r\n",
       "<g id=\"edge9\" class=\"edge\">\r\n",
       "<title>1223864359952&#45;&gt;1223865416816</title>\r\n",
       "<path fill=\"none\" stroke=\"black\" d=\"M273.4,-241.6C245.79,-231.98 212.14,-220.25 181.83,-209.69\"/>\r\n",
       "<polygon fill=\"black\" stroke=\"black\" points=\"183.28,-206.49 172.69,-206.5 180.98,-213.1 183.28,-206.49\"/>\r\n",
       "</g>\r\n",
       "</g>\r\n",
       "</svg>\r\n"
      ],
      "text/plain": [
       "<graphviz.dot.Digraph at 0x11cf4103bb0>"
      ]
     },
     "execution_count": 108,
     "metadata": {},
     "output_type": "execute_result"
    }
   ],
   "source": [
    "torchviz.make_dot(e,show_attrs=True, params=dict([('a',a),('b',b),('e',e)]))"
   ]
  },
  {
   "cell_type": "code",
   "execution_count": 21,
   "metadata": {},
   "outputs": [
    {
     "name": "stdout",
     "output_type": "stream",
     "text": [
      "True\n",
      "True\n",
      "<MulBackward0 object at 0x000001EAFA1A98E0>\n",
      "True\n",
      "True\n"
     ]
    }
   ],
   "source": [
    "print(id(e.grad_fn._saved_self)==id(c))\n",
    "print(id(e.grad_fn._saved_other)==id(d))\n",
    "print(id(e.grad_fn.next_functions[0][0])==id(c.grad_fn))\n",
    "print(id(e.grad_fn.next_functions[1][0])==id(d.grad_fn))\n",
    "\n"
   ]
  },
  {
   "cell_type": "code",
   "execution_count": 18,
   "metadata": {},
   "outputs": [
    {
     "name": "stdout",
     "output_type": "stream",
     "text": [
      "tensor(2.) tensor(2.)\n",
      "tensor(10.6562) tensor(4.1640)\n"
     ]
    }
   ],
   "source": [
    "with torch.no_grad():\n",
    "    #the gradients are accumulated, we need to reset\n",
    "    a.grad,b.grad=None,None\n",
    "\n",
    "    dedc,dedd=e.grad_fn(torch.tensor(1.))\n",
    "    #gradient functions of C and D\n",
    "    CgradFn=e.grad_fn.next_functions[0][0]\n",
    "    DgradFn=e.grad_fn.next_functions[1][0]\n",
    "    # apply to the last values\n",
    "    deda,dedb=CgradFn(dedc)\n",
    "    dedloga,dedlogb=DgradFn(dedd)\n",
    "    \n",
    "    # the \"C\" branch ends and accumulates in .grad\n",
    "    accA1=CgradFn.next_functions[0][0]\n",
    "    accB1=CgradFn.next_functions[1][0]\n",
    "    accA1(deda)\n",
    "    accB1(dedb)\n",
    "    print(a.grad,b.grad)\n",
    "    # the \"D\" branch has unamed nodes, loga and logb\n",
    "    LogAgradFn=DgradFn.next_functions[0][0]\n",
    "    LogBgradFn=DgradFn.next_functions[1][0]\n",
    "\n",
    "    #apply to the last values\n",
    "    deda=LogAgradFn(dedloga)\n",
    "    dedb=LogBgradFn(dedlogb)\n",
    "    # the \"D\" branch ends and accumulates in .grad\n",
    "    accA=LogAgradFn.next_functions[0][0]\n",
    "    accA(deda)\n",
    "    accB=LogBgradFn.next_functions[0][0]\n",
    "    accB(dedb)\n",
    "    print(a.grad,b.grad)\n"
   ]
  },
  {
   "cell_type": "markdown",
   "metadata": {},
   "source": [
    "Rather than perform all the above operations manually, we can write a recursive function to go over all the nodes in the graph and computes the grads."
   ]
  },
  {
   "cell_type": "code",
   "execution_count": 19,
   "metadata": {},
   "outputs": [],
   "source": [
    "def preorder(grad_fn,input):\n",
    "    vals=grad_fn(input)\n",
    "    if isinstance(vals,tuple):\n",
    "        for (f,idx),val in zip(grad_fn.next_functions,vals):\n",
    "            preorder(f,val)\n",
    "    else:\n",
    "        preorder(grad_fn.next_functions[0][0],vals)"
   ]
  },
  {
   "cell_type": "code",
   "execution_count": 20,
   "metadata": {},
   "outputs": [],
   "source": [
    "with torch.no_grad():\n",
    "    a.grad,b.grad=None,None\n",
    "    preorder(e.grad_fn,torch.tensor(1.))"
   ]
  },
  {
   "cell_type": "code",
   "execution_count": 21,
   "metadata": {},
   "outputs": [
    {
     "name": "stdout",
     "output_type": "stream",
     "text": [
      "tensor(10.6562) tensor(4.1640)\n"
     ]
    }
   ],
   "source": [
    "print(a.grad,b.grad)"
   ]
  }
 ],
 "metadata": {
  "kernelspec": {
   "display_name": "Python 3",
   "language": "python",
   "name": "python3"
  },
  "language_info": {
   "codemirror_mode": {
    "name": "ipython",
    "version": 3
   },
   "file_extension": ".py",
   "mimetype": "text/x-python",
   "name": "python",
   "nbconvert_exporter": "python",
   "pygments_lexer": "ipython3",
   "version": "3.9.6"
  },
  "vscode": {
   "interpreter": {
    "hash": "81794d4967e6c3204c66dcd87b604927b115b27c00565d3d43f05ba2f3a2cb0d"
   }
  }
 },
 "nbformat": 4,
 "nbformat_minor": 2
}
