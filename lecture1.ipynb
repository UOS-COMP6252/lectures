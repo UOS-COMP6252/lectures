{
 "cells": [
  {
   "cell_type": "markdown",
   "metadata": {},
   "source": [
    "# COMP6252-Lecture1\n",
    "\n",
    "In this lecture we introduce basic concepts that we will be using throughout COMP6252. This is done with the help of the simplest model. In this session you will learn\n",
    "\n",
    "1. Supervised Learning\n",
    "1. Loss function\n",
    "1. Minimizing the loss function\n",
    "1. Gradient descent\n",
    "1. PyTorch Basics\n"
   ]
  },
  {
   "cell_type": "markdown",
   "metadata": {},
   "source": [
    "## Prerequisites\n",
    "\n",
    "This session assumes that you are familiar with basic calculus and Python. A good introduction to Python can be found in [Tutorial](https://docs.python.org/3/tutorial/)"
   ]
  },
  {
   "cell_type": "markdown",
   "metadata": {},
   "source": [
    "## Supervised Learning - Regression\n",
    "\n",
    "In supervised learning we are given a set of $n$ observations $\\{(x_i,y_i),i=0,\\ldots,n-1\\}$, where $x$ and $y$ are the independent/dependent (possibly multidimensional) variables respectively. \n",
    "\n",
    "In a regression problem, the $y_i$'s are values in some subset of $R^n$, and we are asked to predict the value of $y$ corresponding to an arbitrary value of $x$.\n",
    "In a classification problem, the $y_i$'s are labels in a discrete set $\\{1\\ldots n\\}$, and we are asked to find the correct label (i.e. classify) $y$ for an arbitrary $x$\n",
    "\n",
    "The underlying assumption is that there is some **unknown** function $h$ that maps the values of $x$ to values of $y$ and our task is to find an **approximation** for $h$.\n",
    "\n",
    "In this session we will tackle a regression problem. The simplest model for approximating $h$ is a linear(in the unknown parameters) function $f(x)=\\sum_k\\beta_k\\phi_k(x)$ where $\\beta_k$ are parameters to be determined and $\\phi$ are **known** functions.\n",
    "For example, for a straight line, $\\phi_0(x)=1$,$\\phi_1(x)=x$ and we need to determine the **best** values of $\\beta_0$ and $\\beta_1$."
   ]
  },
  {
   "cell_type": "markdown",
   "metadata": {},
   "source": [
    "## Linear Regression\n",
    "\n",
    "In this notebook we introduce the simplest of models: linear regression. The simplicity of the model and the fact that we can obtain a closed form solution makes an excellent example to illustrate concepts that will be used in the remainder of this module."
   ]
  },
  {
   "cell_type": "markdown",
   "metadata": {},
   "source": [
    "### Loss\n",
    "\n",
    "The best values for the parameters are the ones that give us $y$ as close as possible to the observed values. One option is to choose the parameters that give us the **smallest** mean square error\n",
    "\n",
    "\\begin{align*}\n",
    "L=\\frac{1}{n}\\sum_i\\left(y_i -f(x_i)\\right)^2\n",
    "\\end{align*}\n",
    "\n",
    "From calculus, the minimum (for a convex function) occurs when the derivative is zero. Therefore, the best value for the parameters are the ones that make the derivative of the loss function zero. In other words, to find the best values for $\\beta$ we need to solve the equation:\n",
    "\n",
    "\\begin{align*}\n",
    "\\frac{\\partial f}{\\partial\\beta}=0\n",
    "\\end{align*}\n",
    "\n",
    "Fortunately, for this simple model, we can obtain a solution in closed form\n",
    "\n",
    "$$\\begin{align*}\\beta=(\\Phi\\Phi^T)^{-1}\\Phi y\\end{align*}$$\n",
    "\n",
    "Where\n",
    "$$\\Phi_{ki}=\\phi_k(x_i)$$\n",
    "\n",
    "\n",
    "**Optional**: If you are interested in how the above result was obtained click on the arrow below.\n",
    "\n",
    "<details>\n",
    "<summary>Click here</summary>\n",
    "Assume that the model is linear:\n",
    "\n",
    "$$f(x,\\beta)=\\sum_k\\beta_k\\phi_k(x)$$\n",
    "\n",
    "Then the loss function can be written as \n",
    "$$\\begin{align*} L&=\\sum_i \\left(y_i-f(x_i)\\right)^2\\\\&=\\sum_i\\left(y_i-\\sum_k\\beta_k\\phi_k(x_i)\\right)^2\\end{align*}$$\n",
    "taking the derivative with respect to parameter $\\beta_l$ we get\n",
    "$$\\begin{align*}\\frac{\\partial L}{\\partial\\beta_l}&=\\\\\n",
    "&=2\\sum_i\\left(\\ y_i\\sum_k\\beta_k\\phi_k(z_i)\\right)\\frac{\\partial}{\\partial\\beta_l}\\left(y_i-\\sum_k\\beta_k\\phi_k(x_i)\\right)\\\\\n",
    "&=-2\\sum_i\\left(y_i -\\sum_k\\beta_k\\phi_k(x_i)\\right)\\phi_l(x_i)\\\\\n",
    "&=-2\\sum_iy_i\\phi_l(x_i)+2\\sum_i\\phi_l(x_i)\\sum_k\\beta_k\\phi_k(x_i)\n",
    "\\end{align*}$$\n",
    "\n",
    "To write the above in matrix form let $\\Phi_{ki}=\\phi_k(x_i)$ then\n",
    "    \n",
    "$$\n",
    "\\begin{align*}\n",
    "\\frac{\\partial L}{\\partial \\beta_l}=-2\\Phi y+2\\Phi(\\Phi^T\\beta)\n",
    "\\end{align*}$$\n",
    "    \n",
    "    \n",
    "setting the derivatives to zero we finally get\n",
    "$$\\Phi y=\\Phi(\\Phi^T\\beta)$$\n",
    "and solving for $\\beta$\n",
    "$$\\beta=(\\Phi\\Phi^T)^{-1}\\Phi y$$\n",
    "\n",
    "</details>\n",
    "\n",
    "### Special case: line model\n",
    "\n",
    "In the special case of assuming the model is a straight line, i.e. $y=\\beta_0+\\beta_1 x$ we have  $\\phi_0(x_i)=1$, $\\phi_1(x_i)=x_i$.\n",
    "Therefore the matrix $\\Phi$ becomes:\n",
    "\n",
    "\\begin{bmatrix} 1 & 1 & \\ldots & 1 \\\\ \n",
    "   x_0 & x_1 & \\ldots & x_{n-1}\n",
    "\\end{bmatrix}\n",
    "\n",
    "\n",
    "\n"
   ]
  },
  {
   "cell_type": "markdown",
   "metadata": {},
   "source": [
    "## Implementation in Python\n",
    "\n",
    "In this section the special case of the straight line model is implemented in Python."
   ]
  },
  {
   "cell_type": "code",
   "execution_count": 52,
   "metadata": {},
   "outputs": [],
   "source": [
    "import numpy as np\n",
    "import pandas as pd"
   ]
  },
  {
   "cell_type": "code",
   "execution_count": 53,
   "metadata": {},
   "outputs": [],
   "source": [
    "# generate 20 equidistant points\n",
    "x=np.array([ i for i in range (1,20)])\n",
    "x=x/np.max(x)\n",
    "a=5.0\n",
    "b=3.0\n",
    "# generate y from x using a straight line, with some random noise\n",
    "# use a slope of a (i.e. beta1) and intercept (i.e. beta0) of b\n",
    "y=np.array([a*z+np.random.uniform()+b for z in x])\n",
    "X=np.vstack((np.ones(x.shape[0]),x))\n",
    "XT=X.T\n",
    "# Compute product of X with X transpose\n",
    "r=np.matmul(X,XT)\n",
    "# Compute the inverse\n",
    "rinv=np.linalg.inv(r)"
   ]
  },
  {
   "cell_type": "code",
   "execution_count": 3,
   "metadata": {},
   "outputs": [
    {
     "name": "stdout",
     "output_type": "stream",
     "text": [
      "[3.27844583 5.21694458]\n"
     ]
    }
   ],
   "source": [
    "beta=np.matmul(rinv,np.matmul(X,y))\n",
    "closed_form=[beta[0]+beta[1]*x for x in x]\n",
    "print(beta)\n"
   ]
  },
  {
   "cell_type": "code",
   "execution_count": 4,
   "metadata": {},
   "outputs": [
    {
     "data": {
      "image/png": "[encoded data removed]",
      "text/plain": [
       "<Figure size 640x480 with 1 Axes>"
      ]
     },
     "metadata": {},
     "output_type": "display_data"
    }
   ],
   "source": [
    "\n",
    "import matplotlib.pyplot as plt\n",
    "fig,ax=plt.subplots()\n",
    "ax.plot(x,y,'o')\n",
    "ax.plot(x,closed_form)\n",
    "ax.set_xlim([0,np.max(x)+1])\n",
    "ax.set_ylim([0,np.max(y)+1])\n",
    "plt.show()"
   ]
  },
  {
   "cell_type": "markdown",
   "metadata": {},
   "source": [
    "## Gradient Descent\n",
    "\n",
    "In many situations the roots of the equation cannot be found in closed form. An alternative is to use **gradient descent**. The idea is to update the parameters in the opposite direction of the gradient. By iterating the procedure we hope to find the values of the parameters that make the gradient vanish.\n",
    "\n",
    "The above strategy is illustrated in the figure below:\n",
    "1. When the gradient is negative, $\\beta$ needs to be **incremented**\n",
    "2. When the gradient is positive, $\\beta$ needs to be **decremented**\n",
    "\n",
    "The question of **how much** to increment/decrement remains. From the figure below it is clear that a large increment/decrement would make the value of $\\beta$ **overshoot** the minimum. This is why the increment/decrements are controlled by a **learning rate**. Therefore, for gradient descent, the parameters are updated using\n",
    "\n",
    "\\begin{align*}\n",
    "\\beta_{new}=\\beta_{old}-rate\\times\\frac{\\partial L}{\\partial\\beta}\n",
    "\\end{align*}\n"
   ]
  },
  {
   "cell_type": "code",
   "execution_count": 5,
   "metadata": {},
   "outputs": [
    {
     "data": {
      "image/png": "[encoded data removed]",
      "text/plain": [
       "<Figure size 640x480 with 1 Axes>"
      ]
     },
     "metadata": {},
     "output_type": "display_data"
    }
   ],
   "source": [
    "%matplotlib inline\n",
    "v=[0.1*i for i in range(1,100)]\n",
    "u=[(v-5)**2+2 for v in v]\n",
    "fig,ax=plt.subplots()\n",
    "ax.plot(v,u)\n",
    "ax.arrow(8.8,15,-0.35,-2.5,head_width=0.2)\n",
    "ax.arrow(1.2,15,0.35,-2.5,head_width=0.2)\n",
    "ax.text(0.4,15.2,r\"$\\frac{\\partial L}{\\partial\\beta}<0$\")\n",
    "ax.text(8.9,15.2,r\"$\\frac{\\partial L}{\\partial\\beta}>0$\")\n",
    "ax.set_xlabel(r\"$\\beta$\")\n",
    "ax.set_ylabel(r\"L (loss)\")\n",
    "plt.show()\n"
   ]
  },
  {
   "cell_type": "code",
   "execution_count": 6,
   "metadata": {},
   "outputs": [
    {
     "name": "stdout",
     "output_type": "stream",
     "text": [
      "[3.28948091 5.19732238]\n"
     ]
    }
   ],
   "source": [
    "\n",
    "beta=np.random.uniform(size=(2))\n",
    "path=[]\n",
    "def gradient(beta):\n",
    "    a=-2*np.matmul(X,y)\n",
    "    b=2*np.matmul(X,np.matmul(XT,beta))\n",
    "    return a+b\n",
    "\n",
    "rate=0.01\n",
    "for i in range(200):\n",
    "    db=gradient(beta)\n",
    "    beta=beta-rate*db\n",
    "    if(i%10==0):\n",
    "        path.append(beta)\n",
    "print(beta)\n"
   ]
  },
  {
   "cell_type": "code",
   "execution_count": 7,
   "metadata": {
    "scrolled": true
   },
   "outputs": [
    {
     "data": {
      "image/png": "[encoded data removed]",
      "text/plain": [
       "<Figure size 640x480 with 1 Axes>"
      ]
     },
     "metadata": {},
     "output_type": "display_data"
    }
   ],
   "source": [
    "#%matplotlib notebook\n",
    "from matplotlib.animation import FuncAnimation\n",
    "\n",
    "fig,ax=plt.subplots()\n",
    "def line(p,x):\n",
    "    return [p[0]+p[1]*x for x in x]\n",
    "\n",
    "def animate(i):\n",
    "    #print(\"i is {}\".format(i))\n",
    "    ax.clear()\n",
    "    ax.plot(x,y,'o')\n",
    "    ax.plot(x,closed_form,'--',color='blue')\n",
    "    ax.plot(x,line(path[i],x),color='red')\n",
    "    ax.set_xlim([0,np.max(x)])\n",
    "    ax.set_ylim([0,np.max(y)])\n",
    "\n",
    "an=FuncAnimation(fig, animate, frames=20, interval=500, repeat=False)\n",
    "\n",
    "plt.show()"
   ]
  },
  {
   "cell_type": "markdown",
   "metadata": {},
   "source": [
    "## Using PyTorch\n",
    "In this section we will repeat the same computation as in the last one, but using PyTorch.\n",
    "This allows us to introduce PyTorch concepts and terminologies to an already solved problem.\n",
    "First we introduce some basic types used by PyTorch."
   ]
  },
  {
   "cell_type": "markdown",
   "metadata": {},
   "source": [
    "### PyTorch basics\n",
    "\n",
    "The basic type in PyTorch that we will be using is a ```tensor```. According to [PyTorch documentation](https://pytorch.org/docs/stable/tensors.html) a ```tensor``` is a multidimensional matrix containing elements of a single data type.\n"
   ]
  },
  {
   "cell_type": "code",
   "execution_count": 29,
   "metadata": {},
   "outputs": [
    {
     "name": "stdout",
     "output_type": "stream",
     "text": [
      "b=tensor([[1., 2., 3.],\n",
      "        [4., 5., 6.]], dtype=torch.float64)\n",
      "b has dimensions torch.Size([2, 3])\n",
      "b has dimensions (2, 3)\n",
      "tensor(1.)\n",
      "torch.Size([])\n",
      "single value in a is 1.0\n"
     ]
    }
   ],
   "source": [
    "\n",
    "# A (1x2)=dim tensor\n",
    "b=torch.tensor([[1,2,3],[4,5,6]],dtype=torch.float64)\n",
    "print(\"b={}\".format(b))\n",
    "print(\"b has dimensions {}\".format(b.shape))\n",
    "#torch.Size() is iterable so we can create a list or tuple\n",
    "print(\"b has dimensions {}\".format(tuple(b.shape)))\n",
    "\n",
    "# A 0-dim tensor\n",
    "a=torch.tensor(1,dtype=torch.float32)\n",
    "print(a)\n",
    "print(a.shape)\n",
    "# use .item() to extract a scalar from a 0-d tensor\n",
    "print(\"single value in a is {}\".format(a.item()))"
   ]
  },
  {
   "cell_type": "markdown",
   "metadata": {},
   "source": [
    "#### Useful functions on tensors"
   ]
  },
  {
   "cell_type": "code",
   "execution_count": 50,
   "metadata": {},
   "outputs": [
    {
     "name": "stdout",
     "output_type": "stream",
     "text": [
      "tensor([[0., 0., 0.],\n",
      "        [0., 0., 0.]])\n",
      "tensor([[1., 1.],\n",
      "        [1., 1.],\n",
      "        [1., 1.],\n",
      "        [1., 1.]])\n",
      "tensor([[0.8119, 0.5927, 0.2182],\n",
      "        [0.4232, 0.0736, 0.1916]])\n",
      "tensor([[1., 1., 1.],\n",
      "        [1., 1., 1.]])\n",
      "a=\n",
      "tensor([[1, 2, 3],\n",
      "        [4, 5, 6]])\n",
      "transpose of a=\n",
      "tensor([[1, 4],\n",
      "        [2, 5],\n",
      "        [3, 6]])\n",
      "tensor([[1, 2, 3],\n",
      "        [4, 5, 6]])\n"
     ]
    }
   ],
   "source": [
    "# Create a tensor of dimensions (2,3) whose values are all zeros \n",
    "a=torch.zeros([2,3])\n",
    "print(a)\n",
    "# Same as above but filled with ones\n",
    "a=torch.ones([4,2])\n",
    "print(a)\n",
    "# Same as above but filled with random values from a uniform distribution over [0,1] \n",
    "# https://pytorch.org/docs/stable/generated/torch.rand.html\n",
    "# See also randn for a normal distribution\n",
    "#https://pytorch.org/docs/stable/generated/torch.randn.html\n",
    "a=torch.rand([2,3])\n",
    "print(a)\n",
    "# A tensor filled with ones that has the same dimensions as tensor a\n",
    "b=torch.ones_like(a)\n",
    "print(b)\n",
    "\n",
    "# Transpose a tensor\n",
    "a=torch.tensor([[1,2,3],[4,5,6]])\n",
    "print(\"a=\")\n",
    "print(a)\n",
    "print(\"transpose of a=\")\n",
    "print(a.transpose(0,1))"
   ]
  },
  {
   "cell_type": "markdown",
   "metadata": {},
   "source": [
    "## Computing the gradient\n",
    "\n",
    "When using PyTorch, a explicit form for the gradient is not necessary. PyTorch can compute the gradient of any loss function with respect to the parameters using the ```autograd.grad``` function ([docs](https://pytorch.org/docs/stable/generated/torch.autograd.grad.html)).\n",
    "\n",
    "Other than that, the parameters, the tensors with respect to which we need to compute the gradient, should have```requires_grad=True```"
   ]
  },
  {
   "cell_type": "code",
   "execution_count": 61,
   "metadata": {},
   "outputs": [],
   "source": [
    "# A PyTorch tensor is more than a mathematical tensor containing data\n",
    "# It is an object that includes properties that allows PyTorch to perform differentiation \n",
    "# with respect to tensors\n",
    "\n",
    "import torch\n",
    "import torch.autograd as autograd\n",
    "rate=0.1\n",
    "tensor_X=torch.tensor(X,dtype=torch.float32)\n",
    "tensor_y=torch.tensor(y,dtype=torch.float32)\n",
    "tensor_XT=torch.transpose(tensor_X,0,1)\n",
    "\n",
    "# To be able to compute the gradient with respect to beta\n",
    "tensor_beta=torch.rand(2,requires_grad=True)"
   ]
  },
  {
   "cell_type": "markdown",
   "metadata": {},
   "source": [
    "### Gradient descent"
   ]
  },
  {
   "cell_type": "code",
   "execution_count": 62,
   "metadata": {},
   "outputs": [
    {
     "name": "stdout",
     "output_type": "stream",
     "text": [
      "tensor([3.7170, 4.5971], requires_grad=True)\n"
     ]
    }
   ],
   "source": [
    "for i in range(200):\n",
    "    # mean square error\n",
    "    loss=torch.dot(tensor_y-torch.matmul(tensor_beta,tensor_X),tensor_y-torch.matmul(tensor_beta,tensor_X))/tensor_y.size()[0]\n",
    "    # compute the gradient of the loss function wrt tensor_beta\n",
    "    db=autograd.grad(loss,tensor_beta)\n",
    "    # update tensor_beta according to the gradient values\n",
    "    # grad always returns a tuple, even if it contains a single element\n",
    "    tensor_beta.data-=rate*db[0]\n",
    "print(tensor_beta)"
   ]
  }
 ],
 "metadata": {
  "kernelspec": {
   "display_name": "Python 3 (ipykernel)",
   "language": "python",
   "name": "python3"
  },
  "language_info": {
   "codemirror_mode": {
    "name": "ipython",
    "version": 3
   },
   "file_extension": ".py",
   "mimetype": "text/x-python",
   "name": "python",
   "nbconvert_exporter": "python",
   "pygments_lexer": "ipython3",
   "version": "3.10.6"
  },
  "vscode": {
   "interpreter": {
    "hash": "916dbcbb3f70747c44a77c7bcd40155683ae19c65e1c03b4aa3499c5328201f1"
   }
  }
 },
 "nbformat": 4,
 "nbformat_minor": 2
}
